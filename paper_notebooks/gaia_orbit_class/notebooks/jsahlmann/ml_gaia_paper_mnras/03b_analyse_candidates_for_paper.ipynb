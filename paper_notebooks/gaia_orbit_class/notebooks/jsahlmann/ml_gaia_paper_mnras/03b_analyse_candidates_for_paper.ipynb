{
 "cells": [
  {
   "cell_type": "markdown",
   "id": "cdaa7e6f-3526-47df-89ff-9942d37eaf12",
   "metadata": {},
   "source": [
    "# Analyse promising candidates\n",
    "\n",
    "### 2023-11-16 - 2024-04-17 Johannes Sahlmann\n",
    "\n",
    "- generate Figure 3\n",
    "- generate several tables"
   ]
  },
  {
   "cell_type": "markdown",
   "id": "0c3b97a6-7005-4bb9-bbd9-3b188b29ed32",
   "metadata": {},
   "source": [
    "Gaia Data Release 3. Stellar multiplicity, a teaser for the hidden treasure\n",
    "https://ui.adsabs.harvard.edu/abs/2023A%26A...674A..34G/abstract\n",
    "\n",
    "\n",
    "Table 11"
   ]
  },
  {
   "cell_type": "code",
   "execution_count": 1,
   "id": "fe8049ba-2d8a-43c3-8f67-d556b186ed51",
   "metadata": {
    "tags": []
   },
   "outputs": [
    {
     "name": "stdout",
     "output_type": "stream",
     "text": [
      "universal_helpers not available\n"
     ]
    }
   ],
   "source": [
    "%load_ext autoreload\n",
    "%autoreload 2\n",
    "%reload_ext autoreload\n",
    "\n",
    "import logging\n",
    "import os\n",
    "import numpy as np\n",
    "import pandas as pd\n",
    "import matplotlib.pyplot as pl\n",
    "from pystrometry.utils.archives import get_gaiadr_data\n",
    "import matplotlib as mp\n",
    "from pystrometry.utils import du437_tools\n",
    "\n",
    "# import matplotlib.pyplot as pl"
   ]
  },
  {
   "cell_type": "code",
   "execution_count": 2,
   "id": "85ea64e5-0f1c-47b5-babf-28db07c29c56",
   "metadata": {},
   "outputs": [],
   "source": [
    "logger = logging.getLogger()\n",
    "logger.setLevel(logging.INFO)"
   ]
  },
  {
   "cell_type": "code",
   "execution_count": 3,
   "id": "682042fb-bc24-4ca3-b84b-a6083d66274a",
   "metadata": {},
   "outputs": [],
   "source": [
    "overwrite = False\n",
    "# overwrite_labelled_list = False\n",
    "# overwrite_labelled_list = True\n",
    "\n",
    "# dataset_tag = 'v0.0'\n",
    "# dataset_tag = 'v0.1'\n",
    "# dataset_tag = 'v0.4'\n",
    "dataset_tag = 'v0.6'\n",
    "data_path = f'/media/team_workspaces/Gaia-Orbit-Classification/sandbox/dataset_{dataset_tag}'\n",
    "\n",
    "# plot_dir = '/media/team_workspaces/Gaia-Orbit-Classification/jsahlmann/figures'\n",
    "plot_dir = os.path.join(data_path, 'figures')\n",
    "os.makedirs(plot_dir, exist_ok=True)\n",
    "\n",
    "    "
   ]
  },
  {
   "cell_type": "code",
   "execution_count": 4,
   "id": "b7916737-c21d-4c28-9040-42f9d565fe1c",
   "metadata": {},
   "outputs": [
    {
     "name": "stderr",
     "output_type": "stream",
     "text": [
      "INFO:root:Read 1845 rows from  /media/team_workspaces/Gaia-Orbit-Classification/sandbox/dataset_v0.6/labelled_sources.parquet\n"
     ]
    }
   ],
   "source": [
    "outfile = os.path.join(data_path, 'labelled_sources.parquet')\n",
    "labelled_sources = pd.read_parquet(outfile)\n",
    "logging.info(f\"Read {len(labelled_sources)} rows from  {outfile}\")"
   ]
  },
  {
   "cell_type": "code",
   "execution_count": 5,
   "id": "2c1e713a-ec60-499e-b2ef-3a89cc8d331e",
   "metadata": {
    "tags": []
   },
   "outputs": [
    {
     "data": {
      "text/plain": [
       "label\n",
       "substellar_companion_candidates           1787\n",
       "better_substellar_companion_candidates      26\n",
       "brown_dwarf_companion                       14\n",
       "exoplanet                                   10\n",
       "binary_star                                  3\n",
       "very_low_mass_stellar_companion              3\n",
       "false_positive_orbit                         2\n",
       "Name: count, dtype: int64"
      ]
     },
     "execution_count": 5,
     "metadata": {},
     "output_type": "execute_result"
    }
   ],
   "source": [
    "labelled_sources['label'].value_counts()\n",
    "# display(labelled_sources)"
   ]
  },
  {
   "cell_type": "code",
   "execution_count": 6,
   "id": "07e70481-1cde-4194-9f38-4b96e0f44887",
   "metadata": {
    "tags": []
   },
   "outputs": [
    {
     "data": {
      "text/plain": [
       "Index(['source_id', 'reference', 'label', 'id'], dtype='object')"
      ]
     },
     "execution_count": 6,
     "metadata": {},
     "output_type": "execute_result"
    }
   ],
   "source": [
    "labelled_sources.columns"
   ]
  },
  {
   "cell_type": "markdown",
   "id": "416e97be-9fa5-4018-9cbb-67aea1da6f19",
   "metadata": {},
   "source": [
    "## Check that these sources are in the provided dataset\n",
    "### read selected astrometric orbits"
   ]
  },
  {
   "cell_type": "code",
   "execution_count": 7,
   "id": "c0705617-5302-4db8-90a3-e62306b4c25b",
   "metadata": {
    "tags": []
   },
   "outputs": [
    {
     "name": "stderr",
     "output_type": "stream",
     "text": [
      "INFO:root:Dataset has 169129 unique source_ids, i.e. 0 duplicate source_ids\n"
     ]
    },
    {
     "data": {
      "text/plain": [
       "nss_solution_type\n",
       "Orbital                           134598\n",
       "AstroSpectroSB1                    33467\n",
       "OrbitalAlternative                   619\n",
       "OrbitalTargetedSearch                339\n",
       "OrbitalTargetedSearchValidated        96\n",
       "OrbitalAlternativeValidated           10\n",
       "Name: count, dtype: int64"
      ]
     },
     "metadata": {},
     "output_type": "display_data"
    }
   ],
   "source": [
    "outfile = os.path.join(data_path, 'nss_two_body_orbit_astrometric_orbits.parquet')\n",
    "nss_selected = pd.read_parquet(outfile)\n",
    "\n",
    "gaia_source = pd.read_parquet(os.path.join(data_path, 'gaia_source_astrometric_orbits.parquet'))\n",
    "gaia_source = gaia_source.drop_duplicates(subset='source_id')\n",
    "\n",
    "nss_selected = nss_selected.merge(gaia_source, on='source_id', suffixes=('', '_gaia_source'))\n",
    "\n",
    "logging.info('Dataset has {} unique source_ids, i.e. {} duplicate source_ids'.format(len(nss_selected['source_id'].unique()), len(nss_selected)-len(nss_selected['source_id'].unique())))\n",
    "display(nss_selected['nss_solution_type'].value_counts())"
   ]
  },
  {
   "cell_type": "code",
   "execution_count": 8,
   "id": "99e7d2ff-b1f9-40b6-ad9b-55e8e67cc58a",
   "metadata": {
    "tags": []
   },
   "outputs": [],
   "source": [
    "assert np.all(labelled_sources['source_id'].isin(nss_selected['source_id']).values)"
   ]
  },
  {
   "cell_type": "markdown",
   "id": "9f773b41-d148-472f-8c8a-80b3a1acd287",
   "metadata": {},
   "source": [
    "## remove false positive orbits"
   ]
  },
  {
   "cell_type": "code",
   "execution_count": 9,
   "id": "25c1d76d-dbde-4c26-b356-5ef940fc5864",
   "metadata": {
    "tags": []
   },
   "outputs": [
    {
     "name": "stderr",
     "output_type": "stream",
     "text": [
      "INFO:root:Dataset has 169127 unique source_ids, i.e. 0 duplicate source_ids\n"
     ]
    }
   ],
   "source": [
    "remove_false_positives = True\n",
    "if remove_false_positives:\n",
    "    nss_selected = nss_selected[~nss_selected['source_id'].isin(labelled_sources.query(\"label == 'false_positive_orbit'\")['source_id'].values)]\n",
    "    labelled_sources = labelled_sources[~labelled_sources['label'].isin(['false_positive_orbit'])]\n",
    "    logging.info('Dataset has {} unique source_ids, i.e. {} duplicate source_ids'.format(len(nss_selected['source_id'].unique()), len(nss_selected)-len(nss_selected['source_id'].unique())))\n"
   ]
  },
  {
   "cell_type": "code",
   "execution_count": 10,
   "id": "7addab04-fa3b-4731-9c45-f367570e53a2",
   "metadata": {
    "tags": []
   },
   "outputs": [],
   "source": [
    "# new_candidates = \"\"\"522135261462534528\n",
    "# 5266148569447305600\n",
    "# 2884087104955208064\n",
    "# 2717981134566374272\n",
    "# 1897143408911208832\n",
    "# 3913728032959687424\n",
    "# 1610837178107032192\n",
    "# 2047188847334279424\"\"\".split('\\n')\n",
    "# new_candidates = np.array(new_candidates).astype(np.int64)\n",
    "# new_candidates"
   ]
  },
  {
   "cell_type": "code",
   "execution_count": 11,
   "id": "af6bdac6-2a59-4533-bd0b-a48dc37f6c02",
   "metadata": {},
   "outputs": [
    {
     "data": {
      "text/plain": [
       "'/media/team_workspaces/Gaia-Orbit-Classification/sandbox/dataset_v0.6'"
      ]
     },
     "execution_count": 11,
     "metadata": {},
     "output_type": "execute_result"
    }
   ],
   "source": [
    "data_path"
   ]
  },
  {
   "cell_type": "code",
   "execution_count": 12,
   "id": "80a42575-c10b-4e9b-a78e-6e9f09953581",
   "metadata": {},
   "outputs": [
    {
     "name": "stderr",
     "output_type": "stream",
     "text": [
      "INFO:root:Original file contains 227 candidates (/media/team_workspaces/Gaia-Orbit-Classification/sandbox/dataset_v0.6/candidates_2024_03_08.csv)\n"
     ]
    }
   ],
   "source": [
    "# new_candidates_all = pd.read_csv(os.path.join(data_path, 'candidates_top50.csv')) #['sourceId']\n",
    "# candidates_file = os.path.join(data_path, 'candidates_2024-01-10.csv')\n",
    "# candidates_file = os.path.join(data_path, 'candidates_2024_01_11.csv') # copy of team_workspaces/Gaia-Orbit-Classification/sandbox/results/2024_01_11/candidates.csv\n",
    "candidates_file = os.path.join(data_path, 'candidates_2024_03_08.csv') \n",
    "# candidates_file = os.path.join(data_path, 'candidates_no_rv_error_2024-03-14.csv') \n",
    "\n",
    "new_candidates_all = pd.read_csv(candidates_file) #['sourceId']\n",
    "logging.info(f\"Original file contains {len(new_candidates_all)} candidates ({candidates_file})\")\n",
    "assert len(new_candidates_all) == new_candidates_all['source_id'].nunique()\n",
    "# display(new_candidates_all.info())"
   ]
  },
  {
   "cell_type": "code",
   "execution_count": 13,
   "id": "8fde9ed3-7397-4c4f-88b5-52e5f830693d",
   "metadata": {
    "tags": []
   },
   "outputs": [
    {
     "data": {
      "text/plain": [
       "relative_occurence\n",
       "0.125    139\n",
       "0.250     51\n",
       "0.375     13\n",
       "0.500     10\n",
       "0.625      2\n",
       "0.750      5\n",
       "0.875      6\n",
       "1.000      1\n",
       "Name: count, dtype: int64"
      ]
     },
     "metadata": {},
     "output_type": "display_data"
    }
   ],
   "source": [
    "# new_candidates_all['relative_occurence'].hist(bins=50, log=True)\n",
    "# pl.xlabel('relative_occurence')\n",
    "# pl.title(dataset_tag)\n",
    "display(new_candidates_all['relative_occurence'].value_counts().sort_index())"
   ]
  },
  {
   "cell_type": "code",
   "execution_count": 14,
   "id": "68773d43-23a4-4428-a62a-c003428de493",
   "metadata": {
    "tags": []
   },
   "outputs": [
    {
     "data": {
      "text/plain": [
       "label\n",
       "substellar_companion_candidates           136\n",
       "better_substellar_companion_candidates      7\n",
       "Name: count, dtype: int64"
      ]
     },
     "execution_count": 14,
     "metadata": {},
     "output_type": "execute_result"
    }
   ],
   "source": [
    "new_candidates_all['label'].value_counts()"
   ]
  },
  {
   "cell_type": "code",
   "execution_count": 15,
   "id": "62ce3fcf-b363-4114-918d-d7a03346d8b4",
   "metadata": {
    "tags": []
   },
   "outputs": [
    {
     "name": "stderr",
     "output_type": "stream",
     "text": [
      "INFO:root:Cut on relative_occurence > 0.125 leaves 88 candidates\n"
     ]
    }
   ],
   "source": [
    "new_candidates = new_candidates_all[new_candidates_all['source_id']!=0]\n",
    "new_candidates = new_candidates[new_candidates['relative_occurence'] > 0.125]\n",
    "# new_candidates_all\n",
    "logging.info(f\"Cut on relative_occurence > 0.125 leaves {len(new_candidates)} candidates\")\n"
   ]
  },
  {
   "cell_type": "code",
   "execution_count": 16,
   "id": "c8d96e70-c548-47a0-bc69-574d09dfb81c",
   "metadata": {
    "tags": []
   },
   "outputs": [
    {
     "data": {
      "text/plain": [
       "label\n",
       "substellar_companion_candidates           66\n",
       "better_substellar_companion_candidates     7\n",
       "Name: count, dtype: int64"
      ]
     },
     "execution_count": 16,
     "metadata": {},
     "output_type": "execute_result"
    }
   ],
   "source": [
    "new_candidates['label'].value_counts()"
   ]
  },
  {
   "cell_type": "code",
   "execution_count": 17,
   "id": "1442f809-6b03-4e49-91f2-1885d5e59520",
   "metadata": {
    "tags": []
   },
   "outputs": [],
   "source": [
    "cols = ['source_id', 'label', 'relative_occurence', 'relative_occurence_ssc', 'relative_occurence_nss']\n",
    "# new_candidates[cols]"
   ]
  },
  {
   "cell_type": "code",
   "execution_count": 18,
   "id": "74a8b3c9-2c53-4673-8815-e74d4f88354c",
   "metadata": {
    "tags": []
   },
   "outputs": [
    {
     "name": "stderr",
     "output_type": "stream",
     "text": [
      "INFO:root:number of new_candidates_ssc: 73\n",
      "INFO:root:number of new_candidates_nss: 15\n"
     ]
    },
    {
     "data": {
      "text/html": [
       "<div>\n",
       "<style scoped>\n",
       "    .dataframe tbody tr th:only-of-type {\n",
       "        vertical-align: middle;\n",
       "    }\n",
       "\n",
       "    .dataframe tbody tr th {\n",
       "        vertical-align: top;\n",
       "    }\n",
       "\n",
       "    .dataframe thead th {\n",
       "        text-align: right;\n",
       "    }\n",
       "</style>\n",
       "<table border=\"1\" class=\"dataframe\">\n",
       "  <thead>\n",
       "    <tr style=\"text-align: right;\">\n",
       "      <th></th>\n",
       "      <th>source_id</th>\n",
       "      <th>label</th>\n",
       "      <th>relative_occurence</th>\n",
       "      <th>relative_occurence_ssc</th>\n",
       "      <th>relative_occurence_nss</th>\n",
       "    </tr>\n",
       "  </thead>\n",
       "  <tbody>\n",
       "    <tr>\n",
       "      <th>0</th>\n",
       "      <td>364792020789523584</td>\n",
       "      <td>substellar_companion_candidates</td>\n",
       "      <td>1.000</td>\n",
       "      <td>1.00</td>\n",
       "      <td>1.00</td>\n",
       "    </tr>\n",
       "    <tr>\n",
       "      <th>1</th>\n",
       "      <td>3913728032959687424</td>\n",
       "      <td>substellar_companion_candidates</td>\n",
       "      <td>0.875</td>\n",
       "      <td>1.00</td>\n",
       "      <td>0.75</td>\n",
       "    </tr>\n",
       "    <tr>\n",
       "      <th>2</th>\n",
       "      <td>1897143408911208832</td>\n",
       "      <td>substellar_companion_candidates</td>\n",
       "      <td>0.875</td>\n",
       "      <td>1.00</td>\n",
       "      <td>0.75</td>\n",
       "    </tr>\n",
       "    <tr>\n",
       "      <th>3</th>\n",
       "      <td>1610837178107032192</td>\n",
       "      <td>substellar_companion_candidates</td>\n",
       "      <td>0.875</td>\n",
       "      <td>1.00</td>\n",
       "      <td>0.75</td>\n",
       "    </tr>\n",
       "    <tr>\n",
       "      <th>4</th>\n",
       "      <td>1878822452815621120</td>\n",
       "      <td>substellar_companion_candidates</td>\n",
       "      <td>0.875</td>\n",
       "      <td>1.00</td>\n",
       "      <td>0.75</td>\n",
       "    </tr>\n",
       "    <tr>\n",
       "      <th>5</th>\n",
       "      <td>522135261462534528</td>\n",
       "      <td>substellar_companion_candidates</td>\n",
       "      <td>0.875</td>\n",
       "      <td>1.00</td>\n",
       "      <td>0.75</td>\n",
       "    </tr>\n",
       "    <tr>\n",
       "      <th>6</th>\n",
       "      <td>2540855308890440064</td>\n",
       "      <td>substellar_companion_candidates</td>\n",
       "      <td>0.875</td>\n",
       "      <td>1.00</td>\n",
       "      <td>0.75</td>\n",
       "    </tr>\n",
       "    <tr>\n",
       "      <th>7</th>\n",
       "      <td>3909531609393458688</td>\n",
       "      <td>substellar_companion_candidates</td>\n",
       "      <td>0.750</td>\n",
       "      <td>1.00</td>\n",
       "      <td>0.50</td>\n",
       "    </tr>\n",
       "    <tr>\n",
       "      <th>8</th>\n",
       "      <td>1156378820136922880</td>\n",
       "      <td>substellar_companion_candidates</td>\n",
       "      <td>0.750</td>\n",
       "      <td>1.00</td>\n",
       "      <td>0.50</td>\n",
       "    </tr>\n",
       "    <tr>\n",
       "      <th>9</th>\n",
       "      <td>2171489736355655680</td>\n",
       "      <td>substellar_companion_candidates</td>\n",
       "      <td>0.750</td>\n",
       "      <td>1.00</td>\n",
       "      <td>0.50</td>\n",
       "    </tr>\n",
       "    <tr>\n",
       "      <th>10</th>\n",
       "      <td>2884087104955208064</td>\n",
       "      <td>substellar_companion_candidates</td>\n",
       "      <td>0.750</td>\n",
       "      <td>0.75</td>\n",
       "      <td>0.75</td>\n",
       "    </tr>\n",
       "    <tr>\n",
       "      <th>11</th>\n",
       "      <td>1712614124767394816</td>\n",
       "      <td>substellar_companion_candidates</td>\n",
       "      <td>0.750</td>\n",
       "      <td>0.75</td>\n",
       "      <td>0.75</td>\n",
       "    </tr>\n",
       "    <tr>\n",
       "      <th>12</th>\n",
       "      <td>5773484949857279104</td>\n",
       "      <td>substellar_companion_candidates</td>\n",
       "      <td>0.625</td>\n",
       "      <td>0.75</td>\n",
       "      <td>0.50</td>\n",
       "    </tr>\n",
       "    <tr>\n",
       "      <th>13</th>\n",
       "      <td>6330529666839726592</td>\n",
       "      <td>substellar_companion_candidates</td>\n",
       "      <td>0.625</td>\n",
       "      <td>0.50</td>\n",
       "      <td>0.75</td>\n",
       "    </tr>\n",
       "  </tbody>\n",
       "</table>\n",
       "</div>"
      ],
      "text/plain": [
       "              source_id                            label  relative_occurence  \\\n",
       "0    364792020789523584  substellar_companion_candidates               1.000   \n",
       "1   3913728032959687424  substellar_companion_candidates               0.875   \n",
       "2   1897143408911208832  substellar_companion_candidates               0.875   \n",
       "3   1610837178107032192  substellar_companion_candidates               0.875   \n",
       "4   1878822452815621120  substellar_companion_candidates               0.875   \n",
       "5    522135261462534528  substellar_companion_candidates               0.875   \n",
       "6   2540855308890440064  substellar_companion_candidates               0.875   \n",
       "7   3909531609393458688  substellar_companion_candidates               0.750   \n",
       "8   1156378820136922880  substellar_companion_candidates               0.750   \n",
       "9   2171489736355655680  substellar_companion_candidates               0.750   \n",
       "10  2884087104955208064  substellar_companion_candidates               0.750   \n",
       "11  1712614124767394816  substellar_companion_candidates               0.750   \n",
       "12  5773484949857279104  substellar_companion_candidates               0.625   \n",
       "13  6330529666839726592  substellar_companion_candidates               0.625   \n",
       "\n",
       "    relative_occurence_ssc  relative_occurence_nss  \n",
       "0                     1.00                    1.00  \n",
       "1                     1.00                    0.75  \n",
       "2                     1.00                    0.75  \n",
       "3                     1.00                    0.75  \n",
       "4                     1.00                    0.75  \n",
       "5                     1.00                    0.75  \n",
       "6                     1.00                    0.75  \n",
       "7                     1.00                    0.50  \n",
       "8                     1.00                    0.50  \n",
       "9                     1.00                    0.50  \n",
       "10                    0.75                    0.75  \n",
       "11                    0.75                    0.75  \n",
       "12                    0.75                    0.50  \n",
       "13                    0.50                    0.75  "
      ]
     },
     "metadata": {},
     "output_type": "display_data"
    },
    {
     "data": {
      "text/html": [
       "<div>\n",
       "<style scoped>\n",
       "    .dataframe tbody tr th:only-of-type {\n",
       "        vertical-align: middle;\n",
       "    }\n",
       "\n",
       "    .dataframe tbody tr th {\n",
       "        vertical-align: top;\n",
       "    }\n",
       "\n",
       "    .dataframe thead th {\n",
       "        text-align: right;\n",
       "    }\n",
       "</style>\n",
       "<table border=\"1\" class=\"dataframe\">\n",
       "  <thead>\n",
       "    <tr style=\"text-align: right;\">\n",
       "      <th></th>\n",
       "      <th>source_id</th>\n",
       "      <th>label</th>\n",
       "      <th>relative_occurence</th>\n",
       "      <th>relative_occurence_ssc</th>\n",
       "      <th>relative_occurence_nss</th>\n",
       "    </tr>\n",
       "  </thead>\n",
       "  <tbody>\n",
       "    <tr>\n",
       "      <th>13</th>\n",
       "      <td>5484481960625470336</td>\n",
       "      <td>substellar_companion_candidates</td>\n",
       "      <td>0.500</td>\n",
       "      <td>0.75</td>\n",
       "      <td>0.25</td>\n",
       "    </tr>\n",
       "    <tr>\n",
       "      <th>14</th>\n",
       "      <td>5323844651848467968</td>\n",
       "      <td>substellar_companion_candidates</td>\n",
       "      <td>0.500</td>\n",
       "      <td>1.00</td>\n",
       "      <td>0.00</td>\n",
       "    </tr>\n",
       "    <tr>\n",
       "      <th>15</th>\n",
       "      <td>1576108450508750208</td>\n",
       "      <td>better_substellar_companion_candidates</td>\n",
       "      <td>0.500</td>\n",
       "      <td>1.00</td>\n",
       "      <td>0.00</td>\n",
       "    </tr>\n",
       "    <tr>\n",
       "      <th>16</th>\n",
       "      <td>2280560705703031552</td>\n",
       "      <td>substellar_companion_candidates</td>\n",
       "      <td>0.375</td>\n",
       "      <td>0.75</td>\n",
       "      <td>0.00</td>\n",
       "    </tr>\n",
       "  </tbody>\n",
       "</table>\n",
       "</div>"
      ],
      "text/plain": [
       "              source_id                                   label  \\\n",
       "13  5484481960625470336         substellar_companion_candidates   \n",
       "14  5323844651848467968         substellar_companion_candidates   \n",
       "15  1576108450508750208  better_substellar_companion_candidates   \n",
       "16  2280560705703031552         substellar_companion_candidates   \n",
       "\n",
       "    relative_occurence  relative_occurence_ssc  relative_occurence_nss  \n",
       "13               0.500                    0.75                    0.25  \n",
       "14               0.500                    1.00                    0.00  \n",
       "15               0.500                    1.00                    0.00  \n",
       "16               0.375                    0.75                    0.00  "
      ]
     },
     "metadata": {},
     "output_type": "display_data"
    },
    {
     "data": {
      "text/html": [
       "<div>\n",
       "<style scoped>\n",
       "    .dataframe tbody tr th:only-of-type {\n",
       "        vertical-align: middle;\n",
       "    }\n",
       "\n",
       "    .dataframe tbody tr th {\n",
       "        vertical-align: top;\n",
       "    }\n",
       "\n",
       "    .dataframe thead th {\n",
       "        text-align: right;\n",
       "    }\n",
       "</style>\n",
       "<table border=\"1\" class=\"dataframe\">\n",
       "  <thead>\n",
       "    <tr style=\"text-align: right;\">\n",
       "      <th></th>\n",
       "      <th>source_id</th>\n",
       "      <th>label</th>\n",
       "      <th>relative_occurence</th>\n",
       "      <th>relative_occurence_ssc</th>\n",
       "      <th>relative_occurence_nss</th>\n",
       "    </tr>\n",
       "  </thead>\n",
       "  <tbody>\n",
       "    <tr>\n",
       "      <th>10</th>\n",
       "      <td>3921176983720146560</td>\n",
       "      <td>NaN</td>\n",
       "      <td>0.500</td>\n",
       "      <td>0.0</td>\n",
       "      <td>1.00</td>\n",
       "    </tr>\n",
       "    <tr>\n",
       "      <th>11</th>\n",
       "      <td>5148853253106611200</td>\n",
       "      <td>substellar_companion_candidates</td>\n",
       "      <td>0.375</td>\n",
       "      <td>0.0</td>\n",
       "      <td>0.75</td>\n",
       "    </tr>\n",
       "    <tr>\n",
       "      <th>12</th>\n",
       "      <td>4545802186476906880</td>\n",
       "      <td>NaN</td>\n",
       "      <td>0.375</td>\n",
       "      <td>0.0</td>\n",
       "      <td>0.75</td>\n",
       "    </tr>\n",
       "    <tr>\n",
       "      <th>13</th>\n",
       "      <td>3067074530201582336</td>\n",
       "      <td>NaN</td>\n",
       "      <td>0.375</td>\n",
       "      <td>0.0</td>\n",
       "      <td>0.75</td>\n",
       "    </tr>\n",
       "  </tbody>\n",
       "</table>\n",
       "</div>"
      ],
      "text/plain": [
       "              source_id                            label  relative_occurence  \\\n",
       "10  3921176983720146560                              NaN               0.500   \n",
       "11  5148853253106611200  substellar_companion_candidates               0.375   \n",
       "12  4545802186476906880                              NaN               0.375   \n",
       "13  3067074530201582336                              NaN               0.375   \n",
       "\n",
       "    relative_occurence_ssc  relative_occurence_nss  \n",
       "10                     0.0                    1.00  \n",
       "11                     0.0                    0.75  \n",
       "12                     0.0                    0.75  \n",
       "13                     0.0                    0.75  "
      ]
     },
     "metadata": {},
     "output_type": "display_data"
    },
    {
     "name": "stderr",
     "output_type": "stream",
     "text": [
      "INFO:root:Cleaned new candidates number: 88\n",
      "INFO:root:number of new_candidates_ro: 14\n",
      "INFO:root:number of new_candidates_ro_ssc: 4\n",
      "INFO:root:number of new_candidates_ro_nss: 4\n"
     ]
    },
    {
     "data": {
      "text/plain": [
       "22"
      ]
     },
     "execution_count": 18,
     "metadata": {},
     "output_type": "execute_result"
    }
   ],
   "source": [
    "# keep only substellar candidates\n",
    "# new_candidates = new_candidates[new_candidates['label'].isin(['substellar_companion_candidates', 'better_substellar_companion_candidates'])]\n",
    "new_candidates = new_candidates[~new_candidates['label'].isin(['very_low_mass_stellar_companion', 'binary_star'])]\n",
    "\n",
    "new_candidates_ssc = new_candidates[new_candidates['label'].isin(['substellar_companion_candidates', 'better_substellar_companion_candidates'])]\n",
    "new_candidates_nss = new_candidates[new_candidates['label'].isnull()]\n",
    "logging.info(f\"number of new_candidates_ssc: {len(new_candidates_ssc)}\")\n",
    "logging.info(f\"number of new_candidates_nss: {len(new_candidates_nss)}\")\n",
    "\n",
    "new_candidates_ro = new_candidates.query('relative_occurence > 0.5').reset_index(drop=True)\n",
    "new_candidates_ro_ids = new_candidates_ro['source_id'].values\n",
    "display(new_candidates_ro[cols])\n",
    "# print(new_candidates_ro.columns)\n",
    "\n",
    "# new_candidates_ssc_ids = new_candidates_ssc['source_id'].values\n",
    "# new_candidates_nss_ids = new_candidates_nss['source_id'].values\n",
    "\n",
    "\n",
    "new_candidates_ro_ssc = new_candidates.query('relative_occurence_ssc > 0.5').reset_index(drop=True)\n",
    "new_candidates_ro_ssc = new_candidates_ro_ssc[~new_candidates_ro_ssc['source_id'].isin(new_candidates_ro_ids)]\n",
    "new_candidates_ro_ssc_ids = new_candidates_ro_ssc['source_id'].values\n",
    "display(new_candidates_ro_ssc[cols])\n",
    "\n",
    "\n",
    "new_candidates_ro_nss = new_candidates.query('relative_occurence_nss > 0.5').reset_index(drop=True)\n",
    "new_candidates_ro_nss = new_candidates_ro_nss[~new_candidates_ro_nss['source_id'].isin(new_candidates_ro_ids)]\n",
    "new_candidates_ro_nss = new_candidates_ro_nss[~new_candidates_ro_nss['source_id'].isin(new_candidates_ro_ssc_ids)]\n",
    "new_candidates_ro_nss_ids = new_candidates_ro_nss['source_id'].values\n",
    "display(new_candidates_ro_nss[cols])\n",
    "\n",
    "\n",
    "logging.info(f\"Cleaned new candidates number: {len(new_candidates)}\")\n",
    "logging.info(f\"number of new_candidates_ro: {len(new_candidates_ro)}\")\n",
    "logging.info(f\"number of new_candidates_ro_ssc: {len(new_candidates_ro_ssc)}\")\n",
    "logging.info(f\"number of new_candidates_ro_nss: {len(new_candidates_ro_nss)}\")\n",
    "\n",
    "\n",
    "new_candidates_all_ids = np.hstack([new_candidates_ro_ids, new_candidates_ro_ssc_ids, new_candidates_ro_nss_ids])\n",
    "assert len(new_candidates_all_ids) == len(np.unique(new_candidates_all_ids))\n",
    "len(new_candidates_all_ids)"
   ]
  },
  {
   "cell_type": "code",
   "execution_count": 19,
   "id": "578598d9-e0d2-4550-97c8-c5b9fb8836ad",
   "metadata": {
    "tags": []
   },
   "outputs": [],
   "source": [
    "# show_second_tier_of_contenders = True\n",
    "show_second_tier_of_contenders = False\n",
    "if show_second_tier_of_contenders:\n",
    "    new_candidates = new_candidates_all[new_candidates_all['source_id']!=0]\n",
    "    new_candidates = new_candidates[new_candidates['relative_occurence'] > 0.125]\n",
    "    logging.info(f\"Cut on relative_occurence > 0.125 leaves {len(new_candidates)} candidates\")\n",
    "    new_candidates = new_candidates[~new_candidates['source_id'].isin(new_candidates_all_ids)]\n",
    "    # new_candidates_all\n",
    "    logging.info(f\"Cut on non-duplicates leaves {len(new_candidates)} candidates\")\n",
    "    new_candidates_all_ids = new_candidates['source_id'].values\n",
    "    \n",
    "    "
   ]
  },
  {
   "cell_type": "code",
   "execution_count": 20,
   "id": "c674cac7-5da9-4215-91d4-b7ad3787a287",
   "metadata": {
    "tags": []
   },
   "outputs": [],
   "source": [
    "# new_candidates_ro_ids.values"
   ]
  },
  {
   "cell_type": "code",
   "execution_count": 21,
   "id": "0648f44c-2403-4843-aa48-be76ffaf1530",
   "metadata": {
    "tags": []
   },
   "outputs": [
    {
     "data": {
      "text/plain": [
       "source_id\n",
       "True    227\n",
       "Name: count, dtype: int64"
      ]
     },
     "execution_count": 21,
     "metadata": {},
     "output_type": "execute_result"
    }
   ],
   "source": [
    "new_candidates_all['source_id'].isin(nss_selected['source_id']).value_counts()\n",
    "# new_candidates_all[new_candidates_all['source_id'].isin(nss_selected['source_id'])==False]"
   ]
  },
  {
   "cell_type": "code",
   "execution_count": 22,
   "id": "f6667b51-08ac-4751-b177-7d558205ebdc",
   "metadata": {
    "tags": []
   },
   "outputs": [],
   "source": [
    "# len(nss_selected[nss_selected['source_id'].isin(pd.concat([new_candidates_ro_ids, new_candidates_ro_ssc_ids, new_candidates_ro_nss_ids]))])"
   ]
  },
  {
   "cell_type": "code",
   "execution_count": 23,
   "id": "2cb26880-e99d-408f-96aa-6eae59e7ed01",
   "metadata": {
    "tags": []
   },
   "outputs": [],
   "source": [
    "# pd.concat([new_candidates_ro_ids, new_candidates_ro_ssc_ids, new_candidates_ro_nss_ids]).sort_values()"
   ]
  },
  {
   "cell_type": "code",
   "execution_count": 24,
   "id": "16bf9353-80d0-4e62-8f4f-d110625219a4",
   "metadata": {
    "tags": []
   },
   "outputs": [],
   "source": [
    "from mpl_toolkits.axes_grid1.inset_locator import zoomed_inset_axes\n",
    "from mpl_toolkits.axes_grid1.inset_locator import mark_inset\n"
   ]
  },
  {
   "cell_type": "code",
   "execution_count": 25,
   "id": "5509c91d-e328-4064-938d-10e40bd25480",
   "metadata": {
    "tags": []
   },
   "outputs": [],
   "source": [
    "# zoomed_inset_axes?"
   ]
  },
  {
   "cell_type": "code",
   "execution_count": 26,
   "id": "127946d6-3e97-4c54-a867-8f830f028e5b",
   "metadata": {
    "tags": []
   },
   "outputs": [],
   "source": [
    "# len(sel2)"
   ]
  },
  {
   "cell_type": "code",
   "execution_count": 27,
   "id": "f176c24b-f7df-495c-bac9-5af6b82f9a05",
   "metadata": {
    "tags": []
   },
   "outputs": [
    {
     "name": "stderr",
     "output_type": "stream",
     "text": [
      "/tmp/ipykernel_2002/815851678.py:120: UserWarning: The following kwargs were not used by contour: 'label'\n",
      "  ax.contour(counts.transpose(),extent=[xbins[0],xbins[-1],ybins[0],ybins[-1]], linewidths=2, colors=['b'], levels = [3], label='substellar companion candidates')\n"
     ]
    },
    {
     "data": {
      "image/png": "[encoded data removed]",
      "text/plain": [
       "<Figure size 700x400 with 2 Axes>"
      ]
     },
     "metadata": {},
     "output_type": "display_data"
    },
    {
     "name": "stderr",
     "output_type": "stream",
     "text": [
      "INFO:root:Saving figure to /media/team_workspaces/Gaia-Orbit-Classification/sandbox/dataset_v0.6/figures/bp_rp_absolute_phot_g_mean_mag_ssc+confirmed.pdf\n",
      "/tmp/ipykernel_2002/815851678.py:85: RuntimeWarning: divide by zero encountered in log10\n",
      "  Hmasked = np.log10(Hmasked)\n",
      "/tmp/ipykernel_2002/815851678.py:104: UserWarning: The following kwargs were not used by contour: 'label'\n",
      "  ax.contour(*midpoints, Hmasked, linewidths=2, colors=['b'], levels = [3], label='substellar companion candidates')\n"
     ]
    },
    {
     "data": {
      "image/png": "[encoded data removed]",
      "text/plain": [
       "<Figure size 700x400 with 1 Axes>"
      ]
     },
     "metadata": {},
     "output_type": "display_data"
    },
    {
     "name": "stderr",
     "output_type": "stream",
     "text": [
      "INFO:root:Saving figure to /media/team_workspaces/Gaia-Orbit-Classification/sandbox/dataset_v0.6/figures/mass_function_msun_absolute_phot_g_mean_mag_ssc+confirmed.pdf\n"
     ]
    }
   ],
   "source": [
    "sel1 = nss_selected.copy()\n",
    "sel2 = nss_selected[nss_selected['source_id'].isin(labelled_sources[~labelled_sources['label'].isin(['very_low_mass_stellar_companion', 'binary_star', 'false_positive_orbit'])]['source_id'])]\n",
    "sel3 = sel2.merge(labelled_sources, on='source_id')\n",
    "sel4 = sel3[sel3['label'].isin(['brown_dwarf_companion', 'exoplanet'])]\n",
    "sel5 = nss_selected[nss_selected['source_id'].isin(new_candidates)]\n",
    "# sel6 = nss_selected[nss_selected['source_id'].isin([3230836376154368384, 3573773434382465280, 1055017523232004352, 6795834500861297408, 5557776367807067648, 4361277334741236480, 4869246209213679872])]\n",
    "sel7 = nss_selected[nss_selected['source_id'].isin(new_candidates_ssc)]\n",
    "sel8 = nss_selected[nss_selected['source_id'].isin(new_candidates_nss)]\n",
    "sel9 = nss_selected[nss_selected['source_id'].isin(new_candidates_ro)]\n",
    "sel10 = nss_selected[nss_selected['source_id'].isin(new_candidates_ro_ssc)]\n",
    "# sel11 = nss_selected[nss_selected['source_id'].isin(pd.concat([new_candidates_ro, new_candidates_ro_ssc]))]\n",
    "sel11 = nss_selected[nss_selected['source_id'].isin(new_candidates_all_ids)]\n",
    "sel12 = sel3[sel3['label'].isin(['exoplanet'])]\n",
    "sel13 = sel3[sel3['label'].isin(['brown_dwarf_companion'])]\n",
    "\n",
    "title = None\n",
    "\n",
    "colour_by = 'bp_rp'\n",
    "# colour_by = 'mass_function_msun'\n",
    "norm = mp.colors.LogNorm()\n",
    "colormap='rainbow'\n",
    "\n",
    "\n",
    "plot_option = 'all'\n",
    "# plot_option = 'nss-only'\n",
    "# plot_option = 'ssc'\n",
    "# plot_option = 'confirmed'\n",
    "# plot_option = 'confirmed+candidate'\n",
    "\n",
    "for x_col in ['bp_rp', 'mass_function_msun']:\n",
    "# for x_col in ['bp_rp']:\n",
    "    # x_col = 'bp_rp'\n",
    "    # x_col = 'mass_function_msun'\n",
    "    y_col = 'absolute_phot_g_mean_mag'\n",
    "\n",
    "\n",
    "    from collections import OrderedDict\n",
    "    datasets = OrderedDict()\n",
    "    datasets[0] = {'label': f'all ({len(sel1)})', 'data': sel1, 'color': 'k'}\n",
    "    datasets[1] = {'label': f'substellar candidates ({len(sel2)})', 'data': sel2, 'color': '0.7'}\n",
    "    datasets[2] = {'label': f'confirmed BD-companions and exoplanets ({len(sel4)})', 'data': sel4, 'color': 'r'}\n",
    "    # datasets[3] = {'label': f'new candidates ({len(sel5)})', 'data': sel5, 'color': 'b'}\n",
    "    # datasets[4] = {'label': f'new_candidates_ssc ({len(sel7)})', 'data': sel7, 'color': 'y'}\n",
    "    # datasets[5] = {'label': f'new_candidates_nss ({len(sel8)})', 'data': sel8, 'color': 'b'}\n",
    "    datasets[6] = {'label': f'new_candidates_ro ({len(sel9)})', 'data': sel9, 'color': 'b'}\n",
    "    datasets[7] = {'label': f'new_candidates_ro_ssc ({len(sel10)})', 'data': sel10, 'color': 'g'}\n",
    "    datasets[8] = {'label': f'Substellar contenders ({len(sel11)})', 'data': sel11, 'color': 'k'}\n",
    "    datasets[12] = {'label': f'Confirmed exoplanets ({len(sel12)})', 'data': sel12, 'color': 'k'}\n",
    "    datasets[13] = {'label': f'Confirmed BD-companions ({len(sel13)})', 'data': sel13, 'color': 'k'}\n",
    "\n",
    "\n",
    "    fig = pl.figure(figsize=(7,4))\n",
    "    x = datasets[1]['data'][x_col]\n",
    "    y = datasets[1]['data'][y_col]\n",
    "    if x_col == 'mass_function_msun':\n",
    "        bins = [np.logspace(-8, -1, 30), np.linspace(0, 15, 30)]\n",
    "    else:\n",
    "        bins=50\n",
    "\n",
    "    counts,xbins,ybins,image = pl.hist2d(x,y,bins=bins)\n",
    "    pl.close()\n",
    "\n",
    "    # for plot_option in ['all', 'nss-only', 'ssc', 'confirmed', 'confirmed+candidate', 'ssc+confirmed']:\n",
    "    for plot_option in ['ssc+confirmed']:\n",
    "\n",
    "        fig = pl.figure(figsize=(7,4))\n",
    "        ax = pl.gca()\n",
    "\n",
    "\n",
    "\n",
    "        # datasets[4] = {'label': f'SED IR-excess ({len(sel6)})', 'data': sel6}\n",
    "        colormap = \"Spectral\"\n",
    "        if x_col == 'bp_rp':\n",
    "            datasets[0]['data'].plot(x_col, y_col, kind='hexbin', gridsize=(200, 100), ax=ax, label=datasets[0]['label'], bins='log', cmap=colormap, colorbar=False)#, cmap=\"Greys\")#, **kwargs)  # , c='parallax'\n",
    "\n",
    "        elif x_col == 'mass_function_msun':\n",
    "            df = datasets[0]['data']\n",
    "            x = df[x_col].values\n",
    "            y = df[y_col].values\n",
    "            bins2 = [np.logspace(-7.1, 0.5, 200), np.linspace(-5, 20, 100)]\n",
    "            H, xedges, yedges = np.histogram2d(x,y,bins=bins2)\n",
    "            H = np.rot90(H)\n",
    "            H = np.flipud(H)\n",
    "            Hmasked = np.ma.masked_where(H==0,H) # Mask pixels with a value of zero\n",
    "            Hmasked = np.log10(Hmasked)\n",
    "\n",
    "            pl.pcolormesh(xedges,yedges,Hmasked,cmap=colormap)\n",
    "            cbar = pl.colorbar()\n",
    "            cbar.remove()\n",
    "            ax.set_xscale('log') \n",
    "\n",
    "            if x_col == 'mass_function_msun':\n",
    "                df = datasets[1]['data']\n",
    "                x = df[x_col].values\n",
    "                y = df[y_col].values\n",
    "                bins2 = [np.logspace(-8, 0, 30), np.linspace(0, 15, 30)]\n",
    "                H, xe, ye = np.histogram2d(x,y,bins=bins2)\n",
    "                H = np.rot90(H)\n",
    "                H = np.flipud(H)\n",
    "                # Hmasked = np.ma.masked_where(H==0,H) # Mask pixels with a value of zero\n",
    "                # Hmasked = np.log10(Hmasked)\n",
    "                Hmasked = H\n",
    "                midpoints = (xe[1:] + xe[:-1])/2, (ye[1:] + ye[:-1])/2\n",
    "                ax.contour(*midpoints, Hmasked, linewidths=2, colors=['b'], levels = [3], label='substellar companion candidates')\n",
    "\n",
    "                # pl.pcolormesh(xedges,yedges,Hmasked,cmap='Greys')\n",
    "                # cbar = pl.colorbar()\n",
    "                # cbar.remove()\n",
    "                # ax.set_xscale('log') \n",
    "\n",
    "\n",
    "\n",
    "        # datasets[0]['data'].plot(x_col, y_col, kind='hexbin', gridsize=(200, 100), ax=ax, label=datasets[0]['label'], bins='log', cmap=\"Spectral\", extent=[0, 2 ,-5,20])#, cmap=\"Greys\")#, **kwargs)  # , c='parallax'\n",
    "\n",
    "        if plot_option in ['all', 'ssc', 'ssc+confirmed']:\n",
    "            # datasets[1]['data'].plot(x_col, y_col, kind='scatter', ax=ax, label=datasets[1]['label'], colormap='rainbow', c='0.7', s=5)#, **kwargs)  # , c='parallax'\n",
    "            # datasets[1]['data'].plot(x_col, y_col, kind='kde', ax=ax, label=datasets[1]['label'])#, **kwargs)  # , c='parallax'\n",
    "\n",
    "            if x_col == 'bp_rp':\n",
    "                ax.contour(counts.transpose(),extent=[xbins[0],xbins[-1],ybins[0],ybins[-1]], linewidths=2, colors=['b'], levels = [3], label='substellar companion candidates')\n",
    "            # else:    \n",
    "            #     ax.contour(counts.transpose(),extent=[xbins[0],xbins[-1],ybins[0],ybins[-1]], linewidths=2, colors=['b'], levels = [1])\n",
    "                # ax.contour(counts.transpose(), linewidths=2, colors=['b'], levels = [2])\n",
    "\n",
    "\n",
    "\n",
    "        if plot_option in ['all', 'confirmed', 'confirmed+candidate']:\n",
    "            datasets[2]['data'].plot(x_col, y_col, kind='scatter', ax=ax, label=datasets[2]['label'], c='k', s=30)#, **kwargs)  # , c='parallax'\n",
    "        # datasets[3]['data'].plot('bp_rp', 'absolute_phot_g_mean_mag', kind='scatter', ax=ax, label=datasets[3]['label'], c='r', s=30)#, **kwargs)  # , c='parallax'\n",
    "        # datasets[3]['data'].plot('bp_rp', 'absolute_phot_g_mean_mag', kind='scatter', ax=ax, label=datasets[3]['label'], c='r', s=30)#, **kwargs)  # , c='parallax'\n",
    "        # datasets[4]['data'].plot('bp_rp', 'absolute_phot_g_mean_mag', kind='scatter', ax=ax, label=datasets[4]['label'], c=datasets[4]['color'], s=30)#, **kwargs)  # , c='parallax'\n",
    "        # datasets[5]['data'].plot('bp_rp', 'absolute_phot_g_mean_mag', kind='scatter', ax=ax, label=datasets[5]['label'], c=datasets[5]['color'], s=30)#, **kwargs)  # , c='parallax'\n",
    "        # datasets[6]['data'].plot('bp_rp', 'absolute_phot_g_mean_mag', kind='scatter', ax=ax, label=datasets[6]['label'], c=datasets[6]['color'], s=30)#, **kwargs)  # , c='parallax'\n",
    "        # datasets[7]['data'].plot('bp_rp', 'absolute_phot_g_mean_mag', kind='scatter', ax=ax, label=datasets[7]['label'], c=datasets[7]['color'], s=30)#, **kwargs)  # , c='parallax'        \n",
    "\n",
    "        if plot_option in ['all', 'confirmed+candidate', 'ssc+confirmed']:\n",
    "            # datasets[8]['data'].plot(x_col, y_col, kind='scatter', ax=ax, label=datasets[8]['label'], c=datasets[8]['color'], s=30)#, **kwargs)  # , c='parallax'\n",
    "\n",
    "            x = datasets[12]['data'][x_col]\n",
    "            y = datasets[12]['data'][y_col]\n",
    "            pl.plot(x, y, marker='o', mfc='w', mec=datasets[12]['color'], ms=6, label=datasets[12]['label'], ls='None')\n",
    "            x = datasets[13]['data'][x_col]\n",
    "            y = datasets[13]['data'][y_col]\n",
    "            pl.plot(x, y, marker='s', mfc='w', mec=datasets[13]['color'], ms=6, label=datasets[13]['label'], ls='None')\n",
    "\n",
    "            x = datasets[8]['data'][x_col]\n",
    "            y = datasets[8]['data'][y_col]\n",
    "            # if x_col == 'mass_function_msun':\n",
    "            #     # pass\n",
    "            #     pl.plot(x, y, marker='X', mfc='w', ms=8, mec='k', label=datasets[8]['label'], ls='None')\n",
    "            # else:\n",
    "            pl.plot(x, y, marker='X', mfc='w', ms=7, mec='k', label=datasets[8]['label'], ls='None')\n",
    "                # pl.plot(x, y, marker='x', c='k', ms=5, label=datasets[8]['label'], ls='None')\n",
    "\n",
    "\n",
    "        # datasets[4]['data'].plot('bp_rp', 'absolute_phot_g_mean_mag', kind='scatter', ax=ax, label=datasets[4]['label'], c='b', s=30)#, **kwargs)  # , c='parallax'\n",
    "        # ax.set_title('{} ({} sources)'.format(title, len(sel1)))\n",
    "        ax.invert_yaxis()\n",
    "\n",
    "\n",
    "        # sel1.nss.plot_cmd(title='Substellar-companion candidates', c=colour_by, colormap=colormap, ax=ax)\n",
    "        # sel1.nss.plot_cmd()\n",
    "        # ax.set_xlabel('$G_\\mathrm{BP}-G_\\mathrm{RP}$')\n",
    "        # ax.set_ylabel('$M_G$')\n",
    "        if x_col == 'mass_function_msun':\n",
    "            ax.set_xlabel('Astrometric mass function $f_M$ ($M_\\mathrm{Sun}$)')\n",
    "        else:    \n",
    "            ax.set_xlabel('Gaia colour $G_\\mathrm{BP}-G_\\mathrm{RP}$ (mag)')\n",
    "        ax.set_ylabel('Gaia absolute magnitude $M_G$ (mag)')\n",
    "\n",
    "        # ax.legend(loc=4)\n",
    "        \n",
    "        if x_col == 'bp_rp':\n",
    "            axins = zoomed_inset_axes(ax, 2, loc=1) # zoom = 6\n",
    "            x1, x2, y1, y2 = 0.5, 1.6, 2.5, 7.5\n",
    "            datasets[0]['data'].query(f\"{x_col} > {x1} and {x_col} < {x2} and {y_col} > {y1} and {y_col} < {y2}\").plot(x_col, y_col, kind='hexbin', gridsize=(50, 50), ax=axins, label=datasets[0]['label'], bins='log', cmap=colormap, colorbar=False)\n",
    "            # axins.imshow(Z2, extent=extent, interpolation=\"nearest\", origin=\"lower\")\n",
    "\n",
    "            # sub region of the original image\n",
    "            # x1, x2, y1, y2 = 0, 2, 3, 7\n",
    "            axins.set_xlim(x1, x2)\n",
    "            axins.set_ylim(y1, y2)\n",
    "            axins.invert_yaxis()\n",
    "            axins.set_ylabel('')\n",
    "            axins.set_xlabel('')\n",
    "            x = datasets[12]['data'][x_col]\n",
    "            y = datasets[12]['data'][y_col]\n",
    "            axins.plot(x, y, marker='o', mfc='w', mec=datasets[12]['color'], ms=6, label=datasets[12]['label'], ls='None')\n",
    "            x = datasets[13]['data'][x_col]\n",
    "            y = datasets[13]['data'][y_col]\n",
    "            axins.plot(x, y, marker='s', mfc='w', mec=datasets[13]['color'], ms=6, label=datasets[13]['label'], ls='None')\n",
    "\n",
    "            x = datasets[8]['data'][x_col]\n",
    "            y = datasets[8]['data'][y_col]\n",
    "            # axins.plot(x, y, marker='x', c='k', ms=5, label=datasets[8]['label'], ls='None')\n",
    "            axins.plot(x, y, marker='X', c='k', ms=7, mfc='w', label=datasets[8]['label'], ls='None')\n",
    "\n",
    "            axins.plot(0.82, 4.67, marker='d', c='k', mfc='y', ms=8, label='Sun', ls='None')\n",
    "            # axins.set_yticks(visible=False)\n",
    "        else:\n",
    "            ax.plot(1.1e-7, 4.67, marker='d', c='k', mfc='y', ms=8, label='Sun', ls='None')\n",
    "\n",
    "        \n",
    "        pl.show()\n",
    "\n",
    "        saveplot = True\n",
    "        if saveplot:\n",
    "            figure_file_name = os.path.join(plot_dir, f'{x_col}_{y_col}_{plot_option}.pdf')\n",
    "            logging.info('Saving figure to {}'.format(figure_file_name))\n",
    "            fig.savefig(figure_file_name, transparent=True, bbox_inches='tight', pad_inches=0.05)\n"
   ]
  },
  {
   "cell_type": "code",
   "execution_count": 28,
   "id": "a78a5228-acf0-478b-a4f6-15957e14ca96",
   "metadata": {
    "tags": []
   },
   "outputs": [],
   "source": [
    "# import matplotlib.pyplot as plt\n",
    "\n",
    "# from mpl_toolkits.axes_grid1.inset_locator import zoomed_inset_axes\n",
    "# from mpl_toolkits.axes_grid1.inset_locator import mark_inset\n",
    "\n",
    "# import numpy as np\n",
    "\n",
    "# def get_demo_image():\n",
    "#     from matplotlib.cbook import get_sample_data\n",
    "#     import numpy as np\n",
    "#     f = get_sample_data(\"axes_grid/bivariate_normal.npy\", asfileobj=False)\n",
    "#     z = np.load(f)\n",
    "#     # z is a numpy array of 15x15\n",
    "#     return z, (-3,4,-4,3)\n",
    "\n",
    "# fig, ax = plt.subplots(figsize=[5,4])\n",
    "\n",
    "# # prepare the demo image\n",
    "# Z, extent = get_demo_image()\n",
    "# Z2 = np.zeros([150, 150], dtype=\"d\")\n",
    "# ny, nx = Z.shape\n",
    "# Z2[30:30+ny, 30:30+nx] = Z\n",
    "\n",
    "# # extent = [-3, 4, -4, 3]\n",
    "# ax.imshow(Z2, extent=extent, interpolation=\"nearest\",\n",
    "#           origin=\"lower\")\n",
    "\n",
    "# axins = zoomed_inset_axes(ax, 6, loc=1) # zoom = 6\n",
    "# axins.imshow(Z2, extent=extent, interpolation=\"nearest\",\n",
    "#              origin=\"lower\")\n",
    "\n",
    "# # sub region of the original image\n",
    "# x1, x2, y1, y2 = -1.5, -0.9, -2.5, -1.9\n",
    "# axins.set_xlim(x1, x2)\n",
    "# axins.set_ylim(y1, y2)\n",
    "\n",
    "# plt.xticks(visible=False)\n",
    "# plt.yticks(visible=False)\n",
    "\n",
    "# # draw a bbox of the region of the inset axes in the parent axes and\n",
    "# # connecting lines between the bbox and the inset axes area\n",
    "# mark_inset(ax, axins, loc1=2, loc2=4, fc=\"none\", ec=\"0.5\")\n",
    "\n",
    "# plt.draw()\n",
    "# plt.show()"
   ]
  },
  {
   "cell_type": "code",
   "execution_count": 29,
   "id": "9d3d6139-cd3c-48b4-a9c2-6c14b0092970",
   "metadata": {
    "tags": []
   },
   "outputs": [
    {
     "name": "stdout",
     "output_type": "stream",
     "text": [
      "                source_id                  label          id     bp_rp  mass_function_msun\n",
      "1072    43574131143039104  brown_dwarf_companion     LHS1610  3.202310        2.857490e-03\n",
      "1755  2603090003484152064              exoplanet       GJ876  2.809284        2.803763e-07\n",
      "1181  2367734656180397952              exoplanet  BD−170063   1.346591        1.335989e-07\n",
      "786   4062446910648807168              exoplanet    HD164604  1.267999        4.078758e-06\n",
      "1646  5563001178343925376  brown_dwarf_companion     HD52756  1.058083        2.505084e-04\n",
      "1110   685029558383335168  brown_dwarf_companion     HD77065  1.057203        3.705910e-04\n",
      "1561  2651390587219807744  brown_dwarf_companion   BD−004475  1.029741        1.243255e-04\n",
      "1372  3750881083756656128  brown_dwarf_companion     HD91669  1.001240        7.989367e-05\n",
      "1349  5999024986946599808  brown_dwarf_companion  CD-4610046  0.942402        2.573752e-04\n",
      "276    873616860770228352  brown_dwarf_companion  BD+291539   0.938650        2.369071e-04\n",
      "735   1035000055055287680  brown_dwarf_companion    HD68638A  0.931595        2.863836e-05\n",
      "1817  6421118739093252224              exoplanet    HD175167  0.900040        6.236326e-07\n",
      "1644  5855730584310531200              exoplanet    HD111232  0.879153        5.579157e-07\n",
      "854    855523714036230016  brown_dwarf_companion     HD92320  0.833578        3.267355e-04\n",
      "975   3309006602007842048  brown_dwarf_companion     HD30246  0.820580        5.447688e-05\n",
      "238   1594127865540229888              exoplanet    HD132406  0.818632        2.266235e-07\n",
      "1344   637329067477530368              exoplanet     HD81040  0.813925        4.392024e-07\n",
      "1466   824461960796102528  brown_dwarf_companion     HD82460  0.806116        2.176312e-04\n",
      "1159  2778298280881817984  brown_dwarf_companion    HD5433    0.784228        1.158052e-04\n",
      "1833  1181993180456516864  brown_dwarf_companion    HD132032  0.757518        4.189628e-04\n",
      "377   3424193536079703808              exoplanet     HD39392  0.739244        2.163255e-03\n",
      "1373  3751763647996317056  brown_dwarf_companion     HD89707  0.731493        3.659524e-04\n",
      "472   4745373133284418816              exoplanet       HR810  0.726413        1.719358e-07\n",
      "1784  4976894960284258048              exoplanet       HD142  0.669508        2.204346e-07\n"
     ]
    }
   ],
   "source": [
    "print(sel4[['source_id', 'label', 'id', 'bp_rp', 'mass_function_msun']].sort_values('bp_rp', ascending=False).to_string())"
   ]
  },
  {
   "cell_type": "code",
   "execution_count": 30,
   "id": "2d2eda6a-0393-42c1-8b12-f874309ec2d3",
   "metadata": {
    "tags": []
   },
   "outputs": [],
   "source": [
    "# sel11.columns"
   ]
  },
  {
   "cell_type": "code",
   "execution_count": 31,
   "id": "0741f9d2-0d94-4130-a6d7-048580ed9f13",
   "metadata": {
    "tags": []
   },
   "outputs": [
    {
     "name": "stdout",
     "output_type": "stream",
     "text": [
      "                  source_id     bp_rp  absolute_phot_g_mean_mag  mass_function_msun\n",
      "51009   5148853253106611200  1.548269                  7.078447        1.459385e-04\n",
      "9776    1712614124767394816  1.546817                  7.003759        6.448643e-07\n",
      "74622   2884087104955208064  1.124158                  6.006632        1.946441e-07\n",
      "60403   6330529666839726592  1.106186                  5.815082        7.070740e-05\n",
      "98041   1878822452815621120  1.073614                  5.785907        5.353743e-06\n",
      "117130  2540855308890440064  0.993631                  5.331594        2.784526e-04\n",
      "152526  3909531609393458688  0.896022                  4.847577        4.379791e-04\n",
      "54600   1156378820136922880  0.895697                  5.373438        3.609783e-04\n",
      "165150  3067074530201582336  0.891760                  5.506566        2.493937e-03\n",
      "134313  1897143408911208832  0.881879                  4.336407        2.805161e-05\n",
      "93509   5484481960625470336  0.793957                  3.925828        1.587367e-04\n",
      "108826  5773484949857279104  0.790788                  3.546009        2.300500e-04\n",
      "132164  4545802186476906880  0.785966                  3.083013        1.171406e-05\n",
      "11856   5323844651848467968  0.724466                  3.658824        1.086662e-03\n",
      "27160    522135261462534528  0.708562                  4.289336        2.516230e-07\n",
      "152609  3921176983720146560  0.704303                  3.978719        5.782712e-04\n",
      "162017  1610837178107032192  0.689921                  3.861704        1.392555e-06\n",
      "16456   1576108450508750208  0.682841                  3.673967        1.240010e-03\n",
      "72107    364792020789523584  0.657452                  3.506073        1.625583e-04\n",
      "138540  2280560705703031552  0.653476                  3.028195        1.976517e-04\n",
      "94418   2171489736355655680  0.650357                  3.925266        4.010296e-04\n",
      "152546  3913728032959687424  0.584939                  3.303049        2.309769e-04\n"
     ]
    }
   ],
   "source": [
    "print(sel11[['source_id', 'bp_rp', 'absolute_phot_g_mean_mag', 'mass_function_msun']].sort_values('bp_rp', ascending=False).to_string())"
   ]
  },
  {
   "cell_type": "code",
   "execution_count": 32,
   "id": "2705eae3-fc56-47c1-bae8-860b597c9362",
   "metadata": {
    "tags": []
   },
   "outputs": [
    {
     "data": {
      "text/html": [
       "<div>\n",
       "<style scoped>\n",
       "    .dataframe tbody tr th:only-of-type {\n",
       "        vertical-align: middle;\n",
       "    }\n",
       "\n",
       "    .dataframe tbody tr th {\n",
       "        vertical-align: top;\n",
       "    }\n",
       "\n",
       "    .dataframe thead th {\n",
       "        text-align: right;\n",
       "    }\n",
       "</style>\n",
       "<table border=\"1\" class=\"dataframe\">\n",
       "  <thead>\n",
       "    <tr style=\"text-align: right;\">\n",
       "      <th></th>\n",
       "      <th>source_id</th>\n",
       "      <th>nss_solution_type</th>\n",
       "      <th>absolute_phot_g_mean_mag</th>\n",
       "      <th>bp_rp</th>\n",
       "      <th>mass_function_msun</th>\n",
       "    </tr>\n",
       "  </thead>\n",
       "  <tbody>\n",
       "    <tr>\n",
       "      <th>2353</th>\n",
       "      <td>557717892980808960</td>\n",
       "      <td>Orbital</td>\n",
       "      <td>9.036476</td>\n",
       "      <td>2.384589</td>\n",
       "      <td>1.725227e-06</td>\n",
       "    </tr>\n",
       "    <tr>\n",
       "      <th>19868</th>\n",
       "      <td>246890014559489792</td>\n",
       "      <td>Orbital</td>\n",
       "      <td>10.781160</td>\n",
       "      <td>2.913510</td>\n",
       "      <td>1.366972e-06</td>\n",
       "    </tr>\n",
       "    <tr>\n",
       "      <th>154037</th>\n",
       "      <td>4702845638429469056</td>\n",
       "      <td>Orbital</td>\n",
       "      <td>9.753196</td>\n",
       "      <td>2.368413</td>\n",
       "      <td>1.590876e-06</td>\n",
       "    </tr>\n",
       "    <tr>\n",
       "      <th>161725</th>\n",
       "      <td>2603090003484152064</td>\n",
       "      <td>OrbitalTargetedSearchValidated</td>\n",
       "      <td>10.527513</td>\n",
       "      <td>2.809284</td>\n",
       "      <td>2.803763e-07</td>\n",
       "    </tr>\n",
       "  </tbody>\n",
       "</table>\n",
       "</div>"
      ],
      "text/plain": [
       "                  source_id               nss_solution_type  \\\n",
       "2353     557717892980808960                         Orbital   \n",
       "19868    246890014559489792                         Orbital   \n",
       "154037  4702845638429469056                         Orbital   \n",
       "161725  2603090003484152064  OrbitalTargetedSearchValidated   \n",
       "\n",
       "        absolute_phot_g_mean_mag     bp_rp  mass_function_msun  \n",
       "2353                    9.036476  2.384589        1.725227e-06  \n",
       "19868                  10.781160  2.913510        1.366972e-06  \n",
       "154037                  9.753196  2.368413        1.590876e-06  \n",
       "161725                 10.527513  2.809284        2.803763e-07  "
      ]
     },
     "metadata": {},
     "output_type": "display_data"
    },
    {
     "name": "stdout",
     "output_type": "stream",
     "text": [
      "          source_id              nss_solution_type  absolute_phot_g_mean_mag    bp_rp  mass_function_msun\n",
      " 557717892980808960                        Orbital                  9.036476 2.384589        1.725227e-06\n",
      " 246890014559489792                        Orbital                 10.781160 2.913510        1.366972e-06\n",
      "4702845638429469056                        Orbital                  9.753196 2.368413        1.590876e-06\n",
      "2603090003484152064 OrbitalTargetedSearchValidated                 10.527513 2.809284        2.803763e-07\n"
     ]
    }
   ],
   "source": [
    "df = datasets[0]['data']\n",
    "cols = ['source_id', 'nss_solution_type', 'absolute_phot_g_mean_mag', 'bp_rp', 'mass_function_msun']\n",
    "tmp = df[(df['mass_function_msun'] < 2e-6) & (df['absolute_phot_g_mean_mag'] > 8)][cols]\n",
    "display(tmp)\n",
    "print(tmp.to_string(index=False))\n",
    "\n"
   ]
  },
  {
   "cell_type": "code",
   "execution_count": 33,
   "id": "c32c3319-5a5d-4fb5-81cf-6c59e83d1f70",
   "metadata": {
    "tags": []
   },
   "outputs": [],
   "source": [
    "# df.columns"
   ]
  },
  {
   "cell_type": "code",
   "execution_count": 34,
   "id": "b565224a-fe8a-4ba6-914d-943a38d7ef11",
   "metadata": {
    "tags": []
   },
   "outputs": [],
   "source": [
    "# fig = pl.figure(figsize=(8,5))\n",
    "# ax = pl.gca()\n",
    "\n",
    "# # datasets[1]['data'].plot(x_col, y_col, kind='kde', ax=ax, label=datasets[1]['label'])#, **kwargs)  # , c='parallax'\n",
    "\n",
    "# from matplotlib.colors import LogNorm\n",
    "# from matplotlib.pyplot import *\n",
    "\n",
    "# x = datasets[1]['data'][x_col]\n",
    "# y = datasets[1]['data'][y_col]\n",
    "# # counts,ybins,xbins,image = hist2d(x,y,bins=20,norm=LogNorm())\n",
    "# # contour(counts,extent=[xbins.min(),xbins.max(),ybins.min(),ybins.max()],linewidths=3)\n",
    "# # pl.show()\n",
    "\n",
    "\n",
    "# from matplotlib.colors import LogNorm\n",
    "# import matplotlib.pyplot as plt\n",
    "\n",
    "# # x = np.random.normal(5,10,100000)\n",
    "# # y = np.random.normal(5,10,100000)\n",
    "# pl.subplot(121)\n",
    "# counts,xbins,ybins,image = pl.hist2d(x,y,bins=50)\n",
    "# pl.colorbar()\n",
    "# pl.subplot(122)\n",
    "# pl.contour(counts.transpose(),extent=[xbins[0],xbins[-1],ybins[0],ybins[-1]],\n",
    "#     linewidths=3, cmap = pl.cm.rainbow, levels = [2])\n"
   ]
  },
  {
   "cell_type": "code",
   "execution_count": 35,
   "id": "01241241-89dc-45f4-b9a5-bd3048199398",
   "metadata": {
    "tags": []
   },
   "outputs": [],
   "source": [
    "# np.max(counts)"
   ]
  },
  {
   "cell_type": "code",
   "execution_count": 36,
   "id": "9eb25620-1506-4995-8bf9-b3d37a16937c",
   "metadata": {},
   "outputs": [],
   "source": [
    "if 0:\n",
    "    def plot_density_histogram(df, x_col, y_col):\n",
    "\n",
    "\n",
    "        x = df[x_col].values/(u.year.to(u.day))\n",
    "        y = df[y_col].values\n",
    "\n",
    "        # https://oceanpython.org/2013/02/25/2d-histogram/\n",
    "        # Estimate the 2D histogram\n",
    "        nbins = 200\n",
    "        bins = [np.logspace(-2, 2, 200), np.logspace(-30, 0, 100)]\n",
    "        H, xedges, yedges = np.histogram2d(x,y,bins=bins)\n",
    "\n",
    "        # # H needs to be rotated and flipped\n",
    "        H = np.rot90(H)\n",
    "        H = np.flipud(H)\n",
    "\n",
    "        # Mask zeros\n",
    "        Hmasked = np.ma.masked_where(H==0,H) # Mask pixels with a value of zero\n",
    "\n",
    "        Hmasked = np.log10(Hmasked)\n",
    "        # Plot 2D histogram using pcolor\n",
    "        fig = pl.figure(figsize=(8,4))\n",
    "        ax = pl.gca()\n",
    "        # selected.plot('p1_period_year', 'p1_a1_mas', kind='scatter', logx=True, logy=True, ax=ax, color='k', label=f'{len(selected)}')\n",
    "\n",
    "        # fig = pl.figure()\n",
    "        # ax = pl.gca()\n",
    "        pl.pcolormesh(xedges,yedges,Hmasked,cmap='hot')\n",
    "        pl.axvline(1, ls=':', zorder=-51)\n",
    "        pl.axvline(1/2, ls=':', zorder=-51)\n",
    "        # pl.axvline(1*2, ls=':', zorder=-51)\n",
    "\n",
    "        # df_select.plot('period_year', 'fap', kind='scatter', logx=True, logy=True, ax=ax, color='k', marker='*', s=100)\n",
    "        # pl.xlim((2e-2, 60))\n",
    "        # pl.ylim((1e-1, 1e4))\n",
    "        pl.xlabel('Orbital period (year)')\n",
    "        pl.ylabel('Periodogram FAP')\n",
    "        cbar = pl.colorbar()\n",
    "        # cbar.ax.set_ylabel('Counts')\n",
    "        cbar.remove()\n",
    "        ax.set_yscale('log') \n",
    "        ax.set_xscale('log') \n",
    "        pl.show()\n",
    "\n",
    "\n"
   ]
  },
  {
   "cell_type": "code",
   "execution_count": 37,
   "id": "bae29bdd-1286-4445-b8c1-768f418060dc",
   "metadata": {
    "tags": []
   },
   "outputs": [],
   "source": [
    "\n",
    "if 0:\n",
    "    sel1 = nss_selected.copy()\n",
    "    # sel2 = nss_selected[nss_selected['source_id'].isin(labelled_sources['source_id'])]\n",
    "    # sel3 = sel2.merge(labelled_sources, on='source_id')\n",
    "    # sel4 = sel3[sel3['label'].isin(['brown_dwarf_companion', 'exoplanet'])]\n",
    "    # sel5 = nss_selected[nss_selected['source_id'].isin(new_candidates)]\n",
    "    # # sel6 = nss_selected[nss_selected['source_id'].isin([3230836376154368384, 3573773434382465280, 1055017523232004352, 6795834500861297408, 5557776367807067648, 4361277334741236480, 4869246209213679872])]\n",
    "    # sel7 = nss_selected[nss_selected['source_id'].isin(new_candidates_ssc)]\n",
    "    # sel8 = nss_selected[nss_selected['source_id'].isin(new_candidates_nss)]\n",
    "    # sel9 = nss_selected[nss_selected['source_id'].isin(new_candidates_ro)]\n",
    "    # sel10 = nss_selected[nss_selected['source_id'].isin(new_candidates_ro_ssc)]\n",
    "    # sel11 = nss_selected[nss_selected['source_id'].isin(pd.concat([new_candidates_ro, new_candidates_ro_ssc]))]\n",
    "\n",
    "    title = None\n",
    "\n",
    "    colour_by = 'bp_rp'\n",
    "    # colour_by = 'mass_function_msun'\n",
    "    norm = mp.colors.LogNorm()\n",
    "    colormap='rainbow'\n",
    "    colormap=\"Spectral\"\n",
    "\n",
    "\n",
    "    # plot_option = 'all'\n",
    "    # plot_option = 'nss-only'\n",
    "    # plot_option = 'ssc'\n",
    "    # plot_option = 'confirmed'\n",
    "    # plot_option = 'confirmed+candidate'\n",
    "\n",
    "    # x_col = 'bp_rp'\n",
    "    x_col = 'mass_function_msun'\n",
    "    y_col = 'absolute_phot_g_mean_mag'\n",
    "\n",
    "    # for plot_option in ['all', 'nss-only', 'ssc', 'confirmed', 'confirmed+candidate', 'ssc+confirmed']:\n",
    "    for plot_option in ['confirmed']:\n",
    "\n",
    "        fig = pl.figure(figsize=(8,5))\n",
    "        ax = pl.gca()\n",
    "\n",
    "        from collections import OrderedDict\n",
    "        datasets = OrderedDict()\n",
    "        datasets[0] = {'label': f'all ({len(sel1)})', 'data': sel1, 'color': 'k'}\n",
    "        datasets[1] = {'label': f'substellar candidates ({len(sel2)})', 'data': sel2, 'color': '0.7'}\n",
    "        datasets[2] = {'label': f'confirmed BD-companions and exoplanets ({len(sel4)})', 'data': sel4, 'color': 'r'}\n",
    "        # datasets[3] = {'label': f'new candidates ({len(sel5)})', 'data': sel5, 'color': 'b'}\n",
    "        # datasets[4] = {'label': f'new_candidates_ssc ({len(sel7)})', 'data': sel7, 'color': 'y'}\n",
    "        # datasets[5] = {'label': f'new_candidates_nss ({len(sel8)})', 'data': sel8, 'color': 'b'}\n",
    "        datasets[6] = {'label': f'new_candidates_ro ({len(sel9)})', 'data': sel9, 'color': 'b'}\n",
    "        datasets[7] = {'label': f'new_candidates_ro_ssc ({len(sel10)})', 'data': sel10, 'color': 'g'}\n",
    "        datasets[8] = {'label': f'best-candidate BD-companions and exoplanets ({len(sel11)})', 'data': sel11, 'color': 'b'}\n",
    "        # datasets[4] = {'label': f'SED IR-excess ({len(sel6)})', 'data': sel6}\n",
    "\n",
    "        # datasets[0]['data'].plot(x_col, y_col, kind='hexbin', gridsize=(200, 100), ax=ax, label=datasets[0]['label'], bins='log', cmap=\"Spectral\")#, cmap=\"Greys\")#, **kwargs)  # , c='parallax'\n",
    "        # datasets[0]['data'].plot(x_col, y_col, kind='hexbin', gridsize=(200, 100), ax=ax, label=datasets[0]['label'], bins='log', cmap=\"Spectral\", extent=[0, 2 ,-5,20])#, cmap=\"Greys\")#, **kwargs)  # , c='parallax'\n",
    "\n",
    "        df = datasets[0]['data']\n",
    "        x = df[x_col].values\n",
    "        y = df[y_col].values\n",
    "        nbins = 200\n",
    "        # bins = [np.logspace(-7, 2, 200), np.logspace(-30, 0, 100)]\n",
    "        bins = [np.logspace(-7, 2, 200), np.linspace(-5, 20, 100)]\n",
    "        H, xedges, yedges = np.histogram2d(x,y,bins=bins)\n",
    "        H = np.rot90(H)\n",
    "        H = np.flipud(H)\n",
    "        Hmasked = np.ma.masked_where(H==0,H) # Mask pixels with a value of zero\n",
    "        Hmasked = np.log10(Hmasked)\n",
    "\n",
    "        # fig = pl.figure(figsize=(8,4))\n",
    "        # ax = pl.gca()\n",
    "        # selected.plot('p1_period_year', 'p1_a1_mas', kind='scatter', logx=True, logy=True, ax=ax, color='k', label=f'{len(selected)}')\n",
    "\n",
    "        # fig = pl.figure()\n",
    "        # ax = pl.gca()\n",
    "        pl.pcolormesh(xedges,yedges,Hmasked,cmap=colormap)\n",
    "        # pl.axvline(1, ls=':', zorder=-51)\n",
    "        # pl.axvline(1/2, ls=':', zorder=-51)\n",
    "        # pl.axvline(1*2, ls=':', zorder=-51)\n",
    "\n",
    "        # df_select.plot('period_year', 'fap', kind='scatter', logx=True, logy=True, ax=ax, color='k', marker='*', s=100)\n",
    "        # pl.xlim((2e-2, 60))\n",
    "        # pl.ylim((1e-1, 1e4))\n",
    "        # pl.xlabel('Orbital period (year)')\n",
    "        # pl.ylabel('Periodogram FAP')\n",
    "        cbar = pl.colorbar()\n",
    "        # cbar.ax.set_ylabel('Counts')\n",
    "        cbar.remove()\n",
    "        # ax.set_yscale('log') \n",
    "        ax.set_xscale('log') \n",
    "\n",
    "\n",
    "\n",
    "\n",
    "        if plot_option in ['all', 'ssc', 'ssc+confirmed']:\n",
    "            datasets[1]['data'].plot(x_col, y_col, kind='scatter', ax=ax, label=datasets[1]['label'], colormap='rainbow', c='0.7', s=5)#, **kwargs)  # , c='parallax'\n",
    "        if plot_option in ['all', 'confirmed', 'confirmed+candidate', 'ssc+confirmed']:\n",
    "            datasets[2]['data'].plot(x_col, y_col, kind='scatter', ax=ax, label=datasets[2]['label'], c='k', s=50, marker = 'o', facecolors='w')#, **kwargs)  # , c='parallax'\n",
    "        # datasets[3]['data'].plot('bp_rp', 'absolute_phot_g_mean_mag', kind='scatter', ax=ax, label=datasets[3]['label'], c='r', s=30)#, **kwargs)  # , c='parallax'\n",
    "        # datasets[3]['data'].plot('bp_rp', 'absolute_phot_g_mean_mag', kind='scatter', ax=ax, label=datasets[3]['label'], c='r', s=30)#, **kwargs)  # , c='parallax'\n",
    "        # datasets[4]['data'].plot('bp_rp', 'absolute_phot_g_mean_mag', kind='scatter', ax=ax, label=datasets[4]['label'], c=datasets[4]['color'], s=30)#, **kwargs)  # , c='parallax'\n",
    "        # datasets[5]['data'].plot('bp_rp', 'absolute_phot_g_mean_mag', kind='scatter', ax=ax, label=datasets[5]['label'], c=datasets[5]['color'], s=30)#, **kwargs)  # , c='parallax'\n",
    "        # datasets[6]['data'].plot('bp_rp', 'absolute_phot_g_mean_mag', kind='scatter', ax=ax, label=datasets[6]['label'], c=datasets[6]['color'], s=30)#, **kwargs)  # , c='parallax'\n",
    "        # datasets[7]['data'].plot('bp_rp', 'absolute_phot_g_mean_mag', kind='scatter', ax=ax, label=datasets[7]['label'], c=datasets[7]['color'], s=30)#, **kwargs)  # , c='parallax'\n",
    "        if plot_option in ['all', 'confirmed+candidate']:\n",
    "            datasets[8]['data'].plot(x_col, y_col, kind='scatter', ax=ax, label=datasets[8]['label'], c=datasets[8]['color'], s=30)#, **kwargs)  # , c='parallax'\n",
    "        # datasets[4]['data'].plot('bp_rp', 'absolute_phot_g_mean_mag', kind='scatter', ax=ax, label=datasets[4]['label'], c='b', s=30)#, **kwargs)  # , c='parallax'\n",
    "        # ax.set_title('{} ({} sources)'.format(title, len(sel1)))\n",
    "        ax.invert_yaxis()\n",
    "\n",
    "\n",
    "        # sel1.nss.plot_cmd(title='Substellar-companion candidates', c=colour_by, colormap=colormap, ax=ax)\n",
    "        # sel1.nss.plot_cmd()\n",
    "        # ax.set_xlabel('$G_\\mathrm{BP}-G_\\mathrm{RP}$')\n",
    "        # ax.set_ylabel('$M_G$')\n",
    "        ax.set_xlabel(x_col)\n",
    "        ax.set_ylabel(y_col)\n",
    "\n",
    "        ax.legend()\n",
    "        pl.show()\n",
    "\n",
    "        saveplot = False\n",
    "        if saveplot:\n",
    "            figure_file_name = os.path.join(plot_dir, f'cmd_{plot_option}.pdf')\n",
    "            logging.info('Saving figure to {}'.format(figure_file_name))\n",
    "            fig.savefig(figure_file_name, transparent=True, bbox_inches='tight', pad_inches=0.05)\n"
   ]
  },
  {
   "cell_type": "code",
   "execution_count": 38,
   "id": "049dbff3-e591-4fe1-bb2a-0886589259de",
   "metadata": {
    "tags": []
   },
   "outputs": [],
   "source": [
    "pd.set_option('display.max_columns', 600)\n",
    "pd.set_option('display.max_rows', 100)\n",
    "# sel_new_candidates = sel2[sel2['source_id'].isin(new_candidates_all_ids)]\n",
    "sel_new_candidates = sel11\n",
    "# sel_new_candidates"
   ]
  },
  {
   "cell_type": "code",
   "execution_count": 39,
   "id": "b7a7728e-4ed7-47e3-ae68-55db743b437e",
   "metadata": {
    "tags": []
   },
   "outputs": [],
   "source": [
    "# new_candidates_nss"
   ]
  },
  {
   "cell_type": "code",
   "execution_count": 40,
   "id": "4f840e2f-343c-4108-bb46-d7d947facd0c",
   "metadata": {
    "tags": []
   },
   "outputs": [
    {
     "data": {
      "text/plain": [
       "22"
      ]
     },
     "execution_count": 40,
     "metadata": {},
     "output_type": "execute_result"
    }
   ],
   "source": [
    "sel_new_candidates['source_id'].nunique()"
   ]
  },
  {
   "cell_type": "code",
   "execution_count": 41,
   "id": "ad413b94-a0cb-4ef6-95ae-ff6daabd27e2",
   "metadata": {
    "tags": []
   },
   "outputs": [],
   "source": [
    "# sel7"
   ]
  },
  {
   "cell_type": "code",
   "execution_count": 42,
   "id": "6ec1116d-055a-46c4-8fd5-11fc559eeee2",
   "metadata": {
    "tags": []
   },
   "outputs": [],
   "source": [
    "# sel8"
   ]
  },
  {
   "cell_type": "code",
   "execution_count": 43,
   "id": "11119087-0950-4147-8885-1a9d4b65e6af",
   "metadata": {
    "tags": []
   },
   "outputs": [],
   "source": [
    "if 0:\n",
    "    fig = pl.figure()\n",
    "    ax = pl.gca()\n",
    "    col = 'mass_function_msun'\n",
    "    # col = 'phot_g_mean_mag'\n",
    "    # col = 'absolute_phot_g_mean_mag'\n",
    "    # col = 'phot_bp_mean_mag'\n",
    "    # col = 'phot_rp_mean_mag'\n",
    "    col = 'radial_velocity_error'\n",
    "    # col = 'goodness_of_fit'\n",
    "    bins = np.logspace(-5,1,100)\n",
    "    logx = True\n",
    "    log = True\n",
    "\n",
    "    if 'phot_g_mean_mag' == col:\n",
    "        bins = np.linspace(-6,20,100)\n",
    "        logx=False    \n",
    "    elif 'mean_mag' in col:\n",
    "        bins = np.linspace(-6,20,100)\n",
    "        logx=False\n",
    "    elif 'radial_velocity_error' in col:\n",
    "        # bins = np.logspace(-1,2,100)\n",
    "        bins = np.linspace(0.1, 1,30)\n",
    "        logx=False\n",
    "\n",
    "    for key, dataset in datasets.items():\n",
    "        sel = dataset['data']\n",
    "        label = dataset['label']\n",
    "        color = dataset['color'] \n",
    "        # if 'BD ' in label:\n",
    "        #     histtype = 'stepfilled'\n",
    "        # else:        \n",
    "        histtype = 'step'\n",
    "\n",
    "        #     continue\n",
    "\n",
    "    # for sel in [sel1, sel2, sel4, sel5]:    \n",
    "        sel[col].plot(kind='hist', histtype=histtype, logx=logx, bins=bins, lw=2, ax=ax, log=log, label=label, color=color)\n",
    "    # sel2[col].plot(kind='hist', histtype='step', logx=logx, bins=bins, lw=2, ax=ax, log=True, label='Solutions without mass estimate', color='g')\n",
    "    # nss_selected[col].plot(kind='hist', histtype='step', logx=logx, bins=bins, lw=2, ax=ax, log=True, label='all solutions', color='0.7')\n",
    "\n",
    "    # sel3 = nss_selected[nss_selected['source_id'].isin(labelled_sources[labelled_sources['label'].isin(['exoplanet', 'brown_dwarf_companion'])]['source_id'])]\n",
    "    # sel3[col].plot(kind='hist', histtype='step', logx=logx, bins=bins, lw=2, ax=ax, log=True, label='Exoplanets & BD companions', color='b')\n",
    "\n",
    "    ax.set_xlabel(col)\n",
    "    pl.legend(loc=2)\n",
    "    pl.show()"
   ]
  },
  {
   "cell_type": "markdown",
   "id": "99dff03e-4c03-4b43-a9df-71f974a126c8",
   "metadata": {},
   "source": [
    "### plot rv_error as function of mass_function  and include gMag"
   ]
  },
  {
   "cell_type": "code",
   "execution_count": 44,
   "id": "a81c4f00-2ea3-44f7-bd38-98aa26fad653",
   "metadata": {
    "tags": []
   },
   "outputs": [],
   "source": [
    "import os\n",
    "from astropy.table import Table\n",
    "from astroquery.simbad import Simbad\n",
    "from astroquery.gaia import Gaia\n",
    "import numpy as np\n",
    "\n",
    "\n",
    "class AstroSource(object):\n",
    "    \"\"\"Class for astronomical sources.\n",
    "\n",
    "    Notes\n",
    "    -----\n",
    "        from astroquery.simbad import Simbad\n",
    "        Simbad.list_votable_fields()\n",
    "    \"\"\"\n",
    "\n",
    "    def __init__(self, identifier):\n",
    "        self.identifier = identifier\n",
    "\n",
    "    def __repr__(self):\n",
    "        return '<AstroSource object id={0}>'.format(self.identifier)\n",
    "\n",
    "    def set_simbad_fields(self, simbad_id, out_dir, overwrite=False,\n",
    "                          votable_fields=('ra(d)', 'dec(d)', 'pmdec', 'pmra', 'parallax', 'sptype', 'ids')):\n",
    "        \"\"\"Retrieve source information from Simbad.\n",
    "\n",
    "        Parameters\n",
    "        ----------\n",
    "        simbad_id\n",
    "        out_dir\n",
    "        overwrite\n",
    "        votable_fields\n",
    "\n",
    "        Returns\n",
    "        -------\n",
    "\n",
    "        \"\"\"\n",
    "\n",
    "        out_file = os.path.join(out_dir, '{}_simbad_parameters.txt'.format(self.identifier))\n",
    "        if (not (os.path.isfile(out_file))) | overwrite:\n",
    "            if os.path.isdir(out_dir) is False:\n",
    "                os.makedirs(out_dir)\n",
    "            simb = Simbad()\n",
    "            if votable_fields is not None:\n",
    "                simb.add_votable_fields(*votable_fields)\n",
    "            pt = simb.query_object(simbad_id)\n",
    "            pt.write(out_file, format='ascii.basic', delimiter=',')\n",
    "        else:\n",
    "            pt = Table.read(out_file, format='ascii.basic', delimiter=',')\n",
    "\n",
    "        for c in pt.colnames:\n",
    "            try:\n",
    "                setattr(self, c, pt[c][0])\n",
    "            except:\n",
    "                setattr(self, c, None)\n",
    "\n",
    "\n",
    "    def set_gaia_source_id(self):\n",
    "        \"\"\"Add the Gaia source_id attribute.\"\"\"\n",
    "\n",
    "        if hasattr(self, 'IDS') is False:\n",
    "            raise RuntimeError('RUN set_simbad_fields() first!')\n",
    "        try:\n",
    "            self.simbad_identifiers = self.IDS.decode().split('|')\n",
    "        except AttributeError:\n",
    "            self.simbad_identifiers = self.IDS.split('|')\n",
    "\n",
    "        self.gaia_dr2_id = None\n",
    "        self.gaia_dr1_id = None\n",
    "        try:\n",
    "            self.gaia_dr2_id = [np.int(id.split(' ')[2].replace(\"'\", \"\").replace(\"\\\"\", \"\")) for id in self.simbad_identifiers if 'Gaia DR2 ' in id][0]\n",
    "        except IndexError:\n",
    "            try:\n",
    "                self.gaia_dr1_id = [id for id in self.simbad_identifiers if 'Gaia DR1 ' in id][0]\n",
    "            except IndexError:\n",
    "                print('No Gaia identifier listed in Simbad!')\n",
    "\n",
    "\n",
    "    def add_gaia(self):\n",
    "        \"\"\"Retrieve and add Gaia DR2 or DR1 parameters.\"\"\"\n",
    "\n",
    "        if hasattr(self, 'IDS') is False:\n",
    "            raise RuntimeError('RUN set_simbad_fields() first!')\n",
    "        try:\n",
    "            self.simbad_identifiers = self.IDS.decode().split('|')\n",
    "        except AttributeError:\n",
    "            self.simbad_identifiers = self.IDS.split('|')\n",
    "\n",
    "        try:\n",
    "            gaia_dr2_id = [id for id in self.simbad_identifiers if 'Gaia DR2 ' in id][0].replace(\"'\", \"\")\n",
    "            # print(gaia_dr2_id)\n",
    "            gacs_query = \"SELECT * FROM gaiadr2.gaia_source WHERE source_id={}\".format(gaia_dr2_id.split(' ')[-1])\n",
    "            job = Gaia.launch_job_async(gacs_query)\n",
    "            self.gaiadr2_table = job.get_results()\n",
    "        except IndexError:\n",
    "            try:\n",
    "                gaia_dr1_id = [id for id in self.simbad_identifiers if 'Gaia DR1 ' in id][0]\n",
    "                # return_gacs_query_as_table(query_string, output_file_seed, overwrite=False, verbose=True):\n",
    "                gacs_query = \"SELECT * FROM gaiadr1.gaia_source WHERE source_id={}\".format(gaia_dr1_id.split(' ')[-1])\n",
    "                job = Gaia.launch_job_async(gacs_query)\n",
    "                self.gaiadr1_table = job.get_results()\n",
    "            except IndexError:\n",
    "                print('No Gaia identifier listed in Simbad!')\n"
   ]
  },
  {
   "cell_type": "code",
   "execution_count": 45,
   "id": "e46525ef-7073-49d8-b83a-f8cdbb9ce44a",
   "metadata": {
    "tags": []
   },
   "outputs": [
    {
     "name": "stdout",
     "output_type": "stream",
     "text": [
      "2540855308890440064\n"
     ]
    },
    {
     "name": "stderr",
     "output_type": "stream",
     "text": [
      "/home/jsahlman/.conda/envs/gorbit/lib/python3.9/site-packages/astroquery/simbad/core.py:135: UserWarning: Warning: The script line number 3 raised an error (recorded in the `errors` attribute of the result table): Identifier not found in the database : Gaia DR3 2540855308890440064\n",
      "  warnings.warn(\"Warning: The script line number %i raised \"\n",
      "/tmp/ipykernel_2002/3226240793.py:22: SettingWithCopyWarning: \n",
      "A value is trying to be set on a copy of a slice from a DataFrame.\n",
      "Try using .loc[row_indexer,col_indexer] = value instead\n",
      "\n",
      "See the caveats in the documentation: https://pandas.pydata.org/pandas-docs/stable/user_guide/indexing.html#returning-a-view-versus-a-copy\n",
      "  sel_new_candidates['name'] = [getattr(simbad_sources[sid], 'latex_url') for sid in sel_new_candidates['source_id']]\n",
      "/tmp/ipykernel_2002/3226240793.py:23: SettingWithCopyWarning: \n",
      "A value is trying to be set on a copy of a slice from a DataFrame.\n",
      "Try using .loc[row_indexer,col_indexer] = value instead\n",
      "\n",
      "See the caveats in the documentation: https://pandas.pydata.org/pandas-docs/stable/user_guide/indexing.html#returning-a-view-versus-a-copy\n",
      "  sel_new_candidates['SpT'] = [getattr(simbad_sources[sid], 'SP_TYPE', 'N/A') for sid in sel_new_candidates['source_id']]\n",
      "/tmp/ipykernel_2002/3226240793.py:24: SettingWithCopyWarning: \n",
      "A value is trying to be set on a copy of a slice from a DataFrame.\n",
      "Try using .loc[row_indexer,col_indexer] = value instead\n",
      "\n",
      "See the caveats in the documentation: https://pandas.pydata.org/pandas-docs/stable/user_guide/indexing.html#returning-a-view-versus-a-copy\n",
      "  sel_new_candidates['MAIN_ID'] = [getattr(simbad_sources[sid], 'MAIN_ID', 'N/A') for sid in sel_new_candidates['source_id']]\n"
     ]
    }
   ],
   "source": [
    "simbad_dir = '/media/team_workspaces/Gaia-Orbit-Classification/jsahlmann/data/simbad'\n",
    "os.makedirs(simbad_dir, exist_ok=True)\n",
    "\n",
    "simbad_sources = {}\n",
    "\n",
    "for sid in sel_new_candidates['source_id']:\n",
    "    # if sid != 5773484949857279104:\n",
    "    #     continue\n",
    "    simbad_id = f\"Gaia DR3 {sid}\"\n",
    "    # 1/0\n",
    "    astro_source = AstroSource(simbad_id)\n",
    "    try:\n",
    "        astro_source.set_simbad_fields(simbad_id, simbad_dir)\n",
    "    except AttributeError:\n",
    "        print(sid)\n",
    "        # setattr(astro_source, 'MAIN_ID', sid)\n",
    "\n",
    "    astro_source.latex_url = f\"\\href{{http://simbad.u-strasbg.fr/simbad/sim-basic?Ident=Gaia+DR3+{sid}&submit=SIMBAD+search}}{{{getattr(astro_source, 'MAIN_ID', sid)}}}\" \n",
    "    simbad_sources[sid] = astro_source\n",
    "    \n",
    "    \n",
    "sel_new_candidates['name'] = [getattr(simbad_sources[sid], 'latex_url') for sid in sel_new_candidates['source_id']]    \n",
    "sel_new_candidates['SpT'] = [getattr(simbad_sources[sid], 'SP_TYPE', 'N/A') for sid in sel_new_candidates['source_id']]    \n",
    "sel_new_candidates['MAIN_ID'] = [getattr(simbad_sources[sid], 'MAIN_ID', 'N/A') for sid in sel_new_candidates['source_id']]    \n",
    "\n"
   ]
  },
  {
   "cell_type": "code",
   "execution_count": 46,
   "id": "c3600bef-840b-42d5-89d5-cb940685f3a4",
   "metadata": {
    "tags": []
   },
   "outputs": [
    {
     "name": "stderr",
     "output_type": "stream",
     "text": [
      "/home/jsahlman/.conda/envs/gorbit/lib/python3.9/site-packages/pystrometry/utils/du437_tools.py:519: SettingWithCopyWarning: \n",
      "A value is trying to be set on a copy of a slice from a DataFrame.\n",
      "Try using .loc[row_indexer,col_indexer] = value instead\n",
      "\n",
      "See the caveats in the documentation: https://pandas.pydata.org/pandas-docs/stable/user_guide/indexing.html#returning-a-view-versus-a-copy\n",
      "  self._obj['m2_MJ'] = m2_kg / pystrometry.MJ_kg\n",
      "/home/jsahlman/.conda/envs/gorbit/lib/python3.9/site-packages/pystrometry/utils/du437_tools.py:520: SettingWithCopyWarning: \n",
      "A value is trying to be set on a copy of a slice from a DataFrame.\n",
      "Try using .loc[row_indexer,col_indexer] = value instead\n",
      "\n",
      "See the caveats in the documentation: https://pandas.pydata.org/pandas-docs/stable/user_guide/indexing.html#returning-a-view-versus-a-copy\n",
      "  self._obj['m2_MS'] = m2_kg / pystrometry.MS_kg\n",
      "/home/jsahlman/.conda/envs/gorbit/lib/python3.9/site-packages/pystrometry/utils/du437_tools.py:521: SettingWithCopyWarning: \n",
      "A value is trying to be set on a copy of a slice from a DataFrame.\n",
      "Try using .loc[row_indexer,col_indexer] = value instead\n",
      "\n",
      "See the caveats in the documentation: https://pandas.pydata.org/pandas-docs/stable/user_guide/indexing.html#returning-a-view-versus-a-copy\n",
      "  self._obj['m1_MS'] = m1_MS\n"
     ]
    }
   ],
   "source": [
    "sel_new_candidates = sel_new_candidates.nss.add_companion_mass_estimate()"
   ]
  },
  {
   "cell_type": "code",
   "execution_count": 47,
   "id": "e5e65a7e-6e34-45ce-b77d-20a1757c62d5",
   "metadata": {
    "tags": []
   },
   "outputs": [],
   "source": [
    "sel_new_candidates = sel_new_candidates.merge(new_candidates_all, on='source_id')"
   ]
  },
  {
   "cell_type": "code",
   "execution_count": 48,
   "id": "82347018-dbd5-4476-b8b7-48e6510b2dcf",
   "metadata": {
    "tags": []
   },
   "outputs": [],
   "source": [
    "# sel_new_candidates.columns"
   ]
  },
  {
   "cell_type": "code",
   "execution_count": 49,
   "id": "e858fb2a-7452-4583-932c-b44663cc8c2c",
   "metadata": {
    "tags": []
   },
   "outputs": [],
   "source": [
    "cols = ['source_id', 'MAIN_ID', 'SpT', 'nss_solution_type', 'period', 'mass_function_msun', 'm2_MJ', 'relative_occurence', 'absolute_phot_g_mean_mag', 'bp_rp', 'relative_occurence']\n",
    "cols += ['relative_occurence_ssc', 'relative_occurence_nss']\n",
    "# display(sel_new_candidates.sort_values('absolute_phot_g_mean_mag')[cols])"
   ]
  },
  {
   "cell_type": "code",
   "execution_count": 50,
   "id": "e8c328ce-9b3e-4a16-b6ff-77bdd184eedb",
   "metadata": {
    "tags": []
   },
   "outputs": [],
   "source": [
    "# cols = ['source_id', 'name', 'SpT', 'nss_solution_type', 'period', 'mass_function_msun', 'm2_MJ', 'relative_occurence']\n",
    "cols = ['source_id', 'name', 'SpT', 'nst', 'period', 'mass_function_msun', 'm2_MJ', 'relative_occurence']\n",
    "cols += ['relative_occurence_ssc', 'relative_occurence_nss', 'is_ssc']\n",
    "sel_new_candidates['nst'] = sel_new_candidates['nss_solution_type'].replace({'OrbitalTargetedSearchValidated':'OTSV', 'OrbitalTargetedSearch':'OTS', 'AstroSpectroSB1': 'ASB1'})"
   ]
  },
  {
   "cell_type": "code",
   "execution_count": 51,
   "id": "81ab213a-2ef0-4a75-8873-65f4bf47f267",
   "metadata": {
    "tags": []
   },
   "outputs": [],
   "source": [
    "col2 = sel_new_candidates.columns"
   ]
  },
  {
   "cell_type": "code",
   "execution_count": 52,
   "id": "e5aa7fea-f6b8-405d-997a-31e34d6a6da5",
   "metadata": {
    "tags": []
   },
   "outputs": [],
   "source": [
    "# sel_new_candidates.query('source_id == 5773484949857278976')"
   ]
  },
  {
   "cell_type": "code",
   "execution_count": 53,
   "id": "f00e6f77-470a-47d8-ab7b-2284dbe68a73",
   "metadata": {
    "tags": []
   },
   "outputs": [],
   "source": [
    "# tmp3 = sel_new_candidates.query('relative_occurence > 0.5').sort_values('mass_function_msun')[cols].reset_index(drop=True)\n",
    "# print(tmp3.to_latex(index=True, formatters={'source_id': \"{:d}\".format, 'mass_function_msun': \"{:.1e}\".format}, float_format=\"{:.1f}\".format))\n"
   ]
  },
  {
   "cell_type": "markdown",
   "id": "aa867e18-06cc-4246-8c37-b820fd016954",
   "metadata": {
    "tags": []
   },
   "source": [
    "# for paper!"
   ]
  },
  {
   "cell_type": "code",
   "execution_count": 54,
   "id": "e731d0f4-51a0-4c4d-83e5-49081cb8078e",
   "metadata": {
    "tags": []
   },
   "outputs": [
    {
     "data": {
      "text/plain": [
       "False"
      ]
     },
     "execution_count": 54,
     "metadata": {},
     "output_type": "execute_result"
    }
   ],
   "source": [
    "show_second_tier_of_contenders"
   ]
  },
  {
   "cell_type": "code",
   "execution_count": 55,
   "id": "5162dd80-8449-46e2-9404-72562e49ebd5",
   "metadata": {
    "tags": []
   },
   "outputs": [
    {
     "name": "stdout",
     "output_type": "stream",
     "text": [
      "\\begin{tabular}{lrlllrrrrrrr}\n",
      "\\toprule\n",
      " & source_id & name & SpT & nst & period & mass_function_msun & m2_MJ & relative_occurence & relative_occurence_ssc & relative_occurence_nss & is_ssc \\\\\n",
      "\\midrule\n",
      "0 & 2884087104955208064 & \\href{http://simbad.u-strasbg.fr/simbad/sim-basic?Ident=Gaia+DR3+2884087104955208064&submit=SIMBAD+search}{HD  40503} & K2/3V & OTSV & 826.5 & 1.9e-07 & 6.1 & 0.8 & 0.8 & 0.8 & 1 \\\\\n",
      "1 & 522135261462534528 & \\href{http://simbad.u-strasbg.fr/simbad/sim-basic?Ident=Gaia+DR3+522135261462534528&submit=SIMBAD+search}{*  54 Cas} & F8 & OTS & 401.1 & 2.5e-07 & 6.6 & 0.9 & 1.0 & 0.8 & 1 \\\\\n",
      "2 & 1712614124767394816 & \\href{http://simbad.u-strasbg.fr/simbad/sim-basic?Ident=Gaia+DR3+1712614124767394816&submit=SIMBAD+search}{BD+75   510} & M0V & OTSV & 297.6 & 6.4e-07 & 9.1 & 0.8 & 0.8 & 0.8 & 1 \\\\\n",
      "3 & 1610837178107032192 & \\href{http://simbad.u-strasbg.fr/simbad/sim-basic?Ident=Gaia+DR3+1610837178107032192&submit=SIMBAD+search}{HD 128717} & F8 & OTS & 1089.2 & 1.4e-06 & 11.8 & 0.9 & 1.0 & 0.8 & 1 \\\\\n",
      "4 & 1878822452815621120 & \\href{http://simbad.u-strasbg.fr/simbad/sim-basic?Ident=Gaia+DR3+1878822452815621120&submit=SIMBAD+search}{BD+24  4592} & K2 & OTS & 1009.3 & 5.4e-06 & 18.5 & 0.9 & 1.0 & 0.8 & 1 \\\\\n",
      "5 & 1897143408911208832 & \\href{http://simbad.u-strasbg.fr/simbad/sim-basic?Ident=Gaia+DR3+1897143408911208832&submit=SIMBAD+search}{HD 207740} & G5V & OTS & 712.2 & 2.8e-05 & 32.5 & 0.9 & 1.0 & 0.8 & 1 \\\\\n",
      "6 & 6330529666839726592 & \\href{http://simbad.u-strasbg.fr/simbad/sim-basic?Ident=Gaia+DR3+6330529666839726592&submit=SIMBAD+search}{TYC 4998-437-1} & -- & Orbital & 526.1 & 7.1e-05 & 44.5 & 0.6 & 0.5 & 0.8 & 1 \\\\\n",
      "7 & 364792020789523584 & \\href{http://simbad.u-strasbg.fr/simbad/sim-basic?Ident=Gaia+DR3+364792020789523584&submit=SIMBAD+search}{BD+32    92} & F8 & OTS & 291.9 & 1.6e-04 & 59.3 & 1.0 & 1.0 & 1.0 & 1 \\\\\n",
      "8 & 5773484949857279104 & \\href{http://simbad.u-strasbg.fr/simbad/sim-basic?Ident=Gaia+DR3+5773484949857279104&submit=SIMBAD+search}{GSC 09436-01089} & -- & ASB1 & 409.9 & 2.3e-04 & 66.9 & 0.6 & 0.8 & 0.5 & 1 \\\\\n",
      "9 & 3913728032959687424 & \\href{http://simbad.u-strasbg.fr/simbad/sim-basic?Ident=Gaia+DR3+3913728032959687424&submit=SIMBAD+search}{HD  99251} & F5 & Orbital & 328.9 & 2.3e-04 & 67.0 & 0.9 & 1.0 & 0.8 & 1 \\\\\n",
      "10 & 2540855308890440064 & \\href{http://simbad.u-strasbg.fr/simbad/sim-basic?Ident=Gaia+DR3+2540855308890440064&submit=SIMBAD+search}{2540855308890440064} & N/A & Orbital & 239.8 & 2.8e-04 & 71.5 & 0.9 & 1.0 & 0.8 & 1 \\\\\n",
      "11 & 1156378820136922880 & \\href{http://simbad.u-strasbg.fr/simbad/sim-basic?Ident=Gaia+DR3+1156378820136922880&submit=SIMBAD+search}{G  15-6} & G4 & Orbital & 268.3 & 3.6e-04 & 78.3 & 0.8 & 1.0 & 0.5 & 1 \\\\\n",
      "12 & 2171489736355655680 & \\href{http://simbad.u-strasbg.fr/simbad/sim-basic?Ident=Gaia+DR3+2171489736355655680&submit=SIMBAD+search}{HD 206484} & F8 & ASB1 & 479.5 & 4.0e-04 & 81.2 & 0.8 & 1.0 & 0.5 & 1 \\\\\n",
      "13 & 3909531609393458688 & \\href{http://simbad.u-strasbg.fr/simbad/sim-basic?Ident=Gaia+DR3+3909531609393458688&submit=SIMBAD+search}{TYC  277-599-1} & -- & Orbital & 520.6 & 4.4e-04 & 83.7 & 0.8 & 1.0 & 0.5 & 1 \\\\\n",
      "5 & 4545802186476906880 & \\href{http://simbad.u-strasbg.fr/simbad/sim-basic?Ident=Gaia+DR3+4545802186476906880&submit=SIMBAD+search}{HD 153376} & F8V & OTS & 910.8 & 1.2e-05 & 24.2 & 0.4 & 0.0 & 0.8 & 0 \\\\\n",
      "8 & 5148853253106611200 & \\href{http://simbad.u-strasbg.fr/simbad/sim-basic?Ident=Gaia+DR3+5148853253106611200&submit=SIMBAD+search}{LP  769-9} & -- & Orbital & 339.6 & 1.5e-04 & 57.1 & 0.4 & 0.0 & 0.8 & 1 \\\\\n",
      "12 & 3921176983720146560 & \\href{http://simbad.u-strasbg.fr/simbad/sim-basic?Ident=Gaia+DR3+3921176983720146560&submit=SIMBAD+search}{HD 106888} & F8 & OTSV & 366.3 & 5.8e-04 & 92.3 & 0.5 & 0.0 & 1.0 & 0 \\\\\n",
      "13 & 3067074530201582336 & \\href{http://simbad.u-strasbg.fr/simbad/sim-basic?Ident=Gaia+DR3+3067074530201582336&submit=SIMBAD+search}{BD-06  2423A} & -- & OTS & 43.6 & 2.5e-03 & 155.8 & 0.4 & 0.0 & 0.8 & 0 \\\\\n",
      "0 & 5484481960625470336 & \\href{http://simbad.u-strasbg.fr/simbad/sim-basic?Ident=Gaia+DR3+5484481960625470336&submit=SIMBAD+search}{HD  49264} & G3IV/V & Orbital & 428.0 & 1.6e-04 & 58.8 & 0.5 & 0.8 & 0.2 & 1 \\\\\n",
      "1 & 2280560705703031552 & \\href{http://simbad.u-strasbg.fr/simbad/sim-basic?Ident=Gaia+DR3+2280560705703031552&submit=SIMBAD+search}{HD 212620} & F8 & Orbital & 429.0 & 2.0e-04 & 63.5 & 0.4 & 0.8 & 0.0 & 1 \\\\\n",
      "2 & 5323844651848467968 & \\href{http://simbad.u-strasbg.fr/simbad/sim-basic?Ident=Gaia+DR3+5323844651848467968&submit=SIMBAD+search}{HD  78631} & F8V & ASB1 & 666.5 & 1.1e-03 & 115.5 & 0.5 & 1.0 & 0.0 & 1 \\\\\n",
      "3 & 1576108450508750208 & \\href{http://simbad.u-strasbg.fr/simbad/sim-basic?Ident=Gaia+DR3+1576108450508750208&submit=SIMBAD+search}{HD 104289} & F8 & OTS & 1233.3 & 1.2e-03 & 121.1 & 0.5 & 1.0 & 0.0 & 1 \\\\\n",
      "\\bottomrule\n",
      "\\end{tabular}\n",
      "\n",
      "22\n"
     ]
    }
   ],
   "source": [
    "if show_second_tier_of_contenders is False:\n",
    "    # substellar contenders\n",
    "    tmp3 = sel_new_candidates.query('relative_occurence > 0.5').sort_values('mass_function_msun')[col2].reset_index(drop=True)\n",
    "    # print(tmp3.to_latex(index=True, formatters={'source_id': \"{:d}\".format, 'mass_function_msun': \"{:.1e}\".format}, float_format=\"{:.1f}\".format))\n",
    "\n",
    "    tmp4 = sel_new_candidates.query('relative_occurence_nss > 0.5').sort_values('mass_function_msun')[col2].reset_index(drop=True)\n",
    "    tmp4 = tmp4[~tmp4['source_id'].isin(tmp3['source_id'])]\n",
    "    # print(tmp4.to_latex(index=True, formatters={'source_id': \"{:d}\".format, 'mass_function_msun': \"{:.1e}\".format}, float_format=\"{:.1f}\".format))\n",
    "\n",
    "    tmp5 = sel_new_candidates.query('relative_occurence_ssc > 0.5').sort_values('mass_function_msun')[col2].reset_index(drop=True)\n",
    "    tmp5 = tmp5[~tmp5['source_id'].isin(tmp4['source_id'])]\n",
    "    tmp5 = tmp5[~tmp5['source_id'].isin(tmp3['source_id'])]\n",
    "    # print(tmp5.reset_index(drop=True).to_latex(index=True, formatters={'source_id': \"{:d}\".format, 'mass_function_msun': \"{:.1e}\".format}, float_format=\"{:.1f}\".format))\n",
    "\n",
    "\n",
    "    tmp_all = pd.concat([tmp3, tmp4, tmp5.reset_index(drop=True)])\n",
    "    # print(tmp_all[cols].to_latex(index=True, formatters={'source_id': \"{:d}\".format, 'mass_function_msun': \"{:.1e}\".format}, float_format=\"{:.1f}\".format, ))\n",
    "    # print(len(tmp_all))\n",
    "\n",
    "else:\n",
    "    tmp3 = sel_new_candidates.sort_values('mass_function_msun')[col2].reset_index(drop=True)\n",
    "\n",
    "#     tmp4 = sel_new_candidates.query('relative_occurence_nss > 0.5').sort_values('mass_function_msun')[col2].reset_index(drop=True)\n",
    "#     tmp4 = tmp4[~tmp4['source_id'].isin(tmp3['source_id'])]\n",
    "#     # print(tmp4.to_latex(index=True, formatters={'source_id': \"{:d}\".format, 'mass_function_msun': \"{:.1e}\".format}, float_format=\"{:.1f}\".format))\n",
    "\n",
    "#     tmp5 = sel_new_candidates.query('relative_occurence_ssc > 0.5').sort_values('mass_function_msun')[col2].reset_index(drop=True)\n",
    "#     tmp5 = tmp5[~tmp5['source_id'].isin(tmp4['source_id'])]\n",
    "#     tmp5 = tmp5[~tmp5['source_id'].isin(tmp3['source_id'])]\n",
    "#     # print(tmp5.reset_index(drop=True).to_latex(index=True, formatters={'source_id': \"{:d}\".format, 'mass_function_msun': \"{:.1e}\".format}, float_format=\"{:.1f}\".format))\n",
    "\n",
    "    tmp_all = tmp3.copy()\n",
    "    # tmp_all = pd.concat([tmp3, tmp4, tmp5.reset_index(drop=True)])\n",
    "    \n",
    "tmp_all['is_ssc'] = tmp_all['source_id'].isin(labelled_sources[labelled_sources['label'].isin(['substellar_companion_candidates', 'better_substellar_companion_candidates'])]['source_id']).astype(int)    \n",
    "print(tmp_all[cols].to_latex(index=True, formatters={'source_id': \"{:d}\".format, 'mass_function_msun': \"{:.1e}\".format}, float_format=\"{:.1f}\".format, ))\n",
    "print(len(tmp_all))\n",
    "\n",
    "# check that all candidates are from the preselected sources    \n",
    "assert labelled_sources[labelled_sources['source_id'].isin(tmp_all['source_id'])]['label'].isin(['substellar_companion_candidates', 'better_substellar_companion_candidates']).all()    "
   ]
  },
  {
   "cell_type": "code",
   "execution_count": 56,
   "id": "d3e8749b-b68d-4d69-aa89-880258b3e10b",
   "metadata": {
    "tags": []
   },
   "outputs": [],
   "source": [
    "\n",
    "\n",
    "# labelled_sources[labelled_sources['source_id'].isin(tmp_all['source_id'])]['label'].isin(['substellar_companion_candidates', 'better_substellar_companion_candidates']).astype(int)"
   ]
  },
  {
   "cell_type": "code",
   "execution_count": 57,
   "id": "882a7f70-4e54-46c0-bed0-d4049e785030",
   "metadata": {
    "tags": []
   },
   "outputs": [],
   "source": [
    "# sel_new_candidates"
   ]
  },
  {
   "cell_type": "code",
   "execution_count": 58,
   "id": "0b4ba9dc-2035-433f-b7a0-50aef12e47fe",
   "metadata": {
    "tags": []
   },
   "outputs": [
    {
     "name": "stdout",
     "output_type": "stream",
     "text": [
      "Retrieved 195315 rows from gaiadr3.binary_masses\n"
     ]
    }
   ],
   "source": [
    "# query archive\n",
    "root_data_dir = '/media/team_workspaces/Gaia-Orbit-Classification/jsahlmann/data'\n",
    "gaia_data_release = 'gaiadr3'\n",
    "input_list_name = 'nss'\n",
    "data_dir = os.path.join(root_data_dir, gaia_data_release)\n",
    "# plot_dir = os.path.join(data_dir, 'figures', input_list_name)\n",
    "\n",
    "gaia_table_name='binary_masses'\n",
    "analysis_dataset_name = '{}_all'.format(gaia_table_name)\n",
    "\n",
    "binary_masses = get_gaiadr_data(analysis_dataset_name, data_dir, gaia_data_release=gaia_data_release, gaia_table_name=gaia_table_name)"
   ]
  },
  {
   "cell_type": "code",
   "execution_count": 59,
   "id": "737aae56-8b16-4a4d-a2ce-fb14f70069fb",
   "metadata": {
    "tags": []
   },
   "outputs": [
    {
     "name": "stderr",
     "output_type": "stream",
     "text": [
      "INFO:root:using column m1_MS values to compute companion mass\n"
     ]
    },
    {
     "name": "stdout",
     "output_type": "stream",
     "text": [
      "22\n",
      "\\begin{tabular}{rlllrrrrrrrll}\n",
      "\\toprule\n",
      "source_id & name & SpT & nst & period & mass_function_msun & m2_MJ & relative_occurence & relative_occurence_ssc & relative_occurence_nss & is_ssc & $M_1$ & $M_{2, \\mathrm{alt}}$ \\\\\n",
      "\\midrule\n",
      "2884087104955208064 & \\href{http://simbad.u-strasbg.fr/simbad/sim-basic?Ident=Gaia+DR3+2884087104955208064&submit=SIMBAD+search}{HD  40503} & K2/3V & OTSV & 826.5 & 1.9e-07 & 5.2 & 0.8 & 0.8 & 0.8 & 1 & ${0.79}^{+0.05}_{-0.23}$ & $0.004$-$0.681$ \\\\\n",
      "522135261462534528 & \\href{http://simbad.u-strasbg.fr/simbad/sim-basic?Ident=Gaia+DR3+522135261462534528&submit=SIMBAD+search}{*  54 Cas} & F8 & OTS & 401.1 & 2.5e-07 & 7.1 & 0.9 & 1.0 & 0.8 & 1 & ${1.09}^{+0.06}_{-0.31}$ & $0.005$-$0.905$ \\\\\n",
      "1712614124767394816 & \\href{http://simbad.u-strasbg.fr/simbad/sim-basic?Ident=Gaia+DR3+1712614124767394816&submit=SIMBAD+search}{BD+75   510} & M0V & OTSV & 297.6 & 6.4e-07 & 7.3 & 0.8 & 0.8 & 0.8 & 1 & ${0.71}^{+0.05}_{-0.20}$ & $0.006$-$0.632$ \\\\\n",
      "1610837178107032192 & \\href{http://simbad.u-strasbg.fr/simbad/sim-basic?Ident=Gaia+DR3+1610837178107032192&submit=SIMBAD+search}{HD 128717} & F8 & OTS & 1089.2 & 1.4e-06 & 12.8 & 0.9 & 1.0 & 0.8 & 1 & ${1.13}^{+0.06}_{-0.16}$ & $0.010$-$1.109$ \\\\\n",
      "1878822452815621120 & \\href{http://simbad.u-strasbg.fr/simbad/sim-basic?Ident=Gaia+DR3+1878822452815621120&submit=SIMBAD+search}{BD+24  4592} & K2 & OTS & 1009.3 & 5.4e-06 & 16.3 & 0.9 & 1.0 & 0.8 & 1 & ${0.82}^{+0.05}_{-0.21}$ & $0.014$-$0.766$ \\\\\n",
      "1897143408911208832 & \\href{http://simbad.u-strasbg.fr/simbad/sim-basic?Ident=Gaia+DR3+1897143408911208832&submit=SIMBAD+search}{HD 207740} & G5V & OTS & 712.2 & 2.8e-05 & 32.3 & 0.9 & 1.0 & 0.8 & 1 & ${0.99}^{+0.05}_{-0.12}$ & $0.029$-$1.089$ \\\\\n",
      "6330529666839726592 & \\href{http://simbad.u-strasbg.fr/simbad/sim-basic?Ident=Gaia+DR3+6330529666839726592&submit=SIMBAD+search}{TYC 4998-437-1} & -- & Orbital & 526.1 & 7.1e-05 & 39.0 & 0.6 & 0.5 & 0.8 & 1 & ${0.82}^{+0.05}_{-0.20}$ & $0.032$-$0.831$ \\\\\n",
      "364792020789523584 & \\href{http://simbad.u-strasbg.fr/simbad/sim-basic?Ident=Gaia+DR3+364792020789523584&submit=SIMBAD+search}{BD+32    92} & F8 & OTS & 291.9 & 1.6e-04 & 67.2 & 1.0 & 1.0 & 1.0 & 1 & ${1.21}^{+0.06}_{-0.14}$ & $0.057$-$1.382$ \\\\\n",
      "5773484949857279104 & \\href{http://simbad.u-strasbg.fr/simbad/sim-basic?Ident=Gaia+DR3+5773484949857279104&submit=SIMBAD+search}{GSC 09436-01089} & -- & ASB1 & 409.9 & 2.3e-04 & 73.8 & 0.6 & 0.8 & 0.5 & 1 & ${1.16}^{+0.07}_{-0.12}$ & $0.063$-$1.391$ \\\\\n",
      "3913728032959687424 & \\href{http://simbad.u-strasbg.fr/simbad/sim-basic?Ident=Gaia+DR3+3913728032959687424&submit=SIMBAD+search}{HD  99251} & F5 & Orbital & 328.9 & 2.3e-04 & 78.6 & 0.9 & 1.0 & 0.8 & 1 & ${1.28}^{+0.06}_{-0.20}$ & $0.069$-$1.411$ \\\\\n",
      "2540855308890440064 & \\href{http://simbad.u-strasbg.fr/simbad/sim-basic?Ident=Gaia+DR3+2540855308890440064&submit=SIMBAD+search}{2540855308890440064} & N/A & Orbital & 239.8 & 2.8e-04 & 65.7 & 0.9 & 1.0 & 0.8 & 1 & ${0.88}^{+0.06}_{-0.17}$ & $0.056$-$1.006$ \\\\\n",
      "1156378820136922880 & \\href{http://simbad.u-strasbg.fr/simbad/sim-basic?Ident=Gaia+DR3+1156378820136922880&submit=SIMBAD+search}{G  15-6} & G4 & Orbital & 268.3 & 3.6e-04 & 72.2 & 0.8 & 1.0 & 0.5 & 1 & ${0.88}^{+0.05}_{-0.30}$ & $0.065$-$0.872$ \\\\\n",
      "2171489736355655680 & \\href{http://simbad.u-strasbg.fr/simbad/sim-basic?Ident=Gaia+DR3+2171489736355655680&submit=SIMBAD+search}{HD 206484} & F8 & ASB1 & 479.5 & 4.0e-04 & 90.4 & 0.8 & 1.0 & 0.5 & 1 & ${1.18}^{+0.06}_{-0.06}$ & ${0.078}^{+0.006}_{-0.006}$ \\\\\n",
      "3909531609393458688 & \\href{http://simbad.u-strasbg.fr/simbad/sim-basic?Ident=Gaia+DR3+3909531609393458688&submit=SIMBAD+search}{TYC  277-599-1} & -- & Orbital & 520.6 & 4.4e-04 & 79.5 & 0.8 & 1.0 & 0.5 & 1 & ${0.92}^{+0.06}_{-0.13}$ & $0.067$-$1.141$ \\\\\n",
      "4545802186476906880 & \\href{http://simbad.u-strasbg.fr/simbad/sim-basic?Ident=Gaia+DR3+4545802186476906880&submit=SIMBAD+search}{HD 153376} & F8V & OTS & 910.8 & 1.2e-05 & 24.2 & 0.4 & 0.0 & 0.8 & 0 & NaN & NaN \\\\\n",
      "5148853253106611200 & \\href{http://simbad.u-strasbg.fr/simbad/sim-basic?Ident=Gaia+DR3+5148853253106611200&submit=SIMBAD+search}{LP  769-9} & -- & Orbital & 339.6 & 1.5e-04 & 44.8 & 0.4 & 0.0 & 0.8 & 1 & ${0.69}^{+0.05}_{-0.19}$ & $0.039$-$0.723$ \\\\\n",
      "3921176983720146560 & \\href{http://simbad.u-strasbg.fr/simbad/sim-basic?Ident=Gaia+DR3+3921176983720146560&submit=SIMBAD+search}{HD 106888} & F8 & OTSV & 366.3 & 5.8e-04 & 98.9 & 0.5 & 0.0 & 1.0 & 0 & ${1.11}^{+0.06}_{-0.14}$ & $0.083$-$1.388$ \\\\\n",
      "3067074530201582336 & \\href{http://simbad.u-strasbg.fr/simbad/sim-basic?Ident=Gaia+DR3+3067074530201582336&submit=SIMBAD+search}{BD-06  2423A} & -- & OTS & 43.6 & 2.5e-03 & 155.8 & 0.4 & 0.0 & 0.8 & 0 & NaN & NaN \\\\\n",
      "5484481960625470336 & \\href{http://simbad.u-strasbg.fr/simbad/sim-basic?Ident=Gaia+DR3+5484481960625470336&submit=SIMBAD+search}{HD  49264} & G3IV/V & Orbital & 428.0 & 1.6e-04 & 59.7 & 0.5 & 0.8 & 0.2 & 1 & ${1.02}^{+0.06}_{-0.08}$ & $0.052$-$1.261$ \\\\\n",
      "2280560705703031552 & \\href{http://simbad.u-strasbg.fr/simbad/sim-basic?Ident=Gaia+DR3+2280560705703031552&submit=SIMBAD+search}{HD 212620} & F8 & Orbital & 429.0 & 2.0e-04 & 76.1 & 0.4 & 0.8 & 0.0 & 1 & ${1.32}^{+0.06}_{-0.19}$ & $0.065$-$1.475$ \\\\\n",
      "5323844651848467968 & \\href{http://simbad.u-strasbg.fr/simbad/sim-basic?Ident=Gaia+DR3+5323844651848467968&submit=SIMBAD+search}{HD  78631} & F8V & ASB1 & 666.5 & 1.1e-03 & 123.6 & 0.5 & 1.0 & 0.0 & 1 & ${1.11}^{+0.06}_{-0.06}$ & ${0.076}^{+0.014}_{-0.012}$ \\\\\n",
      "1576108450508750208 & \\href{http://simbad.u-strasbg.fr/simbad/sim-basic?Ident=Gaia+DR3+1576108450508750208&submit=SIMBAD+search}{HD 104289} & F8 & OTS & 1233.3 & 1.2e-03 & 132.7 & 0.5 & 1.0 & 0.0 & 1 & ${1.15}^{+0.06}_{-0.05}$ & ${0.047}^{+0.006}_{-0.006}$ \\\\\n",
      "\\bottomrule\n",
      "\\end{tabular}\n",
      "\n"
     ]
    }
   ],
   "source": [
    "tmp_bm = binary_masses[binary_masses['source_id'].isin(tmp_all['source_id'])].reset_index(drop=True)\n",
    "# print(len(tmp_bm))\n",
    "\n",
    "\n",
    "\n",
    "tmp_bm['$M_1$'] = tmp_bm.apply(lambda x: f\"${{{x['m1']:2.2f}}}^{{+{x['m1_upper']-x['m1']:2.2f}}}_{{-{x['m1']-x['m1_lower']:2.2f}}}$\", axis=1)\n",
    "\n",
    "def m2_latex(x):\n",
    "    if np.isnan(x['m2']):\n",
    "        return f\"${x['m2_lower']:2.3f}$-${x['m2_upper']:2.3f}$\"\n",
    "    else:\n",
    "        return f\"${{{x['m2']:2.3f}}}^{{+{x['m2_upper']-x['m2']:2.3f}}}_{{-{x['m2']-x['m2_lower']:2.3f}}}$\"\n",
    "\n",
    "tmp_bm['$M_{2, \\mathrm{alt}}$'] = tmp_bm.apply(m2_latex, axis=1)\n",
    "\n",
    "\n",
    "# display(tmp_bm)\n",
    "best_contenders = tmp_all.merge(tmp_bm, on='source_id', how='outer')\n",
    "\n",
    "best_contenders['m1_MS'] = [m if ~np.isnan(m) else 1.0 for m in best_contenders['m1']]\n",
    "# best_contenders['$M_1$'] = [m if ~np.isnan(m) else 1.0 for m in best_contenders['$M_1$']]\n",
    "best_contenders = best_contenders.nss.add_companion_mass_estimate(m1_MS=None)\n",
    "print(len(best_contenders))\n",
    "\n",
    "\n",
    "cols2 = cols + ['$M_1$', '$M_{2, \\mathrm{alt}}$']\n",
    "\n",
    "# print(best_contenders[best_contenders['source_id']==5323844651848467968]['m2_MJ'])\n",
    "print(best_contenders[cols2].to_latex(index=False, formatters={'source_id': \"{:d}\".format, 'mass_function_msun': \"{:.1e}\".format}, float_format=\"{:.1f}\".format, ))\n",
    "\n",
    "\n",
    "# display(best_contenders[best_contenders['source_id']==5323844651848467968].iloc[0])"
   ]
  },
  {
   "cell_type": "code",
   "execution_count": 60,
   "id": "1ba91db1-0866-4812-a190-1f17ee5c1bc2",
   "metadata": {
    "tags": []
   },
   "outputs": [],
   "source": [
    "# (best_contenders['$M_1$'])"
   ]
  },
  {
   "cell_type": "code",
   "execution_count": 61,
   "id": "44587c6c-af5c-47b2-90bd-be6ae74bc269",
   "metadata": {
    "tags": []
   },
   "outputs": [
    {
     "data": {
      "text/plain": [
       "source_id                     5484481960625470336\n",
       "m1                                       1.022197\n",
       "m1_lower                                 0.939945\n",
       "m1_upper                                 1.080575\n",
       "m2                                            NaN\n",
       "m2_lower                                 0.051613\n",
       "m2_upper                                 1.261184\n",
       "fluxratio                                     NaN\n",
       "fluxratio_lower                               0.0\n",
       "fluxratio_upper                               1.0\n",
       "combination_method                     Orbital+M1\n",
       "m1_ref                                    IsocLum\n",
       "flag                                             \n",
       "$M_1$                    ${1.02}^{+0.06}_{-0.08}$\n",
       "$M_{2, \\mathrm{alt}}$             $0.052$-$1.261$\n",
       "Name: 0, dtype: object"
      ]
     },
     "metadata": {},
     "output_type": "display_data"
    }
   ],
   "source": [
    "display(tmp_bm.iloc[0])\n",
    "\n",
    "tmp_bm['$M_1$'] = tmp_bm.apply(lambda x: f\"${x['m1']:2.2f}^{x['m1_upper']-x['m1']:+2.2f}_{x['m1']-x['m1_lower']:+2.2f}$\", axis=1)\n",
    "\n",
    "def m2_latex(x):\n",
    "    if np.isnan(x['m2']):\n",
    "        return f\"${x['m2_lower']:+2.3f}$ -- ${x['m2_upper']:+2.3f}$\"\n",
    "    else:\n",
    "        return f\"${x['m2']:2.3f}^{x['m2_upper']-x['m2']:+2.3f}_{x['m2']-x['m2_lower']:+2.3f}$\"\n",
    "\n",
    "tmp_bm['$M_{2, \\mathrm{alt}}$'] = tmp_bm.apply(m2_latex, axis=1)"
   ]
  },
  {
   "cell_type": "code",
   "execution_count": 62,
   "id": "34c336b1-4b95-4c6a-9c29-b28b9340f0c1",
   "metadata": {
    "tags": []
   },
   "outputs": [
    {
     "name": "stderr",
     "output_type": "stream",
     "text": [
      "INFO:root:using column m1_MS values to compute companion mass\n"
     ]
    },
    {
     "data": {
      "text/html": [
       "<div>\n",
       "<style scoped>\n",
       "    .dataframe tbody tr th:only-of-type {\n",
       "        vertical-align: middle;\n",
       "    }\n",
       "\n",
       "    .dataframe tbody tr th {\n",
       "        vertical-align: top;\n",
       "    }\n",
       "\n",
       "    .dataframe thead th {\n",
       "        text-align: right;\n",
       "    }\n",
       "</style>\n",
       "<table border=\"1\" class=\"dataframe\">\n",
       "  <thead>\n",
       "    <tr style=\"text-align: right;\">\n",
       "      <th></th>\n",
       "      <th>m1_MS</th>\n",
       "      <th>m2_MJ</th>\n",
       "    </tr>\n",
       "  </thead>\n",
       "  <tbody>\n",
       "    <tr>\n",
       "      <th>0</th>\n",
       "      <td>0.794231</td>\n",
       "      <td>5.228521</td>\n",
       "    </tr>\n",
       "    <tr>\n",
       "      <th>1</th>\n",
       "      <td>1.094448</td>\n",
       "      <td>7.052491</td>\n",
       "    </tr>\n",
       "    <tr>\n",
       "      <th>2</th>\n",
       "      <td>0.711354</td>\n",
       "      <td>7.258940</td>\n",
       "    </tr>\n",
       "    <tr>\n",
       "      <th>3</th>\n",
       "      <td>1.128043</td>\n",
       "      <td>12.767899</td>\n",
       "    </tr>\n",
       "    <tr>\n",
       "      <th>4</th>\n",
       "      <td>0.823652</td>\n",
       "      <td>16.305048</td>\n",
       "    </tr>\n",
       "    <tr>\n",
       "      <th>5</th>\n",
       "      <td>0.993087</td>\n",
       "      <td>32.336522</td>\n",
       "    </tr>\n",
       "    <tr>\n",
       "      <th>6</th>\n",
       "      <td>0.815953</td>\n",
       "      <td>38.966536</td>\n",
       "    </tr>\n",
       "    <tr>\n",
       "      <th>7</th>\n",
       "      <td>1.209616</td>\n",
       "      <td>67.180762</td>\n",
       "    </tr>\n",
       "    <tr>\n",
       "      <th>8</th>\n",
       "      <td>1.161372</td>\n",
       "      <td>73.759265</td>\n",
       "    </tr>\n",
       "    <tr>\n",
       "      <th>9</th>\n",
       "      <td>1.277747</td>\n",
       "      <td>78.619660</td>\n",
       "    </tr>\n",
       "    <tr>\n",
       "      <th>10</th>\n",
       "      <td>0.878139</td>\n",
       "      <td>65.682127</td>\n",
       "    </tr>\n",
       "    <tr>\n",
       "      <th>11</th>\n",
       "      <td>0.883975</td>\n",
       "      <td>72.230357</td>\n",
       "    </tr>\n",
       "    <tr>\n",
       "      <th>12</th>\n",
       "      <td>1.180445</td>\n",
       "      <td>90.444093</td>\n",
       "    </tr>\n",
       "    <tr>\n",
       "      <th>13</th>\n",
       "      <td>0.923630</td>\n",
       "      <td>79.531840</td>\n",
       "    </tr>\n",
       "    <tr>\n",
       "      <th>14</th>\n",
       "      <td>NaN</td>\n",
       "      <td>NaN</td>\n",
       "    </tr>\n",
       "    <tr>\n",
       "      <th>15</th>\n",
       "      <td>0.688772</td>\n",
       "      <td>44.777458</td>\n",
       "    </tr>\n",
       "    <tr>\n",
       "      <th>16</th>\n",
       "      <td>1.112494</td>\n",
       "      <td>98.935887</td>\n",
       "    </tr>\n",
       "    <tr>\n",
       "      <th>17</th>\n",
       "      <td>NaN</td>\n",
       "      <td>NaN</td>\n",
       "    </tr>\n",
       "    <tr>\n",
       "      <th>18</th>\n",
       "      <td>1.022197</td>\n",
       "      <td>59.676584</td>\n",
       "    </tr>\n",
       "    <tr>\n",
       "      <th>19</th>\n",
       "      <td>1.320828</td>\n",
       "      <td>76.130457</td>\n",
       "    </tr>\n",
       "    <tr>\n",
       "      <th>20</th>\n",
       "      <td>1.110826</td>\n",
       "      <td>123.556514</td>\n",
       "    </tr>\n",
       "    <tr>\n",
       "      <th>21</th>\n",
       "      <td>1.153414</td>\n",
       "      <td>132.683936</td>\n",
       "    </tr>\n",
       "  </tbody>\n",
       "</table>\n",
       "</div>"
      ],
      "text/plain": [
       "       m1_MS       m2_MJ\n",
       "0   0.794231    5.228521\n",
       "1   1.094448    7.052491\n",
       "2   0.711354    7.258940\n",
       "3   1.128043   12.767899\n",
       "4   0.823652   16.305048\n",
       "5   0.993087   32.336522\n",
       "6   0.815953   38.966536\n",
       "7   1.209616   67.180762\n",
       "8   1.161372   73.759265\n",
       "9   1.277747   78.619660\n",
       "10  0.878139   65.682127\n",
       "11  0.883975   72.230357\n",
       "12  1.180445   90.444093\n",
       "13  0.923630   79.531840\n",
       "14       NaN         NaN\n",
       "15  0.688772   44.777458\n",
       "16  1.112494   98.935887\n",
       "17       NaN         NaN\n",
       "18  1.022197   59.676584\n",
       "19  1.320828   76.130457\n",
       "20  1.110826  123.556514\n",
       "21  1.153414  132.683936"
      ]
     },
     "metadata": {},
     "output_type": "display_data"
    }
   ],
   "source": [
    "best_contenders['m1_MS'] = best_contenders['m1']\n",
    "# display(best_contenders[['m1_MS', 'm2_MJ']])\n",
    "best_contenders = best_contenders.nss.add_companion_mass_estimate(m1_MS=None)\n",
    "display(best_contenders[['m1_MS', 'm2_MJ']])\n"
   ]
  },
  {
   "cell_type": "code",
   "execution_count": 63,
   "id": "792d0dc6-5991-400c-a14f-1f9f282a7d2e",
   "metadata": {
    "tags": []
   },
   "outputs": [
    {
     "ename": "ZeroDivisionError",
     "evalue": "division by zero",
     "output_type": "error",
     "traceback": [
      "\u001b[0;31m---------------------------------------------------------------------------\u001b[0m",
      "\u001b[0;31mZeroDivisionError\u001b[0m                         Traceback (most recent call last)",
      "Cell \u001b[0;32mIn[63], line 1\u001b[0m\n\u001b[0;32m----> 1\u001b[0m \u001b[38;5;241;43m1\u001b[39;49m\u001b[38;5;241;43m/\u001b[39;49m\u001b[38;5;241;43m0\u001b[39;49m\n",
      "\u001b[0;31mZeroDivisionError\u001b[0m: division by zero"
     ]
    }
   ],
   "source": [
    "1/0"
   ]
  },
  {
   "cell_type": "code",
   "execution_count": null,
   "id": "65f576c2-6646-468a-9851-e954864cd07b",
   "metadata": {
    "tags": []
   },
   "outputs": [],
   "source": [
    "tmp4['source_id'].values"
   ]
  },
  {
   "cell_type": "code",
   "execution_count": null,
   "id": "742d359a-512a-46d3-ac8e-1dd97c3ed43f",
   "metadata": {
    "tags": []
   },
   "outputs": [],
   "source": [
    "final_new_candidates = np.hstack((tmp3['source_id'].values, tmp5['source_id'].values))\n",
    "len(final_new_candidates)"
   ]
  },
  {
   "cell_type": "code",
   "execution_count": null,
   "id": "8e0558f6-788f-4584-8c25-1c95f29e0583",
   "metadata": {
    "tags": []
   },
   "outputs": [],
   "source": [
    "# tmp4 = sel_new_candidates.query('relative_occurence_nss > 0.5').sort_values('mass_function_msun')[cols].reset_index(drop=True)\n",
    "# # tmp4 = tmp4[~tmp4['source_id'].isin(tmp3['source_id'])]\n",
    "# print(tmp4.to_latex(index=True, formatters={'mass_function_msun': \"{:.1e}\".format}, float_format=\"{:.1f}\".format))\n"
   ]
  },
  {
   "cell_type": "code",
   "execution_count": null,
   "id": "841eda2e-e24b-4128-8c06-8cee178e1fe8",
   "metadata": {
    "tags": []
   },
   "outputs": [],
   "source": [
    "# print(sel_new_candidates.sort_values('mass_function_msun')[cols].to_latex(index=False, formatters={'mass_function_msun': \"{:.1e}\".format}, float_format=\"{:.1f}\".format))\n",
    "\n",
    "# tmp1 = sel_new_candidates.query('relative_occurence > 0.5').sort_values('mass_function_msun')[cols].reset_index(drop=True)\n",
    "# print(tmp1.to_latex(index=True, formatters={'mass_function_msun': \"{:.1e}\".format}, float_format=\"{:.1f}\".format))\n",
    "# tmp2 = sel_new_candidates.query('relative_occurence < 0.5').sort_values('mass_function_msun')[cols].reset_index(drop=True)\n",
    "# print(tmp2.to_latex(index=True, formatters={'mass_function_msun': \"{:.1e}\".format}, float_format=\"{:.1f}\".format))\n",
    "# print(sel_new_candidates.sort_values('mass_function_msun')[cols].to_latex(index=False, formatters={'mass_function_msun': \"{:.1e}\".format}, float_format=\"{:.1f}\".format))"
   ]
  },
  {
   "cell_type": "code",
   "execution_count": null,
   "id": "0d8d34f9-1581-40df-8e7a-108fb076414b",
   "metadata": {
    "tags": []
   },
   "outputs": [],
   "source": [
    "sel_new_candidates.columns"
   ]
  },
  {
   "cell_type": "code",
   "execution_count": null,
   "id": "419a09ed-74cf-447e-9f2e-c597cb4693a0",
   "metadata": {
    "tags": []
   },
   "outputs": [],
   "source": [
    "sid"
   ]
  },
  {
   "cell_type": "code",
   "execution_count": null,
   "id": "1a901c2e-a2a9-4476-8cf4-badbbaf18ed3",
   "metadata": {
    "tags": []
   },
   "outputs": [],
   "source": [
    "getattr(astro_source, 'MAIN_ID')"
   ]
  },
  {
   "cell_type": "code",
   "execution_count": null,
   "id": "5c765203-534d-46f4-82c5-d3479f17d8ac",
   "metadata": {
    "tags": []
   },
   "outputs": [],
   "source": [
    "astro_source.__dict__"
   ]
  },
  {
   "cell_type": "code",
   "execution_count": null,
   "id": "4a594f48-eac5-4e85-9b0b-1a295c857383",
   "metadata": {},
   "outputs": [],
   "source": []
  }
 ],
 "metadata": {
  "kernelspec": {
   "display_name": "gorbit",
   "language": "python",
   "name": "gorbit"
  },
  "language_info": {
   "codemirror_mode": {
    "name": "ipython",
    "version": 3
   },
   "file_extension": ".py",
   "mimetype": "text/x-python",
   "name": "python",
   "nbconvert_exporter": "python",
   "pygments_lexer": "ipython3",
   "version": "3.9.18"
  }
 },
 "nbformat": 4,
 "nbformat_minor": 5
}
