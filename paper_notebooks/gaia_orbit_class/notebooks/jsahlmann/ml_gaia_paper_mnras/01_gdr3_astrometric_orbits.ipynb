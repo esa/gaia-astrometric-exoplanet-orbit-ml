{
 "cells": [
  {
   "cell_type": "markdown",
   "id": "6f1088f6",
   "metadata": {},
   "source": [
    "# obtain and curate DR3 binary solutions \n",
    "\n",
    "### 2023-10-10 - 2024-04-17 Johannes Sahlmann\n",
    "\n",
    "- download data from Gaia archive"
   ]
  },
  {
   "cell_type": "markdown",
   "id": "381ad241-631c-43a2-8cbc-a93de3a14b50",
   "metadata": {},
   "source": [
    "# Environment creation\n",
    "\n",
    "```\n",
    "conda config --append channels conda-forge\n",
    "conda create --name gorbit --yes python=3.9 pip ipykernel jupyterlab git git-lfs pandas astropy astroquery numpy matplotlib pyarrow uncertainties  \n",
    "conda activate gorbit\n",
    "ipython kernel install --user --name=gorbit\n",
    "pip install pystrometry   \n",
    "```\n",
    "\n",
    "## Install gaia-ad\n",
    "```\n",
    "git clone https://gitlab.esa.int/gaia-agis/machine-learning/gaia-anomaly-detection\n",
    "cd gaia-anomaly-detection/\n",
    "pip install -e .\n",
    "```\n"
   ]
  },
  {
   "cell_type": "code",
   "execution_count": 1,
   "id": "3aaa9778",
   "metadata": {},
   "outputs": [],
   "source": [
    "%load_ext autoreload\n",
    "%autoreload 2\n",
    "%reload_ext autoreload\n",
    "\n",
    "import copy\n",
    "from collections import OrderedDict\n",
    "import glob\n",
    "import logging\n",
    "import os\n",
    "import numpy as np\n",
    "import pandas as pd\n",
    "\n",
    "# import astropy.units as u\n",
    "# from astropy.table import Table\n",
    "# from astropy.time import Time\n",
    "# from astroquery.gaia import Gaia, TapPlus\n",
    "# import matplotlib as mp\n",
    "import matplotlib.pyplot as pl"
   ]
  },
  {
   "cell_type": "markdown",
   "id": "aa155b5a",
   "metadata": {},
   "source": [
    "### Import pystrometry (make sure its version is >=0.3.0)"
   ]
  },
  {
   "cell_type": "code",
   "execution_count": 2,
   "id": "b39c3810",
   "metadata": {},
   "outputs": [
    {
     "name": "stdout",
     "output_type": "stream",
     "text": [
      "0.4.3\n"
     ]
    }
   ],
   "source": [
    "import pystrometry\n",
    "print(pystrometry.__version__)"
   ]
  },
  {
   "cell_type": "code",
   "execution_count": 3,
   "id": "b9de5562-df6a-4213-935f-d3a88b084eb3",
   "metadata": {
    "tags": []
   },
   "outputs": [
    {
     "name": "stdout",
     "output_type": "stream",
     "text": [
      "14.0.2\n"
     ]
    }
   ],
   "source": [
    "import pyarrow\n",
    "print(pyarrow.__version__)"
   ]
  },
  {
   "cell_type": "code",
   "execution_count": 4,
   "id": "e68e992c",
   "metadata": {},
   "outputs": [
    {
     "name": "stdout",
     "output_type": "stream",
     "text": [
      "universal_helpers not available\n"
     ]
    }
   ],
   "source": [
    "from pystrometry.utils import du437_tools\n",
    "from pystrometry import gaia_astrometry\n",
    "from pystrometry.utils.archives import get_gaiadr_data\n"
   ]
  },
  {
   "cell_type": "code",
   "execution_count": 5,
   "id": "9d5217d2-81ed-414b-a391-4a65e16f9d99",
   "metadata": {},
   "outputs": [],
   "source": [
    "# dataset_tag = 'v0.0'\n",
    "# dataset_tag = 'v0.1'\n",
    "dataset_tag = 'v0.6'\n",
    "\n",
    "out_path = f'/media/team_workspaces/Gaia-Orbit-Classification/sandbox/dataset_{dataset_tag}'\n",
    "os.makedirs(out_path, exist_ok=True)"
   ]
  },
  {
   "cell_type": "code",
   "execution_count": 6,
   "id": "174c3742-2352-4af3-9257-0dde75f13a3b",
   "metadata": {},
   "outputs": [],
   "source": [
    "# overwrite = True\n",
    "overwrite = False\n",
    "overwrite_archive_query = False"
   ]
  },
  {
   "cell_type": "code",
   "execution_count": 7,
   "id": "6457604f",
   "metadata": {},
   "outputs": [],
   "source": [
    "logger = logging.getLogger()\n",
    "logger.setLevel(logging.INFO)"
   ]
  },
  {
   "cell_type": "code",
   "execution_count": 8,
   "id": "2e227b48-0ee7-45b9-a53d-51c710692b5d",
   "metadata": {},
   "outputs": [
    {
     "data": {
      "text/plain": [
       "'/media/home/gaia-anomaly-detection/notebooks/jsahlmann/ml_gaia_paper_mnras'"
      ]
     },
     "execution_count": 8,
     "metadata": {},
     "output_type": "execute_result"
    }
   ],
   "source": [
    "os.getcwd()"
   ]
  },
  {
   "cell_type": "markdown",
   "id": "198f063c",
   "metadata": {
    "tags": []
   },
   "source": [
    "## Set the output path for data and figures. Customise this cell if desired. "
   ]
  },
  {
   "cell_type": "code",
   "execution_count": 9,
   "id": "876b7b6a",
   "metadata": {},
   "outputs": [],
   "source": [
    "root_data_dir = '/media/team_workspaces/Gaia-Orbit-Classification/jsahlmann/data'"
   ]
  },
  {
   "cell_type": "code",
   "execution_count": 10,
   "id": "d77304e4",
   "metadata": {},
   "outputs": [],
   "source": [
    "input_list_name = 'nss'\n",
    "gaia_data_release = 'gaiadr3'\n",
    "\n",
    "data_dir = os.path.join(root_data_dir, gaia_data_release)\n",
    "\n",
    "# set folder to save figures\n",
    "plot_dir = os.path.join(data_dir, 'figures', input_list_name)\n",
    "\n",
    "for dir in [data_dir, plot_dir]:\n",
    "    os.makedirs(dir, exist_ok=True)\n",
    "    \n"
   ]
  },
  {
   "cell_type": "markdown",
   "id": "776eb2d2",
   "metadata": {},
   "source": [
    "## retrieve all 'nss_two_body_orbit' solutions \n",
    "\n",
    "If one needs access to the `corr_vec` field, e.g. to compute uncertainties in the geometric parameters, one has to query the full table from the archive. Using the `source_id_array` argument of the `get_gaiadr_data` function invokes an inner join operation in GACS and the returned table does not have the `corr_vec` field. The reason for this behaviour is unknown, to be investigated and reported to DPAC if applicable."
   ]
  },
  {
   "cell_type": "code",
   "execution_count": 11,
   "id": "7fe6a0e4",
   "metadata": {},
   "outputs": [
    {
     "name": "stderr",
     "output_type": "stream",
     "text": [
      "INFO:root:Dataset has 437275 unique source_ids, i.e. 5930 duplicate source_ids\n"
     ]
    },
    {
     "name": "stdout",
     "output_type": "stream",
     "text": [
      "Retrieved 443205 rows from gaiadr3.nss_two_body_orbit\n"
     ]
    }
   ],
   "source": [
    "gaia_table_name = 'nss_two_body_orbit'\n",
    "analysis_dataset_name = '{}_all'.format(gaia_table_name)\n",
    "nss_all = get_gaiadr_data(analysis_dataset_name, data_dir, gaia_data_release=gaia_data_release, gaia_table_name=gaia_table_name, overwrite_query=overwrite_archive_query, source_id_array=None)\n",
    "logging.info('Dataset has {} unique source_ids, i.e. {} duplicate source_ids'.format(len(nss_all['source_id'].unique()), len(nss_all)-len(nss_all['source_id'].unique())))"
   ]
  },
  {
   "cell_type": "code",
   "execution_count": 12,
   "id": "ad3e9726-139e-406e-86aa-82f01b630d35",
   "metadata": {},
   "outputs": [
    {
     "data": {
      "text/plain": [
       "array(['Orbital', 'SB1', 'EclipsingBinary', 'SB2C', 'AstroSpectroSB1',\n",
       "       'OrbitalAlternative', 'SB2', 'OrbitalTargetedSearchValidated',\n",
       "       'EclipsingSpectro', 'OrbitalTargetedSearch', 'SB1C',\n",
       "       'OrbitalAlternativeValidated'], dtype=object)"
      ]
     },
     "execution_count": 12,
     "metadata": {},
     "output_type": "execute_result"
    }
   ],
   "source": [
    "nss_all['nss_solution_type'].unique()"
   ]
  },
  {
   "cell_type": "markdown",
   "id": "7ead46ef-6b2c-4a9a-8e05-fa4ce287cb30",
   "metadata": {},
   "source": [
    "# Select only astrometric orbits"
   ]
  },
  {
   "cell_type": "code",
   "execution_count": 13,
   "id": "85effb4e-a983-41fe-b63a-20711a9dd558",
   "metadata": {},
   "outputs": [
    {
     "name": "stdout",
     "output_type": "stream",
     "text": [
      "169227\n"
     ]
    }
   ],
   "source": [
    "selected = nss_all[nss_all['nss_solution_type'].isin(['Orbital', 'AstroSpectroSB1','OrbitalAlternative', 'OrbitalTargetedSearchValidated', 'OrbitalTargetedSearch', 'OrbitalAlternativeValidated'])].copy() #, 'AstroSpectroSB1'\n",
    "\n",
    "print(len(selected))"
   ]
  },
  {
   "cell_type": "code",
   "execution_count": 14,
   "id": "49292ba9-7232-4e53-93c1-3ee8be0e53c7",
   "metadata": {
    "tags": []
   },
   "outputs": [
    {
     "data": {
      "text/plain": [
       "0.10746699584676161"
      ]
     },
     "execution_count": 14,
     "metadata": {},
     "output_type": "execute_result"
    }
   ],
   "source": [
    "selected['parallax'].min()"
   ]
  },
  {
   "cell_type": "code",
   "execution_count": 15,
   "id": "ca68866a-087f-44a0-a0bf-d86421698833",
   "metadata": {
    "tags": []
   },
   "outputs": [],
   "source": [
    "# selected['parallax'].hist(bins=100, log=True, range=(0.1, 1))"
   ]
  },
  {
   "cell_type": "code",
   "execution_count": 16,
   "id": "c4655e8a-4c6e-4c77-bf2b-ae6870792822",
   "metadata": {
    "tags": []
   },
   "outputs": [
    {
     "name": "stderr",
     "output_type": "stream",
     "text": [
      "INFO:root:Dataset has 169129 unique source_ids, i.e. 98 duplicate source_ids\n"
     ]
    }
   ],
   "source": [
    "logging.info('Dataset has {} unique source_ids, i.e. {} duplicate source_ids'.format(len(selected['source_id'].unique()), len(selected)-len(selected['source_id'].unique())))"
   ]
  },
  {
   "cell_type": "markdown",
   "id": "2de09cab-e22c-4ff8-b43b-3ab8c59bfc38",
   "metadata": {},
   "source": [
    "# remove sources with both AstroSpectroSB1 and OrbitalTargetedSearch solution (oversight of DR3), keep AstroSpectroSB1"
   ]
  },
  {
   "cell_type": "code",
   "execution_count": 17,
   "id": "b9b6d0b6-7757-474d-81eb-acbcd2a2ad82",
   "metadata": {
    "tags": []
   },
   "outputs": [
    {
     "data": {
      "text/plain": [
       "nss_solution_type\n",
       "AstroSpectroSB1                   98\n",
       "OrbitalTargetedSearchValidated    92\n",
       "OrbitalTargetedSearch              6\n",
       "Name: count, dtype: int64"
      ]
     },
     "execution_count": 17,
     "metadata": {},
     "output_type": "execute_result"
    }
   ],
   "source": [
    "n_occurrence = selected['source_id'].value_counts()==2\n",
    "duplicated_source_ids = n_occurrence[n_occurrence].index\n",
    "\n",
    "selected[selected['source_id'].isin(duplicated_source_ids)]['nss_solution_type'].value_counts()"
   ]
  },
  {
   "cell_type": "code",
   "execution_count": 18,
   "id": "86af592a-4864-415a-8a4e-31109886bc88",
   "metadata": {
    "tags": []
   },
   "outputs": [
    {
     "name": "stderr",
     "output_type": "stream",
     "text": [
      "INFO:root:Dataset has 169129 unique source_ids, i.e. 98 duplicate source_ids\n",
      "INFO:root:Dataset has 169129 unique source_ids, i.e. 0 duplicate source_ids\n"
     ]
    }
   ],
   "source": [
    "logging.info('Dataset has {} unique source_ids, i.e. {} duplicate source_ids'.format(len(selected['source_id'].unique()), len(selected)-len(selected['source_id'].unique())))\n",
    "\n",
    "solutions_to_drop = (selected['source_id'].isin(duplicated_source_ids)) & (selected['nss_solution_type']!='AstroSpectroSB1')\n",
    "selected = selected[~solutions_to_drop]\n",
    "logging.info('Dataset has {} unique source_ids, i.e. {} duplicate source_ids'.format(len(selected['source_id'].unique()), len(selected)-len(selected['source_id'].unique())))\n",
    "assert len(selected) == selected['source_id'].nunique()\n"
   ]
  },
  {
   "cell_type": "markdown",
   "id": "738e6a4a-806e-46d4-9eff-5d407fa38d97",
   "metadata": {},
   "source": [
    "# Add geometric orbital elements to dataframe"
   ]
  },
  {
   "cell_type": "code",
   "execution_count": 19,
   "id": "f0ce8e9e-ebd8-42ed-bb41-65c302aa4182",
   "metadata": {},
   "outputs": [
    {
     "name": "stdout",
     "output_type": "stream",
     "text": [
      "Columns already exist!\n"
     ]
    }
   ],
   "source": [
    "assert 'corr_vec' in selected.columns\n",
    "selected = selected.nss.add_geometric_elements()\n",
    "selected = selected.nss.add_geometric_elements_unc()"
   ]
  },
  {
   "cell_type": "markdown",
   "id": "baa8e585-465f-4115-af60-dc1ab962fd5d",
   "metadata": {},
   "source": [
    "# add mass function"
   ]
  },
  {
   "cell_type": "code",
   "execution_count": 20,
   "id": "64e1f1a7-1d5c-4456-a01f-03dd309417b3",
   "metadata": {
    "tags": []
   },
   "outputs": [],
   "source": [
    "import astropy.units as u\n",
    "def mass_function_msun(semimajor_axis_mas, period_day, parallax_mas):\n",
    "    \"\"\"Return the value of the mass function in M_sun, see Eq. 13 in Halbwachs+23.\"\"\"\n",
    "    return semimajor_axis_mas**3 * (u.year.to(u.day))**2 / (period_day**2 * parallax_mas**3)\n",
    "\n",
    "\n",
    "selected['mass_function_msun'] = mass_function_msun(selected['p1_a1_mas'].values, selected['period'].values, selected['parallax'].values)\n",
    "\n",
    "# selected['mass_function_msun'].plot(kind='hist', histtype='step', logx=True, bins=np.logspace(-4,1,100), lw=2)"
   ]
  },
  {
   "cell_type": "code",
   "execution_count": 21,
   "id": "99d4984f-e213-4f50-84d6-c3b0cae7f7c4",
   "metadata": {
    "tags": []
   },
   "outputs": [
    {
     "data": {
      "text/plain": [
       "169129"
      ]
     },
     "execution_count": 21,
     "metadata": {},
     "output_type": "execute_result"
    }
   ],
   "source": [
    "len(selected)"
   ]
  },
  {
   "cell_type": "code",
   "execution_count": 22,
   "id": "6bcc1ebc-21d8-4d56-8a7c-14f5e929c0d7",
   "metadata": {},
   "outputs": [
    {
     "data": {
      "text/plain": [
       "Index(['solution_id', 'source_id', 'nss_solution_type', 'ra', 'ra_error',\n",
       "       'dec', 'dec_error', 'parallax', 'parallax_error', 'pmra', 'pmra_error',\n",
       "       'pmdec', 'pmdec_error', 'a_thiele_innes', 'a_thiele_innes_error',\n",
       "       'b_thiele_innes', 'b_thiele_innes_error', 'f_thiele_innes',\n",
       "       'f_thiele_innes_error', 'g_thiele_innes', 'g_thiele_innes_error',\n",
       "       'c_thiele_innes', 'c_thiele_innes_error', 'h_thiele_innes',\n",
       "       'h_thiele_innes_error', 'period', 'period_error', 't_periastron',\n",
       "       't_periastron_error', 'eccentricity', 'eccentricity_error',\n",
       "       'center_of_mass_velocity', 'center_of_mass_velocity_error',\n",
       "       'semi_amplitude_primary', 'semi_amplitude_primary_error',\n",
       "       'semi_amplitude_secondary', 'semi_amplitude_secondary_error',\n",
       "       'mass_ratio', 'mass_ratio_error', 'fill_factor_primary',\n",
       "       'fill_factor_primary_error', 'fill_factor_secondary',\n",
       "       'fill_factor_secondary_error', 'inclination', 'inclination_error',\n",
       "       'arg_periastron', 'arg_periastron_error', 'temperature_ratio',\n",
       "       'temperature_ratio_error', 'temperature_ratio_definition',\n",
       "       'astrometric_n_obs_al', 'astrometric_n_good_obs_al', 'rv_n_obs_primary',\n",
       "       'rv_n_good_obs_primary', 'rv_n_obs_secondary',\n",
       "       'rv_n_good_obs_secondary', 'phot_g_n_obs', 'phot_g_n_good_obs',\n",
       "       'bit_index', 'corr_vec', 'obj_func', 'goodness_of_fit', 'efficiency',\n",
       "       'significance', 'flags', 'conf_spectro_period', 'r_pole_sum',\n",
       "       'r_l1_point_sum', 'r_spher_sum', 'ecl_time_primary',\n",
       "       'ecl_time_secondary', 'ecl_dur_primary', 'ecl_dur_secondary',\n",
       "       'g_luminosity_ratio', 'input_period_error', 'g_rank',\n",
       "       'astrometric_jitter', 'p1_a1_mas', 'p1_omega_deg', 'p1_OMEGA_deg',\n",
       "       'p1_incl_deg', 'p1_period_day', 'mass_function_msun'],\n",
       "      dtype='object')"
      ]
     },
     "execution_count": 22,
     "metadata": {},
     "output_type": "execute_result"
    }
   ],
   "source": [
    "selected.columns"
   ]
  },
  {
   "cell_type": "code",
   "execution_count": 23,
   "id": "7f7edea5-f7d6-42da-b09a-764942654f78",
   "metadata": {
    "tags": []
   },
   "outputs": [
    {
     "data": {
      "text/plain": [
       "False"
      ]
     },
     "execution_count": 23,
     "metadata": {},
     "output_type": "execute_result"
    }
   ],
   "source": [
    "overwrite"
   ]
  },
  {
   "cell_type": "code",
   "execution_count": 24,
   "id": "90ed30a6-3b29-4b1c-95b6-15a41476e822",
   "metadata": {
    "tags": []
   },
   "outputs": [
    {
     "name": "stderr",
     "output_type": "stream",
     "text": [
      "INFO:root:Dataset has 169129 unique source_ids, i.e. 0 duplicate source_ids\n"
     ]
    },
    {
     "name": "stdout",
     "output_type": "stream",
     "text": [
      "'eccentricity_error' 1979\n"
     ]
    },
    {
     "name": "stderr",
     "output_type": "stream",
     "text": [
      "INFO:root:Wrote /media/team_workspaces/Gaia-Orbit-Classification/sandbox/dataset_v0.6/nss_two_body_orbit_astrometric_orbits.parquet\n"
     ]
    },
    {
     "name": "stdout",
     "output_type": "stream",
     "text": [
      "\\begin{tabular}{lll}\n",
      "\\toprule\n",
      "column_name_latex & description & comment \\\\\n",
      "\\midrule\n",
      "source\\_id & \\href{https://gea.esac.esa.int/archive/documentation/GDR3/Gaia_archive/chap_datamodel/sec_dm_non--single_stars_tables/ssec_dm_nss_two_body_orbit.html#nss_two_body_orbit-source_id}{online documentation} & not used \\\\\n",
      "nss\\_solution\\_type & \\href{https://gea.esac.esa.int/archive/documentation/GDR3/Gaia_archive/chap_datamodel/sec_dm_non--single_stars_tables/ssec_dm_nss_two_body_orbit.html#nss_two_body_orbit-nss_solution_type}{online documentation} & not used \\\\\n",
      "ra & \\href{https://gea.esac.esa.int/archive/documentation/GDR3/Gaia_archive/chap_datamodel/sec_dm_non--single_stars_tables/ssec_dm_nss_two_body_orbit.html#nss_two_body_orbit-ra}{online documentation} &  \\\\\n",
      "dec & \\href{https://gea.esac.esa.int/archive/documentation/GDR3/Gaia_archive/chap_datamodel/sec_dm_non--single_stars_tables/ssec_dm_nss_two_body_orbit.html#nss_two_body_orbit-dec}{online documentation} &  \\\\\n",
      "parallax & \\href{https://gea.esac.esa.int/archive/documentation/GDR3/Gaia_archive/chap_datamodel/sec_dm_non--single_stars_tables/ssec_dm_nss_two_body_orbit.html#nss_two_body_orbit-parallax}{online documentation} & confounder \\\\\n",
      "parallax\\_error & \\href{https://gea.esac.esa.int/archive/documentation/GDR3/Gaia_archive/chap_datamodel/sec_dm_non--single_stars_tables/ssec_dm_nss_two_body_orbit.html#nss_two_body_orbit-parallax_error}{online documentation} &  \\\\\n",
      "pmra & \\href{https://gea.esac.esa.int/archive/documentation/GDR3/Gaia_archive/chap_datamodel/sec_dm_non--single_stars_tables/ssec_dm_nss_two_body_orbit.html#nss_two_body_orbit-pmra}{online documentation} & confounder \\\\\n",
      "pmdec & \\href{https://gea.esac.esa.int/archive/documentation/GDR3/Gaia_archive/chap_datamodel/sec_dm_non--single_stars_tables/ssec_dm_nss_two_body_orbit.html#nss_two_body_orbit-pmdec}{online documentation} & confounder \\\\\n",
      "period & \\href{https://gea.esac.esa.int/archive/documentation/GDR3/Gaia_archive/chap_datamodel/sec_dm_non--single_stars_tables/ssec_dm_nss_two_body_orbit.html#nss_two_body_orbit-period}{online documentation} &  \\\\\n",
      "period\\_error & \\href{https://gea.esac.esa.int/archive/documentation/GDR3/Gaia_archive/chap_datamodel/sec_dm_non--single_stars_tables/ssec_dm_nss_two_body_orbit.html#nss_two_body_orbit-period_error}{online documentation} &  \\\\\n",
      "t\\_periastron & \\href{https://gea.esac.esa.int/archive/documentation/GDR3/Gaia_archive/chap_datamodel/sec_dm_non--single_stars_tables/ssec_dm_nss_two_body_orbit.html#nss_two_body_orbit-t_periastron}{online documentation} &  \\\\\n",
      "t\\_periastron\\_error & \\href{https://gea.esac.esa.int/archive/documentation/GDR3/Gaia_archive/chap_datamodel/sec_dm_non--single_stars_tables/ssec_dm_nss_two_body_orbit.html#nss_two_body_orbit-t_periastron_error}{online documentation} &  \\\\\n",
      "eccentricity & \\href{https://gea.esac.esa.int/archive/documentation/GDR3/Gaia_archive/chap_datamodel/sec_dm_non--single_stars_tables/ssec_dm_nss_two_body_orbit.html#nss_two_body_orbit-eccentricity}{online documentation} &  \\\\\n",
      "eccentricity\\_error & \\href{https://gea.esac.esa.int/archive/documentation/GDR3/Gaia_archive/chap_datamodel/sec_dm_non--single_stars_tables/ssec_dm_nss_two_body_orbit.html#nss_two_body_orbit-eccentricity_error}{online documentation} &  \\\\\n",
      "astrometric\\_n\\_good\\_obs\\_al & \\href{https://gea.esac.esa.int/archive/documentation/GDR3/Gaia_archive/chap_datamodel/sec_dm_non--single_stars_tables/ssec_dm_nss_two_body_orbit.html#nss_two_body_orbit-astrometric_n_good_obs_al}{online documentation} &  \\\\\n",
      "obj\\_func & \\href{https://gea.esac.esa.int/archive/documentation/GDR3/Gaia_archive/chap_datamodel/sec_dm_non--single_stars_tables/ssec_dm_nss_two_body_orbit.html#nss_two_body_orbit-obj_func}{online documentation} &  \\\\\n",
      "goodness\\_of\\_fit & \\href{https://gea.esac.esa.int/archive/documentation/GDR3/Gaia_archive/chap_datamodel/sec_dm_non--single_stars_tables/ssec_dm_nss_two_body_orbit.html#nss_two_body_orbit-goodness_of_fit}{online documentation} &  \\\\\n",
      "efficiency & \\href{https://gea.esac.esa.int/archive/documentation/GDR3/Gaia_archive/chap_datamodel/sec_dm_non--single_stars_tables/ssec_dm_nss_two_body_orbit.html#nss_two_body_orbit-efficiency}{online documentation} &  \\\\\n",
      "significance & \\href{https://gea.esac.esa.int/archive/documentation/GDR3/Gaia_archive/chap_datamodel/sec_dm_non--single_stars_tables/ssec_dm_nss_two_body_orbit.html#nss_two_body_orbit-significance}{online documentation} &  \\\\\n",
      "p1\\_a0\\_mas & $a_0$ (mas) & computed \\\\\n",
      "p1\\_omega\\_deg & $\\omega$ (deg) & computed \\\\\n",
      "p1\\_OMEGA\\_deg & $\\Omega$ (deg) & computed \\\\\n",
      "p1\\_incl\\_deg & $i$ (deg) & computed \\\\\n",
      "mass\\_function\\_msun & $f_M$ ($M_\\sun$) & computed \\\\\n",
      "\\bottomrule\n",
      "\\end{tabular}\n",
      "\n"
     ]
    }
   ],
   "source": [
    "nns_table_columns_to_export = ['source_id', 'nss_solution_type', 'ra', 'dec', 'parallax', 'parallax_error', 'pmra', 'pmdec']\n",
    "nns_table_columns_to_export += ['period', 'period_error', 't_periastron', 't_periastron_error', 'eccentricity', 'eccentricity_error']\n",
    "nns_table_columns_to_export += ['astrometric_n_good_obs_al', 'obj_func', 'goodness_of_fit', 'efficiency', 'significance']\n",
    "\n",
    "nns_table_columns_to_export_original = copy.deepcopy(nns_table_columns_to_export)\n",
    "nns_table_columns_to_export_computed = ['p1_a1_mas', 'p1_omega_deg', 'p1_OMEGA_deg', 'p1_incl_deg', 'p1_period_day']\n",
    "nns_table_columns_to_export_computed += ['mass_function_msun']\n",
    "nns_table_columns_to_export += nns_table_columns_to_export_computed\n",
    "\n",
    "\n",
    "# fill NaNs in some columns\n",
    "selected['has_filled_nans'] = 0\n",
    "nns_table_columns_to_export += ['has_filled_nans']\n",
    "\n",
    "sel_index = selected['eccentricity_error'].isna()\n",
    "print(f\"'eccentricity_error' {sum(sel_index)}\")\n",
    "selected.loc[sel_index, 'eccentricity_error'] = 0.\n",
    "selected.loc[sel_index, 'has_filled_nans'] = 1\n",
    "\n",
    "\n",
    "# display(selected[nns_table_columns_to_export].isna().any())\n",
    "# display(selected[nns_table_columns_to_export].info())\n",
    "\n",
    "logging.info('Dataset has {} unique source_ids, i.e. {} duplicate source_ids'.format(len(selected['source_id'].unique()), len(selected)-len(selected['source_id'].unique())))\n",
    "assert len(selected) == selected['source_id'].nunique()\n",
    "\n",
    "outfile = os.path.join(out_path, 'nss_two_body_orbit_astrometric_orbits.parquet')\n",
    "if (overwrite) or (~os.path.isfile(outfile)):\n",
    "    selected[nns_table_columns_to_export].to_parquet(outfile)\n",
    "    logging.info(f\"Wrote {outfile}\")\n",
    "\n",
    "    \n",
    "output='latex'    \n",
    "    \n",
    "doc = pd.DataFrame()\n",
    "doc['column_name']=nns_table_columns_to_export\n",
    "nns_table_columns_to_export_latex = [s.replace('_', '\\_') for s in nns_table_columns_to_export]\n",
    "doc['column_name_latex'] = nns_table_columns_to_export_latex\n",
    "# doc['comment'] = ''\n",
    "\n",
    "def nss_doc_link(col):\n",
    "    if col in nns_table_columns_to_export_original:\n",
    "        if output=='latex':\n",
    "            return f\"\\\\href{{https://gea.esac.esa.int/archive/documentation/GDR3/Gaia_archive/chap_datamodel/sec_dm_non--single_stars_tables/ssec_dm_nss_two_body_orbit.html#nss_two_body_orbit-{col}}}{{online documentation}}\"\n",
    "        else:\n",
    "            return f\"[online documentation](https://gea.esac.esa.int/archive/documentation/GDR3/Gaia_archive/chap_datamodel/sec_dm_non--single_stars_tables/ssec_dm_nss_two_body_orbit.html#nss_two_body_orbit-{col})\"\n",
    "    else:\n",
    "        return \"\"\n",
    "\n",
    "doc['description'] = doc['column_name'].apply(nss_doc_link) \n",
    "\n",
    "doc.loc[doc['column_name'] == 'p1_a1_mas', 'description'] = '$a_0$ (mas)'\n",
    "doc.loc[doc['column_name'] == 'p1_omega_deg', 'description'] = '$\\\\omega$ (deg)'\n",
    "doc.loc[doc['column_name'] == 'p1_OMEGA_deg', 'description'] = '$\\\\Omega$ (deg)'\n",
    "doc.loc[doc['column_name'] == 'p1_incl_deg', 'description'] = '$i$ (deg)'\n",
    "doc.loc[doc['column_name'] == 'mass_function_msun', 'description'] = '$f_M$ ($M_\\\\sun$)'\n",
    "# doc.loc[doc['column_name'] == 'p1_a1_mas', 'description'] = 'semimajor axis of the astrometric orbit (mas)'\n",
    "# doc.loc[doc['column_name'] == 'p1_omega_deg', 'description'] = 'Argument of periastron (deg)'\n",
    "# doc.loc[doc['column_name'] == 'p1_OMEGA_deg', 'description'] = 'Ascending node (deg)'\n",
    "# doc.loc[doc['column_name'] == 'p1_incl_deg', 'description'] = 'Inclination (deg), 90deg is edge-on'\n",
    "# doc.loc[doc['column_name'] == 'p1_period_day', 'description'] = 'copy of `period`'\n",
    "\n",
    "doc['comment'] = ''\n",
    "for c in ['parallax', 'pmra', 'pmdec']:\n",
    "    doc.loc[doc['column_name'] == c, 'comment'] = 'confounder'\n",
    "for c in ['nss_solution_type', 'source_id', \"astrometric_primary_flag\"]:\n",
    "    doc.loc[doc['column_name'] == c, 'comment'] = 'not used'\n",
    "for c in ['p1_a1_mas', 'p1_omega_deg', 'p1_OMEGA_deg', 'p1_incl_deg', 'mass_function_msun']:\n",
    "    doc.loc[doc['column_name'] == c, 'comment'] = 'computed'\n",
    "\n",
    "\n",
    "doc.loc[doc['column_name'] == 'p1_a1_mas', 'column_name_latex'] = 'p1\\_a0\\_mas' \n",
    "# doc.rename(columns={'p1_a1_mas': 'p1_a0_mas'}, inplace=True)    \n",
    "doc = doc[~doc['column_name'].isin(['has_filled_nans', 'p1_period_day'])]    \n",
    "    \n",
    "print(doc[['column_name_latex', 'description', 'comment']].to_latex(index=False))\n",
    "# print(doc.to_markdown())"
   ]
  },
  {
   "cell_type": "code",
   "execution_count": 25,
   "id": "686af411-db63-44ca-9751-e74ca9d12512",
   "metadata": {
    "tags": []
   },
   "outputs": [],
   "source": [
    "extra_columns = ['a_thiele_innes', 'b_thiele_innes', 'f_thiele_innes', 'g_thiele_innes']\n",
    "\n",
    "# nns_table_columns_to_export_original\n"
   ]
  },
  {
   "cell_type": "code",
   "execution_count": 26,
   "id": "1c771833-5c27-427c-922c-17149e688d36",
   "metadata": {
    "tags": []
   },
   "outputs": [],
   "source": [
    "# selected[selected['source_id'] == 1215279005201870336]"
   ]
  },
  {
   "cell_type": "code",
   "execution_count": 27,
   "id": "62ca1be4-0cba-4787-b392-8271885832aa",
   "metadata": {
    "tags": []
   },
   "outputs": [],
   "source": [
    "# display(selected[selected['source_id'].isin([3230836376154368384, 3573773434382465280, 1055017523232004352, 6795834500861297408, 5557776367807067648, 4361277334741236480, 4869246209213679872])][nns_table_columns_to_export])"
   ]
  },
  {
   "cell_type": "code",
   "execution_count": 28,
   "id": "25fc7614-ffe7-4937-8094-d8568126d3c9",
   "metadata": {
    "tags": []
   },
   "outputs": [],
   "source": [
    "# pd.set_option('display.max_colwidth', None)\n",
    "# pd.set_option('display.max_rows', 100)\n",
    "# selected[selected['source_id']==4364702279101280256].iloc[0]to_markdown"
   ]
  },
  {
   "cell_type": "markdown",
   "id": "e6fec369-4ce7-4a6a-a821-4db6fa89b1a4",
   "metadata": {},
   "source": [
    "# Plot the cos(inclination) distribution "
   ]
  },
  {
   "cell_type": "code",
   "execution_count": 29,
   "id": "69ae59bb-8f86-45ae-98be-541f9a4bdce4",
   "metadata": {
    "tags": []
   },
   "outputs": [],
   "source": [
    "# col = 'p1_incl_deg'\n",
    "# np.cos(np.deg2rad(selected[col])).plot(kind='hist', log=True, bins=100)"
   ]
  },
  {
   "cell_type": "markdown",
   "id": "d9c1a13d-5ff5-45e3-ba8d-b86cc92be31c",
   "metadata": {},
   "source": [
    "# Query gaia_source (single star model results)"
   ]
  },
  {
   "cell_type": "code",
   "execution_count": 30,
   "id": "ba2c4fa8-1103-43ba-b859-1145865bd7e7",
   "metadata": {
    "tags": []
   },
   "outputs": [
    {
     "name": "stdout",
     "output_type": "stream",
     "text": [
      "Retrieved 169129 rows from gaiadr3.gaia_source\n"
     ]
    },
    {
     "data": {
      "text/plain": [
       "'/media/team_workspaces/Gaia-Orbit-Classification/jsahlmann/data/gaiadr3/figures/nss'"
      ]
     },
     "execution_count": 30,
     "metadata": {},
     "output_type": "execute_result"
    }
   ],
   "source": [
    "assert len(selected) == selected['source_id'].nunique()\n",
    "\n",
    "analysis_dataset_name = 'astrometric_binaries'\n",
    "source_id_array = selected['source_id'].values\n",
    "# source_id_array = selected_source_id_array\n",
    "\n",
    "gaia_table_name = 'gaia_source'\n",
    "# overwrite_archive_query = True\n",
    "gaia_source_selected = get_gaiadr_data(analysis_dataset_name, plot_dir, source_id_array, gaia_data_release, gaia_table_name=gaia_table_name, overwrite_query=overwrite_archive_query)\n",
    "plot_dir"
   ]
  },
  {
   "cell_type": "code",
   "execution_count": 31,
   "id": "19694a68-323a-4e58-b005-535a71900f59",
   "metadata": {
    "tags": []
   },
   "outputs": [
    {
     "data": {
      "text/plain": [
       "2016.0"
      ]
     },
     "execution_count": 31,
     "metadata": {},
     "output_type": "execute_result"
    }
   ],
   "source": [
    "gaia_source_selected.iloc[0]['ref_epoch']"
   ]
  },
  {
   "cell_type": "code",
   "execution_count": 32,
   "id": "55c435ef-009d-4812-a621-819e6583c65d",
   "metadata": {
    "tags": []
   },
   "outputs": [],
   "source": [
    "# gaia_source_selected.plot('phot_g_mean_mag', 'rv_method_used', kind='scatter')\n",
    "# gaia_source_selected.plot('radial_velocity_error', 'rv_method_used', kind='scatter')\n",
    "# gaia_source_selected.plot('phot_g_mean_mag', 'radial_velocity_error', c='rv_method_used', kind='scattera\n",
    "# gaia_source_selected.plot('phot_g_mean_mag', 'radial_velocity_error', kind='hexbin', C='rv_method_used', cmap=\"Spectral\", reduce_C_function=np.mean) # , color_by='rv_method_used'"
   ]
  },
  {
   "cell_type": "code",
   "execution_count": 33,
   "id": "f9315983-313b-44e1-89c9-dfd25cd29bc8",
   "metadata": {
    "tags": []
   },
   "outputs": [
    {
     "data": {
      "text/plain": [
       "rv_method_used\n",
       "2    0.56626\n",
       "1    0.43374\n",
       "Name: count, dtype: Float64"
      ]
     },
     "execution_count": 33,
     "metadata": {},
     "output_type": "execute_result"
    }
   ],
   "source": [
    "gaia_source_selected['rv_method_used'].value_counts()/gaia_source_selected['rv_method_used'].count()"
   ]
  },
  {
   "cell_type": "code",
   "execution_count": 34,
   "id": "d23b4dd0-348c-4f27-bb35-f799a4ab0acb",
   "metadata": {
    "tags": []
   },
   "outputs": [
    {
     "data": {
      "text/plain": [
       "nss_solution_type\n",
       "False    0.802121\n",
       "True     0.197879\n",
       "Name: count, dtype: float64"
      ]
     },
     "execution_count": 34,
     "metadata": {},
     "output_type": "execute_result"
    }
   ],
   "source": [
    "(selected['nss_solution_type'].isin(['AstroSpectroSB1'])).value_counts()/len(selected)"
   ]
  },
  {
   "cell_type": "code",
   "execution_count": 35,
   "id": "38506372-b235-4065-ba39-9963db9e363d",
   "metadata": {
    "tags": []
   },
   "outputs": [
    {
     "data": {
      "text/plain": [
       "rv_method_used\n",
       "2    0.641723\n",
       "1    0.358277\n",
       "Name: count, dtype: Float64"
      ]
     },
     "execution_count": 35,
     "metadata": {},
     "output_type": "execute_result"
    }
   ],
   "source": [
    "data_path = f'/media/team_workspaces/Gaia-Orbit-Classification/sandbox/dataset_{dataset_tag}'\n",
    "outfile = os.path.join(data_path, 'labelled_sources.parquet')\n",
    "labels = pd.read_parquet(outfile)\n",
    "gaia_source_selected[gaia_source_selected['source_id'].isin(labels['source_id'])]['rv_method_used'].value_counts()\n",
    "gaia_source_selected[gaia_source_selected['source_id'].isin(labels['source_id'])]['rv_method_used'].value_counts()/gaia_source_selected[gaia_source_selected['source_id'].isin(labels['source_id'])]['rv_method_used'].count()"
   ]
  },
  {
   "cell_type": "code",
   "execution_count": 36,
   "id": "3d3e5b3a-e331-4a85-baf1-360ee4f9ff83",
   "metadata": {
    "tags": []
   },
   "outputs": [],
   "source": [
    "gaia_source_columns_to_export = ['source_id', 'ra', 'dec', 'parallax', 'parallax_error', 'pmra', 'pmdec']\n",
    "gaia_source_columns_to_export += ['visibility_periods_used', 'radial_velocity', 'radial_velocity_error', 'astrometric_chi2_al', 'ipd_gof_harmonic_amplitude', 'bp_rp', 'phot_bp_rp_excess_factor']\n",
    "gaia_source_columns_to_export += ['ruwe', 'phot_g_mean_mag', 'phot_rp_mean_mag', 'phot_bp_mean_mag', 'astrometric_excess_noise_sig', 'astrometric_primary_flag', 'astrometric_excess_noise', 'astrometric_n_good_obs_al']\n"
   ]
  },
  {
   "cell_type": "markdown",
   "id": "e321ef50-fc8c-4843-acd5-8ef8354f689e",
   "metadata": {},
   "source": [
    "# compute absolute magnitude"
   ]
  },
  {
   "cell_type": "code",
   "execution_count": 37,
   "id": "8119399f-f5f5-490a-978f-938ce9b94857",
   "metadata": {
    "tags": []
   },
   "outputs": [
    {
     "data": {
      "text/plain": [
       "['source_id',\n",
       " 'ra',\n",
       " 'dec',\n",
       " 'parallax',\n",
       " 'parallax_error',\n",
       " 'pmra',\n",
       " 'pmdec',\n",
       " 'visibility_periods_used',\n",
       " 'radial_velocity',\n",
       " 'radial_velocity_error',\n",
       " 'astrometric_chi2_al',\n",
       " 'ipd_gof_harmonic_amplitude',\n",
       " 'bp_rp',\n",
       " 'phot_bp_rp_excess_factor',\n",
       " 'ruwe',\n",
       " 'phot_g_mean_mag',\n",
       " 'phot_rp_mean_mag',\n",
       " 'phot_bp_mean_mag',\n",
       " 'astrometric_excess_noise_sig',\n",
       " 'astrometric_primary_flag',\n",
       " 'astrometric_excess_noise',\n",
       " 'astrometric_n_good_obs_al',\n",
       " 'absolute_phot_g_mean_mag',\n",
       " 'has_filled_nans']"
      ]
     },
     "execution_count": 37,
     "metadata": {},
     "output_type": "execute_result"
    }
   ],
   "source": [
    "gaia_source_selected = gaia_source_selected.nss.add_absolute_magnitude()\n",
    "gaia_source_selected['has_filled_nans'] = 0\n",
    "gaia_source_columns_to_export += ['absolute_phot_g_mean_mag']\n",
    "gaia_source_columns_to_export += ['has_filled_nans']\n",
    "gaia_source_columns_to_export"
   ]
  },
  {
   "cell_type": "code",
   "execution_count": 38,
   "id": "a310bf50-ee71-4ef9-a385-afd0af706d93",
   "metadata": {
    "tags": []
   },
   "outputs": [
    {
     "name": "stdout",
     "output_type": "stream",
     "text": [
      "\\begin{tabular}{lll}\n",
      "\\toprule\n",
      "column_name_latex & description & comment \\\\\n",
      "\\midrule\n",
      "source\\_id & \\href{https://gea.esac.esa.int/archive/documentation/GDR3/Gaia_archive/chap_datamodel/sec_dm_main_source_catalogue/ssec_dm_gaia_source.html#gaia_source-source_id}{online documentation} & not used \\\\\n",
      "ra & \\href{https://gea.esac.esa.int/archive/documentation/GDR3/Gaia_archive/chap_datamodel/sec_dm_main_source_catalogue/ssec_dm_gaia_source.html#gaia_source-ra}{online documentation} &  \\\\\n",
      "dec & \\href{https://gea.esac.esa.int/archive/documentation/GDR3/Gaia_archive/chap_datamodel/sec_dm_main_source_catalogue/ssec_dm_gaia_source.html#gaia_source-dec}{online documentation} &  \\\\\n",
      "parallax & \\href{https://gea.esac.esa.int/archive/documentation/GDR3/Gaia_archive/chap_datamodel/sec_dm_main_source_catalogue/ssec_dm_gaia_source.html#gaia_source-parallax}{online documentation} & confounder \\\\\n",
      "parallax\\_error & \\href{https://gea.esac.esa.int/archive/documentation/GDR3/Gaia_archive/chap_datamodel/sec_dm_main_source_catalogue/ssec_dm_gaia_source.html#gaia_source-parallax_error}{online documentation} &  \\\\\n",
      "pmra & \\href{https://gea.esac.esa.int/archive/documentation/GDR3/Gaia_archive/chap_datamodel/sec_dm_main_source_catalogue/ssec_dm_gaia_source.html#gaia_source-pmra}{online documentation} & confounder \\\\\n",
      "pmdec & \\href{https://gea.esac.esa.int/archive/documentation/GDR3/Gaia_archive/chap_datamodel/sec_dm_main_source_catalogue/ssec_dm_gaia_source.html#gaia_source-pmdec}{online documentation} & confounder \\\\\n",
      "visibility\\_periods\\_used & \\href{https://gea.esac.esa.int/archive/documentation/GDR3/Gaia_archive/chap_datamodel/sec_dm_main_source_catalogue/ssec_dm_gaia_source.html#gaia_source-visibility_periods_used}{online documentation} &  \\\\\n",
      "radial\\_velocity & \\href{https://gea.esac.esa.int/archive/documentation/GDR3/Gaia_archive/chap_datamodel/sec_dm_main_source_catalogue/ssec_dm_gaia_source.html#gaia_source-radial_velocity}{online documentation} &  \\\\\n",
      "radial\\_velocity\\_error & \\href{https://gea.esac.esa.int/archive/documentation/GDR3/Gaia_archive/chap_datamodel/sec_dm_main_source_catalogue/ssec_dm_gaia_source.html#gaia_source-radial_velocity_error}{online documentation} &  \\\\\n",
      "astrometric\\_chi2\\_al & \\href{https://gea.esac.esa.int/archive/documentation/GDR3/Gaia_archive/chap_datamodel/sec_dm_main_source_catalogue/ssec_dm_gaia_source.html#gaia_source-astrometric_chi2_al}{online documentation} &  \\\\\n",
      "ipd\\_gof\\_harmonic\\_amplitude & \\href{https://gea.esac.esa.int/archive/documentation/GDR3/Gaia_archive/chap_datamodel/sec_dm_main_source_catalogue/ssec_dm_gaia_source.html#gaia_source-ipd_gof_harmonic_amplitude}{online documentation} &  \\\\\n",
      "bp\\_rp & \\href{https://gea.esac.esa.int/archive/documentation/GDR3/Gaia_archive/chap_datamodel/sec_dm_main_source_catalogue/ssec_dm_gaia_source.html#gaia_source-bp_rp}{online documentation} &  \\\\\n",
      "phot\\_bp\\_rp\\_excess\\_factor & \\href{https://gea.esac.esa.int/archive/documentation/GDR3/Gaia_archive/chap_datamodel/sec_dm_main_source_catalogue/ssec_dm_gaia_source.html#gaia_source-phot_bp_rp_excess_factor}{online documentation} &  \\\\\n",
      "ruwe & \\href{https://gea.esac.esa.int/archive/documentation/GDR3/Gaia_archive/chap_datamodel/sec_dm_main_source_catalogue/ssec_dm_gaia_source.html#gaia_source-ruwe}{online documentation} &  \\\\\n",
      "phot\\_g\\_mean\\_mag & \\href{https://gea.esac.esa.int/archive/documentation/GDR3/Gaia_archive/chap_datamodel/sec_dm_main_source_catalogue/ssec_dm_gaia_source.html#gaia_source-phot_g_mean_mag}{online documentation} & confounder \\\\\n",
      "phot\\_rp\\_mean\\_mag & \\href{https://gea.esac.esa.int/archive/documentation/GDR3/Gaia_archive/chap_datamodel/sec_dm_main_source_catalogue/ssec_dm_gaia_source.html#gaia_source-phot_rp_mean_mag}{online documentation} &  \\\\\n",
      "phot\\_bp\\_mean\\_mag & \\href{https://gea.esac.esa.int/archive/documentation/GDR3/Gaia_archive/chap_datamodel/sec_dm_main_source_catalogue/ssec_dm_gaia_source.html#gaia_source-phot_bp_mean_mag}{online documentation} &  \\\\\n",
      "astrometric\\_excess\\_noise\\_sig & \\href{https://gea.esac.esa.int/archive/documentation/GDR3/Gaia_archive/chap_datamodel/sec_dm_main_source_catalogue/ssec_dm_gaia_source.html#gaia_source-astrometric_excess_noise_sig}{online documentation} &  \\\\\n",
      "astrometric\\_primary\\_flag & \\href{https://gea.esac.esa.int/archive/documentation/GDR3/Gaia_archive/chap_datamodel/sec_dm_main_source_catalogue/ssec_dm_gaia_source.html#gaia_source-astrometric_primary_flag}{online documentation} & not used \\\\\n",
      "astrometric\\_excess\\_noise & \\href{https://gea.esac.esa.int/archive/documentation/GDR3/Gaia_archive/chap_datamodel/sec_dm_main_source_catalogue/ssec_dm_gaia_source.html#gaia_source-astrometric_excess_noise}{online documentation} &  \\\\\n",
      "astrometric\\_n\\_good\\_obs\\_al & \\href{https://gea.esac.esa.int/archive/documentation/GDR3/Gaia_archive/chap_datamodel/sec_dm_main_source_catalogue/ssec_dm_gaia_source.html#gaia_source-astrometric_n_good_obs_al}{online documentation} &  \\\\\n",
      "absolute\\_phot\\_g\\_mean\\_mag & absolute $G$ mag & computed \\\\\n",
      "\\bottomrule\n",
      "\\end{tabular}\n",
      "\n"
     ]
    }
   ],
   "source": [
    "# doc = pd.DataFrame()\n",
    "# doc['column_name']=gaia_source_columns_to_export\n",
    "\n",
    "# def nss_doc_link(col):\n",
    "#     if col in gaia_source_columns_to_export:\n",
    "#         return f\"[online documentation](https://gea.esac.esa.int/archive/documentation/GDR3/Gaia_archive/chap_datamodel/sec_dm_main_source_catalogue/ssec_dm_gaia_source.html#gaia_source-{col})\"\n",
    "#     else:\n",
    "#         return \"\"\n",
    "\n",
    "# doc['description'] = doc['column_name'].apply(nss_doc_link) \n",
    "\n",
    "# doc.loc[doc['column_name'] == 'absolute_phot_g_mean_mag', 'description'] = 'Estimated absolute G magnitude (mag)'\n",
    "# doc.loc[doc['column_name'] == 'has_filled_nans', 'description'] = \"For this source a NaN values had beed filled with a 'neutral' value.\"\n",
    "\n",
    "# # doc.loc[doc['column_name'] == 'p1_omega_deg', 'description'] = 'Argument of periastron (deg)'\n",
    "# # doc.loc[doc['column_name'] == 'p1_OMEGA_deg', 'description'] = 'Ascending node (deg)'\n",
    "# # doc.loc[doc['column_name'] == 'p1_incl_deg', 'description'] = 'Inclination (deg), 90deg is edge-on'\n",
    "# # doc.loc[doc['column_name'] == 'p1_period_day', 'description'] = 'copy of `period`'\n",
    "# print(doc.to_markdown())\n",
    "\n",
    "\n",
    "\n",
    "output='latex'    \n",
    "    \n",
    "doc = pd.DataFrame()\n",
    "doc['column_name']=gaia_source_columns_to_export\n",
    "gaia_source_columns_to_export_latex = [s.replace('_', '\\_') for s in gaia_source_columns_to_export]\n",
    "doc['column_name_latex'] = gaia_source_columns_to_export_latex\n",
    "\n",
    "\n",
    "def nss_doc_link(col):\n",
    "    if col in gaia_source_columns_to_export:\n",
    "        if output=='latex':\n",
    "            return f\"\\\\href{{https://gea.esac.esa.int/archive/documentation/GDR3/Gaia_archive/chap_datamodel/sec_dm_main_source_catalogue/ssec_dm_gaia_source.html#gaia_source-{col}}}{{online documentation}}\"\n",
    "        else:\n",
    "            return f\"[online documentation](https://gea.esac.esa.int/archive/documentation/GDR3/Gaia_archive/chap_datamodel/sec_dm_main_source_catalogue/ssec_dm_gaia_source.html#gaia_source-{col})\"\n",
    "    else:\n",
    "        return \"\"\n",
    "\n",
    "doc['description'] = doc['column_name'].apply(nss_doc_link) \n",
    "\n",
    "doc.loc[doc['column_name'] == 'absolute_phot_g_mean_mag', 'description'] = 'absolute $G$ mag'\n",
    "\n",
    "doc['comment'] = ''\n",
    "for c in ['parallax', 'pmra', 'pmdec', \"phot_g_mean_mag\"]:\n",
    "    doc.loc[doc['column_name'] == c, 'comment'] = 'confounder'\n",
    "for c in ['source_id', \"astrometric_primary_flag\"]:\n",
    "    doc.loc[doc['column_name'] == c, 'comment'] = 'not used'\n",
    "for c in ['absolute_phot_g_mean_mag']:\n",
    "    doc.loc[doc['column_name'] == c, 'comment'] = 'computed'\n",
    "\n",
    "doc = doc[~doc['column_name'].isin(['has_filled_nans', 'p1_period_day'])]    \n",
    "    \n",
    "print(doc[['column_name_latex', 'description', 'comment']].to_latex(index=False))\n",
    "\n",
    "\n"
   ]
  },
  {
   "cell_type": "markdown",
   "id": "f2e89537-dd7f-47ae-b0b9-2e90954be073",
   "metadata": {},
   "source": [
    "# fill NaNs with neutral values"
   ]
  },
  {
   "cell_type": "code",
   "execution_count": 39,
   "id": "294df77b-ae31-4436-9b26-7ca6fd649b7f",
   "metadata": {
    "tags": []
   },
   "outputs": [
    {
     "name": "stdout",
     "output_type": "stream",
     "text": [
      "'radial_velocity_error' 21460\n",
      "'radial_velocity_error' value 2.4064080715179443\n",
      "'radial_velocity' 21460\n",
      "phot_rp_mean_mag 2\n",
      "phot_rp_mean_mag value 12.675403594970703\n",
      "phot_bp_mean_mag 2\n",
      "phot_bp_mean_mag value 13.704318046569824\n",
      "bp_rp 2\n",
      "bp_rp value 0.9935998916625977\n",
      "phot_bp_rp_excess_factor 2\n",
      "phot_bp_rp_excess_factor value 1.2160660028457642\n"
     ]
    }
   ],
   "source": [
    "sel_index = gaia_source_selected['radial_velocity_error'].isna()\n",
    "print(f\"'radial_velocity_error' {sum(sel_index)}\")\n",
    "gaia_source_selected.loc[sel_index, 'radial_velocity_error'] = gaia_source_selected['radial_velocity_error'].median()\n",
    "print(f\"'radial_velocity_error' value {gaia_source_selected['radial_velocity_error'].median()}\")\n",
    "\n",
    "gaia_source_selected.loc[sel_index, 'has_filled_nans'] = 1\n",
    "\n",
    "sel_index = gaia_source_selected['radial_velocity'].isna()\n",
    "print(f\"'radial_velocity' {sum(sel_index)}\")\n",
    "gaia_source_selected.loc[sel_index, 'radial_velocity'] = 0.\n",
    "gaia_source_selected.loc[sel_index, 'has_filled_nans'] = 1\n",
    "\n",
    "for col in ['phot_rp_mean_mag', 'phot_bp_mean_mag', 'bp_rp', 'phot_bp_rp_excess_factor']:\n",
    "    sel_index = gaia_source_selected[col].isna()\n",
    "    print(f\"{col} {sum(sel_index)}\")\n",
    "    gaia_source_selected.loc[sel_index, col] = gaia_source_selected[col].median()\n",
    "    print(f\"{col} value {gaia_source_selected[col].median()}\")\n",
    "    gaia_source_selected.loc[sel_index, 'has_filled_nans'] = 1\n",
    "\n",
    "# sel_index = gaia_source_selected[].isna()\n",
    "# gaia_source_selected.loc[sel_index, 'phot_bp_mean_mag'] = gaia_source_selected['phot_bp_mean_mag'].median()\n",
    "# gaia_source_selected.loc[sel_index, 'has_filled_nans'] = 1\n",
    "\n"
   ]
  },
  {
   "cell_type": "code",
   "execution_count": 40,
   "id": "f471a414-6ad2-4876-99ad-82d1db4e2cdb",
   "metadata": {},
   "outputs": [
    {
     "data": {
      "text/plain": [
       "source_id                       False\n",
       "ra                              False\n",
       "dec                             False\n",
       "parallax                        False\n",
       "parallax_error                  False\n",
       "pmra                            False\n",
       "pmdec                           False\n",
       "visibility_periods_used         False\n",
       "radial_velocity                 False\n",
       "radial_velocity_error           False\n",
       "astrometric_chi2_al             False\n",
       "ipd_gof_harmonic_amplitude      False\n",
       "bp_rp                           False\n",
       "phot_bp_rp_excess_factor        False\n",
       "ruwe                            False\n",
       "phot_g_mean_mag                 False\n",
       "phot_rp_mean_mag                False\n",
       "phot_bp_mean_mag                False\n",
       "astrometric_excess_noise_sig    False\n",
       "astrometric_primary_flag        False\n",
       "astrometric_excess_noise        False\n",
       "astrometric_n_good_obs_al       False\n",
       "absolute_phot_g_mean_mag        False\n",
       "has_filled_nans                 False\n",
       "dtype: bool"
      ]
     },
     "execution_count": 40,
     "metadata": {},
     "output_type": "execute_result"
    }
   ],
   "source": [
    "gaia_source_selected[gaia_source_columns_to_export].isna().any()"
   ]
  },
  {
   "cell_type": "code",
   "execution_count": 41,
   "id": "a640eb42-4525-40e0-bc6d-0bc62581603a",
   "metadata": {},
   "outputs": [
    {
     "name": "stdout",
     "output_type": "stream",
     "text": [
      "0\n"
     ]
    }
   ],
   "source": [
    "print(len(gaia_source_selected)-gaia_source_selected['source_id'].nunique())"
   ]
  },
  {
   "cell_type": "code",
   "execution_count": 42,
   "id": "a7528e44-04a1-4234-901f-747aed4d6bee",
   "metadata": {
    "tags": []
   },
   "outputs": [
    {
     "name": "stderr",
     "output_type": "stream",
     "text": [
      "INFO:root:Wrote /media/team_workspaces/Gaia-Orbit-Classification/sandbox/dataset_v0.6/gaia_source_astrometric_orbits.parquet\n"
     ]
    }
   ],
   "source": [
    "assert len(gaia_source_selected) == gaia_source_selected['source_id'].nunique()\n",
    "\n",
    "outfile = os.path.join(out_path, 'gaia_source_astrometric_orbits.parquet')\n",
    "if (overwrite) or (~os.path.isfile(outfile)):    \n",
    "    gaia_source_selected[gaia_source_columns_to_export].to_parquet(outfile)\n",
    "    logging.info(f\"Wrote {outfile}\")\n"
   ]
  },
  {
   "cell_type": "code",
   "execution_count": 43,
   "id": "f0e9e179-7f45-4d56-81bf-ae336093561a",
   "metadata": {
    "tags": []
   },
   "outputs": [
    {
     "data": {
      "text/plain": [
       "has_filled_nans\n",
       "0    147667\n",
       "1     21462\n",
       "Name: count, dtype: int64"
      ]
     },
     "execution_count": 43,
     "metadata": {},
     "output_type": "execute_result"
    }
   ],
   "source": [
    "gaia_source_selected['has_filled_nans'].value_counts()"
   ]
  },
  {
   "cell_type": "code",
   "execution_count": 44,
   "id": "bac2d903-473a-414b-9186-2e6a4fe0bdf3",
   "metadata": {},
   "outputs": [
    {
     "name": "stdout",
     "output_type": "stream",
     "text": [
      "<class 'pandas.core.frame.DataFrame'>\n",
      "RangeIndex: 169129 entries, 0 to 169128\n",
      "Data columns (total 24 columns):\n",
      " #   Column                        Non-Null Count   Dtype  \n",
      "---  ------                        --------------   -----  \n",
      " 0   source_id                     169129 non-null  int64  \n",
      " 1   ra                            169129 non-null  float64\n",
      " 2   dec                           169129 non-null  float64\n",
      " 3   parallax                      169129 non-null  float64\n",
      " 4   parallax_error                169129 non-null  float32\n",
      " 5   pmra                          169129 non-null  float64\n",
      " 6   pmdec                         169129 non-null  float64\n",
      " 7   visibility_periods_used       169129 non-null  int16  \n",
      " 8   radial_velocity               169129 non-null  float32\n",
      " 9   radial_velocity_error         169129 non-null  float32\n",
      " 10  astrometric_chi2_al           169129 non-null  float32\n",
      " 11  ipd_gof_harmonic_amplitude    169129 non-null  float32\n",
      " 12  bp_rp                         169129 non-null  float32\n",
      " 13  phot_bp_rp_excess_factor      169129 non-null  float32\n",
      " 14  ruwe                          169129 non-null  float32\n",
      " 15  phot_g_mean_mag               169129 non-null  float32\n",
      " 16  phot_rp_mean_mag              169129 non-null  float32\n",
      " 17  phot_bp_mean_mag              169129 non-null  float32\n",
      " 18  astrometric_excess_noise_sig  169129 non-null  float32\n",
      " 19  astrometric_primary_flag      169129 non-null  bool   \n",
      " 20  astrometric_excess_noise      169129 non-null  float32\n",
      " 21  astrometric_n_good_obs_al     169129 non-null  int16  \n",
      " 22  absolute_phot_g_mean_mag      169129 non-null  float64\n",
      " 23  has_filled_nans               169129 non-null  int64  \n",
      "dtypes: bool(1), float32(13), float64(6), int16(2), int64(2)\n",
      "memory usage: 19.5 MB\n"
     ]
    }
   ],
   "source": [
    "gaia_source_selected[gaia_source_columns_to_export].info()"
   ]
  },
  {
   "cell_type": "code",
   "execution_count": 45,
   "id": "f9a9322e-bf61-4ece-9e81-22ff860b7cd0",
   "metadata": {
    "tags": []
   },
   "outputs": [],
   "source": [
    "\n",
    "# gaia_source_selected.hist('phot_rp_mean_mag', bins=100)"
   ]
  },
  {
   "cell_type": "code",
   "execution_count": null,
   "id": "5934afcc-84f4-4c9e-a2b4-e563a52c486e",
   "metadata": {},
   "outputs": [],
   "source": []
  }
 ],
 "metadata": {
  "kernelspec": {
   "display_name": "gorbit",
   "language": "python",
   "name": "gorbit"
  },
  "language_info": {
   "codemirror_mode": {
    "name": "ipython",
    "version": 3
   },
   "file_extension": ".py",
   "mimetype": "text/x-python",
   "name": "python",
   "nbconvert_exporter": "python",
   "pygments_lexer": "ipython3",
   "version": "3.9.18"
  }
 },
 "nbformat": 4,
 "nbformat_minor": 5
}
